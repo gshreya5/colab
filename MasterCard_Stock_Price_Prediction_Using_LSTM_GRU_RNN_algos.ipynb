{
  "nbformat": 4,
  "nbformat_minor": 0,
  "metadata": {
    "colab": {
      "provenance": [],
      "authorship_tag": "ABX9TyNzQdMd5SsNjgtxmpcDSU55",
      "include_colab_link": true
    },
    "kernelspec": {
      "name": "python3",
      "display_name": "Python 3"
    },
    "language_info": {
      "name": "python"
    }
  },
  "cells": [
    {
      "cell_type": "markdown",
      "metadata": {
        "id": "view-in-github",
        "colab_type": "text"
      },
      "source": [
        "<a href=\"https://colab.research.google.com/github/gshreya5/colab/blob/main/MasterCard_Stock_Price_Prediction_Using_LSTM_GRU_RNN_algos.ipynb\" target=\"_parent\"><img src=\"https://colab.research.google.com/assets/colab-badge.svg\" alt=\"Open In Colab\"/></a>"
      ]
    },
    {
      "cell_type": "markdown",
      "source": [
        "# MasterCard Stock Price Prediction Using LSTM & GRU"
      ],
      "metadata": {
        "id": "71-Cmbg6-M8x"
      }
    },
    {
      "cell_type": "markdown",
      "source": [
        "We are going to use  MASTERCARD (MA) stock data via yfinance api's to train the LSTM and GRU models to forecast the stock price."
      ],
      "metadata": {
        "id": "x9jR8hpH-XSu"
      }
    },
    {
      "cell_type": "markdown",
      "source": [
        "# Importing the libraries\n"
      ],
      "metadata": {
        "id": "7xmF3cBcAbbv"
      }
    },
    {
      "cell_type": "code",
      "source": [
        "!pip install yfinance --quiet"
      ],
      "metadata": {
        "id": "GxKt7opv-6it"
      },
      "execution_count": 195,
      "outputs": []
    },
    {
      "cell_type": "code",
      "source": [
        "from pandas_datareader import data as pdr\n",
        "import yfinance as yf\n",
        "\n",
        "import numpy as np\n",
        "import pandas as pd\n",
        "import matplotlib.pyplot as plt\n",
        "\n",
        "from sklearn.preprocessing import MinMaxScaler\n",
        "from sklearn.metrics import mean_squared_error\n",
        "\n",
        "from tensorflow.keras.models import Sequential\n",
        "from tensorflow.keras.layers import Dense, LSTM, Dropout, GRU\n",
        "from tensorflow.random import set_seed\n",
        "\n",
        "set_seed(455)\n",
        "np.random.seed(455)"
      ],
      "metadata": {
        "id": "op-7YmPs-N9i"
      },
      "execution_count": 196,
      "outputs": []
    },
    {
      "cell_type": "markdown",
      "source": [
        "# Loading Dataset"
      ],
      "metadata": {
        "id": "G8xaI_M4CltV"
      }
    },
    {
      "cell_type": "code",
      "source": [
        "yf.pdr_override() # <== that's all it takes :-)\n",
        "\n",
        "# download dataframe\n",
        "data = pdr.get_data_yahoo(\"MA\", start=\"2006-05-01\", end=None)"
      ],
      "metadata": {
        "colab": {
          "base_uri": "https://localhost:8080/"
        },
        "id": "6Yy4RYldA1Tp",
        "outputId": "8ca34f6d-c49e-4b16-cca8-80a27e5930e8"
      },
      "execution_count": 197,
      "outputs": [
        {
          "output_type": "stream",
          "name": "stdout",
          "text": [
            "\r[*********************100%***********************]  1 of 1 completed\n"
          ]
        }
      ]
    },
    {
      "cell_type": "code",
      "source": [
        "data.head(5)"
      ],
      "metadata": {
        "colab": {
          "base_uri": "https://localhost:8080/",
          "height": 238
        },
        "id": "fsYvheWOCFdE",
        "outputId": "0a441d94-28b4-4f50-865b-4429a8dfc6cb"
      },
      "execution_count": 198,
      "outputs": [
        {
          "output_type": "execute_result",
          "data": {
            "text/plain": [
              "             Open   High    Low  Close  Adj Close     Volume\n",
              "Date                                                        \n",
              "2006-05-25  4.030  4.605  4.020  4.600   4.247397  395343000\n",
              "2006-05-26  4.630  4.674  4.411  4.493   4.148599  103044000\n",
              "2006-05-30  4.497  4.498  4.285  4.400   4.062729   49898000\n",
              "2006-05-31  4.435  4.536  4.435  4.494   4.149523   30002000\n",
              "2006-06-01  4.493  4.810  4.490  4.751   4.386822   62344000"
            ],
            "text/html": [
              "\n",
              "  <div id=\"df-982137d7-e359-4bed-8bed-e71f439345c2\">\n",
              "    <div class=\"colab-df-container\">\n",
              "      <div>\n",
              "<style scoped>\n",
              "    .dataframe tbody tr th:only-of-type {\n",
              "        vertical-align: middle;\n",
              "    }\n",
              "\n",
              "    .dataframe tbody tr th {\n",
              "        vertical-align: top;\n",
              "    }\n",
              "\n",
              "    .dataframe thead th {\n",
              "        text-align: right;\n",
              "    }\n",
              "</style>\n",
              "<table border=\"1\" class=\"dataframe\">\n",
              "  <thead>\n",
              "    <tr style=\"text-align: right;\">\n",
              "      <th></th>\n",
              "      <th>Open</th>\n",
              "      <th>High</th>\n",
              "      <th>Low</th>\n",
              "      <th>Close</th>\n",
              "      <th>Adj Close</th>\n",
              "      <th>Volume</th>\n",
              "    </tr>\n",
              "    <tr>\n",
              "      <th>Date</th>\n",
              "      <th></th>\n",
              "      <th></th>\n",
              "      <th></th>\n",
              "      <th></th>\n",
              "      <th></th>\n",
              "      <th></th>\n",
              "    </tr>\n",
              "  </thead>\n",
              "  <tbody>\n",
              "    <tr>\n",
              "      <th>2006-05-25</th>\n",
              "      <td>4.030</td>\n",
              "      <td>4.605</td>\n",
              "      <td>4.020</td>\n",
              "      <td>4.600</td>\n",
              "      <td>4.247397</td>\n",
              "      <td>395343000</td>\n",
              "    </tr>\n",
              "    <tr>\n",
              "      <th>2006-05-26</th>\n",
              "      <td>4.630</td>\n",
              "      <td>4.674</td>\n",
              "      <td>4.411</td>\n",
              "      <td>4.493</td>\n",
              "      <td>4.148599</td>\n",
              "      <td>103044000</td>\n",
              "    </tr>\n",
              "    <tr>\n",
              "      <th>2006-05-30</th>\n",
              "      <td>4.497</td>\n",
              "      <td>4.498</td>\n",
              "      <td>4.285</td>\n",
              "      <td>4.400</td>\n",
              "      <td>4.062729</td>\n",
              "      <td>49898000</td>\n",
              "    </tr>\n",
              "    <tr>\n",
              "      <th>2006-05-31</th>\n",
              "      <td>4.435</td>\n",
              "      <td>4.536</td>\n",
              "      <td>4.435</td>\n",
              "      <td>4.494</td>\n",
              "      <td>4.149523</td>\n",
              "      <td>30002000</td>\n",
              "    </tr>\n",
              "    <tr>\n",
              "      <th>2006-06-01</th>\n",
              "      <td>4.493</td>\n",
              "      <td>4.810</td>\n",
              "      <td>4.490</td>\n",
              "      <td>4.751</td>\n",
              "      <td>4.386822</td>\n",
              "      <td>62344000</td>\n",
              "    </tr>\n",
              "  </tbody>\n",
              "</table>\n",
              "</div>\n",
              "      <button class=\"colab-df-convert\" onclick=\"convertToInteractive('df-982137d7-e359-4bed-8bed-e71f439345c2')\"\n",
              "              title=\"Convert this dataframe to an interactive table.\"\n",
              "              style=\"display:none;\">\n",
              "        \n",
              "  <svg xmlns=\"http://www.w3.org/2000/svg\" height=\"24px\"viewBox=\"0 0 24 24\"\n",
              "       width=\"24px\">\n",
              "    <path d=\"M0 0h24v24H0V0z\" fill=\"none\"/>\n",
              "    <path d=\"M18.56 5.44l.94 2.06.94-2.06 2.06-.94-2.06-.94-.94-2.06-.94 2.06-2.06.94zm-11 1L8.5 8.5l.94-2.06 2.06-.94-2.06-.94L8.5 2.5l-.94 2.06-2.06.94zm10 10l.94 2.06.94-2.06 2.06-.94-2.06-.94-.94-2.06-.94 2.06-2.06.94z\"/><path d=\"M17.41 7.96l-1.37-1.37c-.4-.4-.92-.59-1.43-.59-.52 0-1.04.2-1.43.59L10.3 9.45l-7.72 7.72c-.78.78-.78 2.05 0 2.83L4 21.41c.39.39.9.59 1.41.59.51 0 1.02-.2 1.41-.59l7.78-7.78 2.81-2.81c.8-.78.8-2.07 0-2.86zM5.41 20L4 18.59l7.72-7.72 1.47 1.35L5.41 20z\"/>\n",
              "  </svg>\n",
              "      </button>\n",
              "      \n",
              "  <style>\n",
              "    .colab-df-container {\n",
              "      display:flex;\n",
              "      flex-wrap:wrap;\n",
              "      gap: 12px;\n",
              "    }\n",
              "\n",
              "    .colab-df-convert {\n",
              "      background-color: #E8F0FE;\n",
              "      border: none;\n",
              "      border-radius: 50%;\n",
              "      cursor: pointer;\n",
              "      display: none;\n",
              "      fill: #1967D2;\n",
              "      height: 32px;\n",
              "      padding: 0 0 0 0;\n",
              "      width: 32px;\n",
              "    }\n",
              "\n",
              "    .colab-df-convert:hover {\n",
              "      background-color: #E2EBFA;\n",
              "      box-shadow: 0px 1px 2px rgba(60, 64, 67, 0.3), 0px 1px 3px 1px rgba(60, 64, 67, 0.15);\n",
              "      fill: #174EA6;\n",
              "    }\n",
              "\n",
              "    [theme=dark] .colab-df-convert {\n",
              "      background-color: #3B4455;\n",
              "      fill: #D2E3FC;\n",
              "    }\n",
              "\n",
              "    [theme=dark] .colab-df-convert:hover {\n",
              "      background-color: #434B5C;\n",
              "      box-shadow: 0px 1px 3px 1px rgba(0, 0, 0, 0.15);\n",
              "      filter: drop-shadow(0px 1px 2px rgba(0, 0, 0, 0.3));\n",
              "      fill: #FFFFFF;\n",
              "    }\n",
              "  </style>\n",
              "\n",
              "      <script>\n",
              "        const buttonEl =\n",
              "          document.querySelector('#df-982137d7-e359-4bed-8bed-e71f439345c2 button.colab-df-convert');\n",
              "        buttonEl.style.display =\n",
              "          google.colab.kernel.accessAllowed ? 'block' : 'none';\n",
              "\n",
              "        async function convertToInteractive(key) {\n",
              "          const element = document.querySelector('#df-982137d7-e359-4bed-8bed-e71f439345c2');\n",
              "          const dataTable =\n",
              "            await google.colab.kernel.invokeFunction('convertToInteractive',\n",
              "                                                     [key], {});\n",
              "          if (!dataTable) return;\n",
              "\n",
              "          const docLinkHtml = 'Like what you see? Visit the ' +\n",
              "            '<a target=\"_blank\" href=https://colab.research.google.com/notebooks/data_table.ipynb>data table notebook</a>'\n",
              "            + ' to learn more about interactive tables.';\n",
              "          element.innerHTML = '';\n",
              "          dataTable['output_type'] = 'display_data';\n",
              "          await google.colab.output.renderOutput(dataTable, element);\n",
              "          const docLink = document.createElement('div');\n",
              "          docLink.innerHTML = docLinkHtml;\n",
              "          element.appendChild(docLink);\n",
              "        }\n",
              "      </script>\n",
              "    </div>\n",
              "  </div>\n",
              "  "
            ]
          },
          "metadata": {},
          "execution_count": 198
        }
      ]
    },
    {
      "cell_type": "markdown",
      "source": [
        "# Data Analysis"
      ],
      "metadata": {
        "id": "XjUM1zk6CrNA"
      }
    },
    {
      "cell_type": "markdown",
      "source": [
        "Converting Date column to DateTime format "
      ],
      "metadata": {
        "id": "57FVz0cQCtCL"
      }
    },
    {
      "cell_type": "code",
      "source": [
        "data.index = pd.DatetimeIndex(data.index)"
      ],
      "metadata": {
        "id": "TLl14yFwCHBu"
      },
      "execution_count": 199,
      "outputs": []
    },
    {
      "cell_type": "markdown",
      "source": [
        "Dropping irrelevant columns"
      ],
      "metadata": {
        "id": "S9hTmQPwC8Qv"
      }
    },
    {
      "cell_type": "code",
      "source": [
        "del data['Adj Close']"
      ],
      "metadata": {
        "id": "EpcWdxbWCqgz"
      },
      "execution_count": 200,
      "outputs": []
    },
    {
      "cell_type": "code",
      "source": [
        "data.describe()"
      ],
      "metadata": {
        "colab": {
          "base_uri": "https://localhost:8080/",
          "height": 300
        },
        "id": "P4ueXR1UDh-L",
        "outputId": "1626fab9-96ed-48c5-bb99-854a35efc544"
      },
      "execution_count": 201,
      "outputs": [
        {
          "output_type": "execute_result",
          "data": {
            "text/plain": [
              "              Open         High          Low        Close        Volume\n",
              "count  4210.000000  4210.000000  4210.000000  4210.000000  4.210000e+03\n",
              "mean    126.137671   127.511181   124.727472   126.156848  1.162510e+07\n",
              "std     120.874340   122.258260   119.439865   120.875793  1.704617e+07\n",
              "min       4.030000     4.410000     4.020000     4.390000  6.411000e+05\n",
              "25%      24.725000    25.034249    24.500000    24.740500  3.386650e+06\n",
              "50%      81.068501    82.243500    79.886501    81.349998  5.420000e+06\n",
              "75%     208.285000   210.277496   205.732494   208.334999  1.207325e+07\n",
              "max     393.149994   401.500000   390.700012   396.750000  3.953430e+08"
            ],
            "text/html": [
              "\n",
              "  <div id=\"df-d382ce58-a841-437e-b2af-3168a7293e24\">\n",
              "    <div class=\"colab-df-container\">\n",
              "      <div>\n",
              "<style scoped>\n",
              "    .dataframe tbody tr th:only-of-type {\n",
              "        vertical-align: middle;\n",
              "    }\n",
              "\n",
              "    .dataframe tbody tr th {\n",
              "        vertical-align: top;\n",
              "    }\n",
              "\n",
              "    .dataframe thead th {\n",
              "        text-align: right;\n",
              "    }\n",
              "</style>\n",
              "<table border=\"1\" class=\"dataframe\">\n",
              "  <thead>\n",
              "    <tr style=\"text-align: right;\">\n",
              "      <th></th>\n",
              "      <th>Open</th>\n",
              "      <th>High</th>\n",
              "      <th>Low</th>\n",
              "      <th>Close</th>\n",
              "      <th>Volume</th>\n",
              "    </tr>\n",
              "  </thead>\n",
              "  <tbody>\n",
              "    <tr>\n",
              "      <th>count</th>\n",
              "      <td>4210.000000</td>\n",
              "      <td>4210.000000</td>\n",
              "      <td>4210.000000</td>\n",
              "      <td>4210.000000</td>\n",
              "      <td>4.210000e+03</td>\n",
              "    </tr>\n",
              "    <tr>\n",
              "      <th>mean</th>\n",
              "      <td>126.137671</td>\n",
              "      <td>127.511181</td>\n",
              "      <td>124.727472</td>\n",
              "      <td>126.156848</td>\n",
              "      <td>1.162510e+07</td>\n",
              "    </tr>\n",
              "    <tr>\n",
              "      <th>std</th>\n",
              "      <td>120.874340</td>\n",
              "      <td>122.258260</td>\n",
              "      <td>119.439865</td>\n",
              "      <td>120.875793</td>\n",
              "      <td>1.704617e+07</td>\n",
              "    </tr>\n",
              "    <tr>\n",
              "      <th>min</th>\n",
              "      <td>4.030000</td>\n",
              "      <td>4.410000</td>\n",
              "      <td>4.020000</td>\n",
              "      <td>4.390000</td>\n",
              "      <td>6.411000e+05</td>\n",
              "    </tr>\n",
              "    <tr>\n",
              "      <th>25%</th>\n",
              "      <td>24.725000</td>\n",
              "      <td>25.034249</td>\n",
              "      <td>24.500000</td>\n",
              "      <td>24.740500</td>\n",
              "      <td>3.386650e+06</td>\n",
              "    </tr>\n",
              "    <tr>\n",
              "      <th>50%</th>\n",
              "      <td>81.068501</td>\n",
              "      <td>82.243500</td>\n",
              "      <td>79.886501</td>\n",
              "      <td>81.349998</td>\n",
              "      <td>5.420000e+06</td>\n",
              "    </tr>\n",
              "    <tr>\n",
              "      <th>75%</th>\n",
              "      <td>208.285000</td>\n",
              "      <td>210.277496</td>\n",
              "      <td>205.732494</td>\n",
              "      <td>208.334999</td>\n",
              "      <td>1.207325e+07</td>\n",
              "    </tr>\n",
              "    <tr>\n",
              "      <th>max</th>\n",
              "      <td>393.149994</td>\n",
              "      <td>401.500000</td>\n",
              "      <td>390.700012</td>\n",
              "      <td>396.750000</td>\n",
              "      <td>3.953430e+08</td>\n",
              "    </tr>\n",
              "  </tbody>\n",
              "</table>\n",
              "</div>\n",
              "      <button class=\"colab-df-convert\" onclick=\"convertToInteractive('df-d382ce58-a841-437e-b2af-3168a7293e24')\"\n",
              "              title=\"Convert this dataframe to an interactive table.\"\n",
              "              style=\"display:none;\">\n",
              "        \n",
              "  <svg xmlns=\"http://www.w3.org/2000/svg\" height=\"24px\"viewBox=\"0 0 24 24\"\n",
              "       width=\"24px\">\n",
              "    <path d=\"M0 0h24v24H0V0z\" fill=\"none\"/>\n",
              "    <path d=\"M18.56 5.44l.94 2.06.94-2.06 2.06-.94-2.06-.94-.94-2.06-.94 2.06-2.06.94zm-11 1L8.5 8.5l.94-2.06 2.06-.94-2.06-.94L8.5 2.5l-.94 2.06-2.06.94zm10 10l.94 2.06.94-2.06 2.06-.94-2.06-.94-.94-2.06-.94 2.06-2.06.94z\"/><path d=\"M17.41 7.96l-1.37-1.37c-.4-.4-.92-.59-1.43-.59-.52 0-1.04.2-1.43.59L10.3 9.45l-7.72 7.72c-.78.78-.78 2.05 0 2.83L4 21.41c.39.39.9.59 1.41.59.51 0 1.02-.2 1.41-.59l7.78-7.78 2.81-2.81c.8-.78.8-2.07 0-2.86zM5.41 20L4 18.59l7.72-7.72 1.47 1.35L5.41 20z\"/>\n",
              "  </svg>\n",
              "      </button>\n",
              "      \n",
              "  <style>\n",
              "    .colab-df-container {\n",
              "      display:flex;\n",
              "      flex-wrap:wrap;\n",
              "      gap: 12px;\n",
              "    }\n",
              "\n",
              "    .colab-df-convert {\n",
              "      background-color: #E8F0FE;\n",
              "      border: none;\n",
              "      border-radius: 50%;\n",
              "      cursor: pointer;\n",
              "      display: none;\n",
              "      fill: #1967D2;\n",
              "      height: 32px;\n",
              "      padding: 0 0 0 0;\n",
              "      width: 32px;\n",
              "    }\n",
              "\n",
              "    .colab-df-convert:hover {\n",
              "      background-color: #E2EBFA;\n",
              "      box-shadow: 0px 1px 2px rgba(60, 64, 67, 0.3), 0px 1px 3px 1px rgba(60, 64, 67, 0.15);\n",
              "      fill: #174EA6;\n",
              "    }\n",
              "\n",
              "    [theme=dark] .colab-df-convert {\n",
              "      background-color: #3B4455;\n",
              "      fill: #D2E3FC;\n",
              "    }\n",
              "\n",
              "    [theme=dark] .colab-df-convert:hover {\n",
              "      background-color: #434B5C;\n",
              "      box-shadow: 0px 1px 3px 1px rgba(0, 0, 0, 0.15);\n",
              "      filter: drop-shadow(0px 1px 2px rgba(0, 0, 0, 0.3));\n",
              "      fill: #FFFFFF;\n",
              "    }\n",
              "  </style>\n",
              "\n",
              "      <script>\n",
              "        const buttonEl =\n",
              "          document.querySelector('#df-d382ce58-a841-437e-b2af-3168a7293e24 button.colab-df-convert');\n",
              "        buttonEl.style.display =\n",
              "          google.colab.kernel.accessAllowed ? 'block' : 'none';\n",
              "\n",
              "        async function convertToInteractive(key) {\n",
              "          const element = document.querySelector('#df-d382ce58-a841-437e-b2af-3168a7293e24');\n",
              "          const dataTable =\n",
              "            await google.colab.kernel.invokeFunction('convertToInteractive',\n",
              "                                                     [key], {});\n",
              "          if (!dataTable) return;\n",
              "\n",
              "          const docLinkHtml = 'Like what you see? Visit the ' +\n",
              "            '<a target=\"_blank\" href=https://colab.research.google.com/notebooks/data_table.ipynb>data table notebook</a>'\n",
              "            + ' to learn more about interactive tables.';\n",
              "          element.innerHTML = '';\n",
              "          dataTable['output_type'] = 'display_data';\n",
              "          await google.colab.output.renderOutput(dataTable, element);\n",
              "          const docLink = document.createElement('div');\n",
              "          docLink.innerHTML = docLinkHtml;\n",
              "          element.appendChild(docLink);\n",
              "        }\n",
              "      </script>\n",
              "    </div>\n",
              "  </div>\n",
              "  "
            ]
          },
          "metadata": {},
          "execution_count": 201
        }
      ]
    },
    {
      "cell_type": "code",
      "source": [
        "min  = round(data.describe().High.loc['min'],2)\n",
        "max  = round(data.describe().High.loc['max'],2)\n",
        "mean  = round(data.describe().High.loc['mean'],2)\n",
        "std  = round(data.describe().High.loc['std'],2)"
      ],
      "metadata": {
        "id": "FHQ70k4jExRW"
      },
      "execution_count": 202,
      "outputs": []
    },
    {
      "cell_type": "code",
      "source": [
        "print(f'Analyzing High column : \\nThe minimum stock price is ${min}, and the highest is ${max}. The mean is at ${mean} \\nand the standard deviation ${std}, which means that stocks have high variance.')"
      ],
      "metadata": {
        "colab": {
          "base_uri": "https://localhost:8080/"
        },
        "id": "re6IZM02Doru",
        "outputId": "9d4982cc-5350-4c89-9a0f-7f6ba4649d9e"
      },
      "execution_count": 203,
      "outputs": [
        {
          "output_type": "stream",
          "name": "stdout",
          "text": [
            "Analyzing High column : \n",
            "The minimum stock price is $4.41, and the highest is $401.5. The mean is at $127.51 \n",
            "and the standard deviation $122.26, which means that stocks have high variance.\n"
          ]
        }
      ]
    },
    {
      "cell_type": "markdown",
      "source": [
        "Check for missing values"
      ],
      "metadata": {
        "id": "bnsYV_82HZzM"
      }
    },
    {
      "cell_type": "code",
      "source": [
        "data.isna().sum()"
      ],
      "metadata": {
        "colab": {
          "base_uri": "https://localhost:8080/"
        },
        "id": "RvY6FJ63EENw",
        "outputId": "d928d8b9-2cff-45a2-e3e8-6bf204b41639"
      },
      "execution_count": 204,
      "outputs": [
        {
          "output_type": "execute_result",
          "data": {
            "text/plain": [
              "Open      0\n",
              "High      0\n",
              "Low       0\n",
              "Close     0\n",
              "Volume    0\n",
              "dtype: int64"
            ]
          },
          "metadata": {},
          "execution_count": 204
        }
      ]
    },
    {
      "cell_type": "markdown",
      "source": [
        "# Data Visualization"
      ],
      "metadata": {
        "id": "yth0Aj8VZtiO"
      }
    },
    {
      "cell_type": "code",
      "source": [
        "tstart = 2016\n",
        "tend = 2020\n",
        "\n",
        "def train_test_plot(data, tstart, tend):\n",
        "    data.loc[f\"{tstart}\":f\"{tend}\", \"High\"].plot(figsize=(16, 4), legend=True)\n",
        "    data.loc[f\"{tend+1}\":, \"High\"].plot(figsize=(16, 4), legend=True)\n",
        "    plt.legend([f\"Train (Before {tend+1})\", f\"Test ({tend+1} and beyond)\"])\n",
        "    plt.title(\"MasterCard stock price\")\n",
        "    plt.show()\n",
        "\n",
        "train_test_plot(data,tstart,tend)"
      ],
      "metadata": {
        "colab": {
          "base_uri": "https://localhost:8080/",
          "height": 285
        },
        "id": "IVpgrOwNHYdO",
        "outputId": "38c7dce8-328d-4265-c818-d97ba91d253c"
      },
      "execution_count": 205,
      "outputs": [
        {
          "output_type": "display_data",
          "data": {
            "text/plain": [
              "<Figure size 1152x288 with 1 Axes>"
            ],
            "image/png": "[encoded data removed]"
          },
          "metadata": {
            "needs_background": "light"
          }
        }
      ]
    },
    {
      "cell_type": "markdown",
      "source": [
        "# Data Preprocessing\n"
      ],
      "metadata": {
        "id": "3NLkxLm8IpMX"
      }
    },
    {
      "cell_type": "markdown",
      "source": [
        "The train_test_split function divides the dataset into two subsets: training_set and test_set."
      ],
      "metadata": {
        "id": "ZULcJKRgI3Bu"
      }
    },
    {
      "cell_type": "code",
      "source": [
        "def train_test_split(dataset, tstart, tend):\n",
        "    train = dataset.loc[f\"{tstart}\":f\"{tend}\", \"High\"].values\n",
        "    test = dataset.loc[f\"{tend+1}\":, \"High\"].values\n",
        "    return train, test\n",
        "training_set, test_set = train_test_split(data, tstart, tend)"
      ],
      "metadata": {
        "id": "3MWdB5_DIoh1"
      },
      "execution_count": 206,
      "outputs": []
    },
    {
      "cell_type": "markdown",
      "source": [
        "We will use the MinMaxScaler function to standardize our training set, which will help us avoid the outliers or anomalies."
      ],
      "metadata": {
        "id": "Z9p35UI5JCMw"
      }
    },
    {
      "cell_type": "code",
      "source": [
        "sc = MinMaxScaler(feature_range=(0, 1))\n",
        "training_set = training_set.reshape(-1, 1)\n",
        "training_set_scaled = sc.fit_transform(training_set)"
      ],
      "metadata": {
        "id": "cCY-72oOHw0Z"
      },
      "execution_count": 207,
      "outputs": []
    },
    {
      "cell_type": "markdown",
      "source": [
        "The split_sequence function uses a training dataset and converts it into inputs (X_train, seq of length nsteps)  and outputs (y_train, o/p to those seq).\n",
        "```\n",
        "Ex : 123456 to\n",
        "123 - 4\n",
        "234 - 5\n",
        "345 - 6\n",
        "```\n",
        "\n"
      ],
      "metadata": {
        "id": "r7dAnuETJ7Q0"
      }
    },
    {
      "cell_type": "code",
      "source": [
        "def split_sequence(sequence, n_steps):\n",
        "    X, y = list(), list()\n",
        "    for i in range(len(sequence)):\n",
        "        end_ix = i + n_steps\n",
        "        if end_ix > len(sequence) - 1:\n",
        "            break\n",
        "        seq_x, seq_y = sequence[i:end_ix], sequence[end_ix]\n",
        "        X.append(seq_x)\n",
        "        y.append(seq_y)\n",
        "    return np.array(X), np.array(y)\n",
        "\n",
        "\n",
        "n_steps = 60\n",
        "features = 1\n",
        "# split into samples\n",
        "X_train, y_train = split_sequence(training_set_scaled, n_steps)"
      ],
      "metadata": {
        "id": "TfV2eb7JJTXt"
      },
      "execution_count": 208,
      "outputs": []
    },
    {
      "cell_type": "markdown",
      "source": [
        "We are working with univariate series, so the number of features is one, and we need to reshape the X_train to fit on the LSTM model. The X_train has [samples, timesteps], and we will reshape it to [samples, timesteps, features]."
      ],
      "metadata": {
        "id": "xlwmiqBzKPzo"
      }
    },
    {
      "cell_type": "code",
      "source": [
        "# Reshaping X_train for model\n",
        "X_train = X_train.reshape(X_train.shape[0],X_train.shape[1],features)"
      ],
      "metadata": {
        "id": "NwbIFfa-Jkxg"
      },
      "execution_count": 209,
      "outputs": []
    },
    {
      "cell_type": "markdown",
      "source": [
        "# LSTM Model\n"
      ],
      "metadata": {
        "id": "nuIzQPAXKwox"
      }
    },
    {
      "cell_type": "code",
      "source": [
        "UNITS = 125"
      ],
      "metadata": {
        "id": "2dkJPapsK_Qh"
      },
      "execution_count": 210,
      "outputs": []
    },
    {
      "cell_type": "code",
      "source": [
        "# The LSTM architecture\n",
        "model_lstm = Sequential()\n",
        "model_lstm.add(LSTM(units=UNITS, activation=\"tanh\", input_shape=(n_steps, features)))\n",
        "model_lstm.add(Dense(units=1))\n",
        "# Compiling the model\n",
        "model_lstm.compile(optimizer=\"RMSprop\", loss=\"mse\")\n",
        "\n",
        "model_lstm.summary()"
      ],
      "metadata": {
        "colab": {
          "base_uri": "https://localhost:8080/"
        },
        "id": "OD0jnm-hKXUE",
        "outputId": "13496f12-091a-48d7-c8c1-406460a27f88"
      },
      "execution_count": 211,
      "outputs": [
        {
          "output_type": "stream",
          "name": "stdout",
          "text": [
            "Model: \"sequential_9\"\n",
            "_________________________________________________________________\n",
            " Layer (type)                Output Shape              Param #   \n",
            "=================================================================\n",
            " lstm_4 (LSTM)               (None, 125)               63500     \n",
            "                                                                 \n",
            " dense_8 (Dense)             (None, 1)                 126       \n",
            "                                                                 \n",
            "=================================================================\n",
            "Total params: 63,626\n",
            "Trainable params: 63,626\n",
            "Non-trainable params: 0\n",
            "_________________________________________________________________\n"
          ]
        }
      ]
    },
    {
      "cell_type": "code",
      "source": [
        "model_lstm.fit(X_train, y_train, epochs=50, batch_size=32)\n"
      ],
      "metadata": {
        "colab": {
          "base_uri": "https://localhost:8080/"
        },
        "id": "jRzQdANPLDdt",
        "outputId": "3e246de5-b8f3-4723-8a05-460949c91a1f"
      },
      "execution_count": 212,
      "outputs": [
        {
          "output_type": "stream",
          "name": "stdout",
          "text": [
            "Epoch 1/50\n",
            "38/38 [==============================] - 6s 75ms/step - loss: 0.0127\n",
            "Epoch 2/50\n",
            "38/38 [==============================] - 4s 94ms/step - loss: 0.0022\n",
            "Epoch 3/50\n",
            "38/38 [==============================] - 6s 164ms/step - loss: 0.0022\n",
            "Epoch 4/50\n",
            "38/38 [==============================] - 6s 150ms/step - loss: 0.0019\n",
            "Epoch 5/50\n",
            "38/38 [==============================] - 6s 169ms/step - loss: 0.0014\n",
            "Epoch 6/50\n",
            "38/38 [==============================] - 5s 143ms/step - loss: 0.0015\n",
            "Epoch 7/50\n",
            "38/38 [==============================] - 3s 72ms/step - loss: 9.2769e-04\n",
            "Epoch 8/50\n",
            "38/38 [==============================] - 3s 87ms/step - loss: 0.0013\n",
            "Epoch 9/50\n",
            "38/38 [==============================] - 3s 88ms/step - loss: 9.8000e-04\n",
            "Epoch 10/50\n",
            "38/38 [==============================] - 3s 71ms/step - loss: 0.0010\n",
            "Epoch 11/50\n",
            "38/38 [==============================] - 3s 73ms/step - loss: 8.1010e-04\n",
            "Epoch 12/50\n",
            "38/38 [==============================] - 3s 76ms/step - loss: 8.4256e-04\n",
            "Epoch 13/50\n",
            "38/38 [==============================] - 4s 101ms/step - loss: 8.3112e-04\n",
            "Epoch 14/50\n",
            "38/38 [==============================] - 3s 72ms/step - loss: 7.9690e-04\n",
            "Epoch 15/50\n",
            "38/38 [==============================] - 3s 73ms/step - loss: 7.4448e-04\n",
            "Epoch 16/50\n",
            "38/38 [==============================] - 3s 71ms/step - loss: 7.5446e-04\n",
            "Epoch 17/50\n",
            "38/38 [==============================] - 4s 104ms/step - loss: 7.1184e-04\n",
            "Epoch 18/50\n",
            "38/38 [==============================] - 3s 72ms/step - loss: 6.4439e-04\n",
            "Epoch 19/50\n",
            "38/38 [==============================] - 3s 72ms/step - loss: 6.0216e-04\n",
            "Epoch 20/50\n",
            "38/38 [==============================] - 3s 73ms/step - loss: 6.5750e-04\n",
            "Epoch 21/50\n",
            "38/38 [==============================] - 4s 105ms/step - loss: 6.6073e-04\n",
            "Epoch 22/50\n",
            "38/38 [==============================] - 3s 73ms/step - loss: 6.5011e-04\n",
            "Epoch 23/50\n",
            "38/38 [==============================] - 3s 72ms/step - loss: 5.4310e-04\n",
            "Epoch 24/50\n",
            "38/38 [==============================] - 3s 72ms/step - loss: 6.9100e-04\n",
            "Epoch 25/50\n",
            "38/38 [==============================] - 3s 91ms/step - loss: 6.2877e-04\n",
            "Epoch 26/50\n",
            "38/38 [==============================] - 3s 85ms/step - loss: 5.7607e-04\n",
            "Epoch 27/50\n",
            "38/38 [==============================] - 3s 72ms/step - loss: 4.9504e-04\n",
            "Epoch 28/50\n",
            "38/38 [==============================] - 3s 72ms/step - loss: 5.5374e-04\n",
            "Epoch 29/50\n",
            "38/38 [==============================] - 3s 77ms/step - loss: 5.3458e-04\n",
            "Epoch 30/50\n",
            "38/38 [==============================] - 4s 98ms/step - loss: 5.5319e-04\n",
            "Epoch 31/50\n",
            "38/38 [==============================] - 3s 71ms/step - loss: 5.1843e-04\n",
            "Epoch 32/50\n",
            "38/38 [==============================] - 3s 72ms/step - loss: 4.8157e-04\n",
            "Epoch 33/50\n",
            "38/38 [==============================] - 3s 73ms/step - loss: 5.0384e-04\n",
            "Epoch 34/50\n",
            "38/38 [==============================] - 4s 105ms/step - loss: 4.8301e-04\n",
            "Epoch 35/50\n",
            "38/38 [==============================] - 3s 72ms/step - loss: 4.7185e-04\n",
            "Epoch 36/50\n",
            "38/38 [==============================] - 3s 87ms/step - loss: 4.6720e-04\n",
            "Epoch 37/50\n",
            "38/38 [==============================] - 3s 73ms/step - loss: 4.9601e-04\n",
            "Epoch 38/50\n",
            "38/38 [==============================] - 4s 106ms/step - loss: 4.7539e-04\n",
            "Epoch 39/50\n",
            "38/38 [==============================] - 4s 102ms/step - loss: 4.1123e-04\n",
            "Epoch 40/50\n",
            "38/38 [==============================] - 3s 72ms/step - loss: 5.1642e-04\n",
            "Epoch 41/50\n",
            "38/38 [==============================] - 4s 98ms/step - loss: 4.3107e-04\n",
            "Epoch 42/50\n",
            "38/38 [==============================] - 5s 119ms/step - loss: 4.2109e-04\n",
            "Epoch 43/50\n",
            "38/38 [==============================] - 3s 73ms/step - loss: 5.2201e-04\n",
            "Epoch 44/50\n",
            "38/38 [==============================] - 3s 73ms/step - loss: 3.9679e-04\n",
            "Epoch 45/50\n",
            "38/38 [==============================] - 3s 72ms/step - loss: 4.3397e-04\n",
            "Epoch 46/50\n",
            "38/38 [==============================] - 4s 106ms/step - loss: 4.3285e-04\n",
            "Epoch 47/50\n",
            "38/38 [==============================] - 3s 72ms/step - loss: 4.2788e-04\n",
            "Epoch 48/50\n",
            "38/38 [==============================] - 3s 72ms/step - loss: 3.5765e-04\n",
            "Epoch 49/50\n",
            "38/38 [==============================] - 3s 74ms/step - loss: 4.8600e-04\n",
            "Epoch 50/50\n",
            "38/38 [==============================] - 4s 105ms/step - loss: 3.8523e-04\n"
          ]
        },
        {
          "output_type": "execute_result",
          "data": {
            "text/plain": [
              "<keras.callbacks.History at 0x7f952e1390a0>"
            ]
          },
          "metadata": {},
          "execution_count": 212
        }
      ]
    },
    {
      "cell_type": "markdown",
      "source": [
        "# Results"
      ],
      "metadata": {
        "id": "j3fVdyRqLZAm"
      }
    },
    {
      "cell_type": "markdown",
      "source": [
        "We are going to repeat preprocessing and normalize the test set. First of all we will transform then split the dataset into samples, reshape it, predict, and inverse transform the predictions into standard form."
      ],
      "metadata": {
        "id": "x7LFnwrOLc0O"
      }
    },
    {
      "cell_type": "code",
      "source": [
        "data_total = data.loc[:,\"High\"]\n",
        "inputs = data_total[len(data_total) - len(test_set) - n_steps :].values\n",
        "inputs = inputs.reshape(-1, 1)\n",
        "#scaling\n",
        "inputs = sc.transform(inputs)\n",
        "\n",
        "# Split into samples\n",
        "X_test, y_test = split_sequence(inputs, n_steps)\n",
        "# reshape\n",
        "X_test = X_test.reshape(X_test.shape[0], X_test.shape[1], features)\n",
        "#prediction\n",
        "predicted_stock_price = model_lstm.predict(X_test)\n",
        "#inverse transform the values\n",
        "predicted_stock_price = sc.inverse_transform(predicted_stock_price)"
      ],
      "metadata": {
        "colab": {
          "base_uri": "https://localhost:8080/"
        },
        "id": "eYUNRUDCLQdx",
        "outputId": "58294796-5ec7-45bc-9b89-e701fb04593e"
      },
      "execution_count": 213,
      "outputs": [
        {
          "output_type": "stream",
          "name": "stdout",
          "text": [
            "17/17 [==============================] - 2s 59ms/step\n"
          ]
        }
      ]
    },
    {
      "cell_type": "markdown",
      "source": [
        "The plot_predictions function will plot a real versus predicted line chart. This will help us visualize the difference between actual and predicted values.\n",
        "\n",
        "The return_rmse function takes in test and predicted arguments and prints out the root mean square error (rmse) metric."
      ],
      "metadata": {
        "id": "6zkG5uSlMJZO"
      }
    },
    {
      "cell_type": "code",
      "source": [
        "def plot_predictions(test, predicted):\n",
        "    plt.plot(test, color=\"gray\", label=\"Real\")\n",
        "    plt.plot(predicted, color=\"red\", label=\"Predicted\")\n",
        "    plt.title(\"MasterCard Stock Price Prediction \\n \"+ str(return_rmse(test_set,predicted_stock_price)))\n",
        "    plt.xlabel(\"Time\")\n",
        "    plt.ylabel(\"MasterCard Stock Price\")\n",
        "    plt.legend()\n",
        "    plt.show()\n",
        "\n",
        "\n",
        "def return_rmse(test, predicted):\n",
        "    rmse = np.sqrt(mean_squared_error(test, predicted))\n",
        "    return \"Root mean squared error : \"+ str(round(rmse,2))"
      ],
      "metadata": {
        "id": "9A4XF-c0MEhT"
      },
      "execution_count": 214,
      "outputs": []
    },
    {
      "cell_type": "markdown",
      "source": [
        "According to the line plot below, the single-layered LSTM model has performed well.\n",
        "\n"
      ],
      "metadata": {
        "id": "q2GfMzqcMZ6q"
      }
    },
    {
      "cell_type": "code",
      "source": [
        "plot_predictions(test_set,predicted_stock_price)\n"
      ],
      "metadata": {
        "colab": {
          "base_uri": "https://localhost:8080/",
          "height": 310
        },
        "id": "E8Ge-CVaMPUj",
        "outputId": "b9eb5fb3-4482-46de-fc77-ab037afd6a7b"
      },
      "execution_count": 215,
      "outputs": [
        {
          "output_type": "display_data",
          "data": {
            "text/plain": [
              "<Figure size 432x288 with 1 Axes>"
            ],
            "image/png": "[encoded data removed]"
          },
          "metadata": {
            "needs_background": "light"
          }
        }
      ]
    },
    {
      "cell_type": "code",
      "source": [
        "print(f\"The results look promising as for the model \\n{return_rmse(test_set,predicted_stock_price)} on the test dataset.\")"
      ],
      "metadata": {
        "colab": {
          "base_uri": "https://localhost:8080/"
        },
        "id": "kUwhyXJeMS9R",
        "outputId": "126194d0-a55b-4c30-c748-41c8d0e12000"
      },
      "execution_count": 216,
      "outputs": [
        {
          "output_type": "stream",
          "name": "stdout",
          "text": [
            "The results look promising as for the model \n",
            "Root mean squared error : 7.78 on the test dataset.\n"
          ]
        }
      ]
    },
    {
      "cell_type": "markdown",
      "source": [
        "# GRU Model\n"
      ],
      "metadata": {
        "id": "edL8DWpDN0LY"
      }
    },
    {
      "cell_type": "markdown",
      "source": [
        "We are going to keep everything the same and just replace the LSTM layer with the GRU layer to properly compare the results. The model structure contains a single GRU layer with 125 units and an output layer."
      ],
      "metadata": {
        "id": "24IeKbGoN3mI"
      }
    },
    {
      "cell_type": "code",
      "source": [
        "model_gru = Sequential()\n",
        "model_gru.add(GRU(units=UNITS, activation=\"tanh\", input_shape=(n_steps, features)))\n",
        "model_gru.add(Dense(units=1))\n",
        "# Compiling the RNN\n",
        "model_gru.compile(optimizer=\"RMSprop\", loss=\"mse\")\n",
        "\n",
        "model_gru.summary()"
      ],
      "metadata": {
        "colab": {
          "base_uri": "https://localhost:8080/"
        },
        "id": "ARyJWH5fNm6o",
        "outputId": "67f48042-d458-47fe-9208-dd86f1e4d19d"
      },
      "execution_count": 217,
      "outputs": [
        {
          "output_type": "stream",
          "name": "stdout",
          "text": [
            "Model: \"sequential_10\"\n",
            "_________________________________________________________________\n",
            " Layer (type)                Output Shape              Param #   \n",
            "=================================================================\n",
            " gru_4 (GRU)                 (None, 125)               48000     \n",
            "                                                                 \n",
            " dense_9 (Dense)             (None, 1)                 126       \n",
            "                                                                 \n",
            "=================================================================\n",
            "Total params: 48,126\n",
            "Trainable params: 48,126\n",
            "Non-trainable params: 0\n",
            "_________________________________________________________________\n"
          ]
        }
      ]
    },
    {
      "cell_type": "code",
      "source": [
        "model_gru.fit(X_train, y_train, epochs=50, batch_size=32)\n"
      ],
      "metadata": {
        "colab": {
          "base_uri": "https://localhost:8080/"
        },
        "id": "2lckV4LkN9nP",
        "outputId": "9c3969bc-c6a2-4052-bfcf-9b8598cb00a1"
      },
      "execution_count": 218,
      "outputs": [
        {
          "output_type": "stream",
          "name": "stdout",
          "text": [
            "Epoch 1/50\n",
            "38/38 [==============================] - 5s 61ms/step - loss: 0.0122\n",
            "Epoch 2/50\n",
            "38/38 [==============================] - 4s 113ms/step - loss: 0.0014\n",
            "Epoch 3/50\n",
            "38/38 [==============================] - 5s 131ms/step - loss: 0.0012\n",
            "Epoch 4/50\n",
            "38/38 [==============================] - 4s 117ms/step - loss: 0.0012\n",
            "Epoch 5/50\n",
            "38/38 [==============================] - 4s 119ms/step - loss: 8.7467e-04\n",
            "Epoch 6/50\n",
            "38/38 [==============================] - 5s 134ms/step - loss: 0.0010\n",
            "Epoch 7/50\n",
            "38/38 [==============================] - 4s 96ms/step - loss: 6.8826e-04\n",
            "Epoch 8/50\n",
            "38/38 [==============================] - 2s 57ms/step - loss: 7.5846e-04\n",
            "Epoch 9/50\n",
            "38/38 [==============================] - 2s 56ms/step - loss: 6.9447e-04\n",
            "Epoch 10/50\n",
            "38/38 [==============================] - 3s 85ms/step - loss: 7.7613e-04\n",
            "Epoch 11/50\n",
            "38/38 [==============================] - 2s 59ms/step - loss: 6.5049e-04\n",
            "Epoch 12/50\n",
            "38/38 [==============================] - 2s 57ms/step - loss: 6.1964e-04\n",
            "Epoch 13/50\n",
            "38/38 [==============================] - 2s 56ms/step - loss: 5.9896e-04\n",
            "Epoch 14/50\n",
            "38/38 [==============================] - 2s 59ms/step - loss: 5.6894e-04\n",
            "Epoch 15/50\n",
            "38/38 [==============================] - 3s 70ms/step - loss: 5.6595e-04\n",
            "Epoch 16/50\n",
            "38/38 [==============================] - 3s 76ms/step - loss: 5.7070e-04\n",
            "Epoch 17/50\n",
            "38/38 [==============================] - 2s 57ms/step - loss: 5.7584e-04\n",
            "Epoch 18/50\n",
            "38/38 [==============================] - 2s 57ms/step - loss: 5.1050e-04\n",
            "Epoch 19/50\n",
            "38/38 [==============================] - 2s 56ms/step - loss: 5.0420e-04\n",
            "Epoch 20/50\n",
            "38/38 [==============================] - 2s 56ms/step - loss: 5.2968e-04\n",
            "Epoch 21/50\n",
            "38/38 [==============================] - 3s 89ms/step - loss: 5.3909e-04\n",
            "Epoch 22/50\n",
            "38/38 [==============================] - 2s 55ms/step - loss: 4.8169e-04\n",
            "Epoch 23/50\n",
            "38/38 [==============================] - 2s 57ms/step - loss: 4.8293e-04\n",
            "Epoch 24/50\n",
            "38/38 [==============================] - 2s 56ms/step - loss: 5.4026e-04\n",
            "Epoch 25/50\n",
            "38/38 [==============================] - 2s 56ms/step - loss: 5.3265e-04\n",
            "Epoch 26/50\n",
            "38/38 [==============================] - 3s 80ms/step - loss: 4.8067e-04\n",
            "Epoch 27/50\n",
            "38/38 [==============================] - 3s 66ms/step - loss: 4.3706e-04\n",
            "Epoch 28/50\n",
            "38/38 [==============================] - 2s 57ms/step - loss: 4.4630e-04\n",
            "Epoch 29/50\n",
            "38/38 [==============================] - 2s 56ms/step - loss: 4.5133e-04\n",
            "Epoch 30/50\n",
            "38/38 [==============================] - 2s 58ms/step - loss: 4.5825e-04\n",
            "Epoch 31/50\n",
            "38/38 [==============================] - 2s 62ms/step - loss: 4.2300e-04\n",
            "Epoch 32/50\n",
            "38/38 [==============================] - 3s 83ms/step - loss: 4.3566e-04\n",
            "Epoch 33/50\n",
            "38/38 [==============================] - 2s 57ms/step - loss: 4.1297e-04\n",
            "Epoch 34/50\n",
            "38/38 [==============================] - 2s 57ms/step - loss: 4.0017e-04\n",
            "Epoch 35/50\n",
            "38/38 [==============================] - 2s 57ms/step - loss: 4.2689e-04\n",
            "Epoch 36/50\n",
            "38/38 [==============================] - 2s 57ms/step - loss: 4.0999e-04\n",
            "Epoch 37/50\n",
            "38/38 [==============================] - 3s 89ms/step - loss: 4.1939e-04\n",
            "Epoch 38/50\n",
            "38/38 [==============================] - 2s 57ms/step - loss: 4.2369e-04\n",
            "Epoch 39/50\n",
            "38/38 [==============================] - 2s 57ms/step - loss: 3.6790e-04\n",
            "Epoch 40/50\n",
            "38/38 [==============================] - 2s 57ms/step - loss: 4.4656e-04\n",
            "Epoch 41/50\n",
            "38/38 [==============================] - 2s 58ms/step - loss: 3.8326e-04\n",
            "Epoch 42/50\n",
            "38/38 [==============================] - 3s 75ms/step - loss: 3.7184e-04\n",
            "Epoch 43/50\n",
            "38/38 [==============================] - 3s 71ms/step - loss: 4.7604e-04\n",
            "Epoch 44/50\n",
            "38/38 [==============================] - 2s 57ms/step - loss: 3.3988e-04\n",
            "Epoch 45/50\n",
            "38/38 [==============================] - 2s 58ms/step - loss: 3.9522e-04\n",
            "Epoch 46/50\n",
            "38/38 [==============================] - 2s 58ms/step - loss: 3.6439e-04\n",
            "Epoch 47/50\n",
            "38/38 [==============================] - 2s 59ms/step - loss: 3.9656e-04\n",
            "Epoch 48/50\n",
            "38/38 [==============================] - 4s 118ms/step - loss: 3.2108e-04\n",
            "Epoch 49/50\n",
            "38/38 [==============================] - 2s 58ms/step - loss: 4.2035e-04\n",
            "Epoch 50/50\n",
            "38/38 [==============================] - 2s 59ms/step - loss: 3.5613e-04\n"
          ]
        },
        {
          "output_type": "execute_result",
          "data": {
            "text/plain": [
              "<keras.callbacks.History at 0x7f952efb67c0>"
            ]
          },
          "metadata": {},
          "execution_count": 218
        }
      ]
    },
    {
      "cell_type": "markdown",
      "source": [
        "# Results"
      ],
      "metadata": {
        "id": "Oy9q0kv5OFOU"
      }
    },
    {
      "cell_type": "markdown",
      "source": [
        "As we can see, the real and predicted values are relatively close. The predicted line chart almost fits the actual values."
      ],
      "metadata": {
        "id": "y2IK_p-POJfc"
      }
    },
    {
      "cell_type": "code",
      "source": [
        "GRU_predicted_stock_price = model_gru.predict(X_test)\n",
        "GRU_predicted_stock_price = sc.inverse_transform(GRU_predicted_stock_price)\n",
        "plot_predictions(test_set, GRU_predicted_stock_price)\n"
      ],
      "metadata": {
        "colab": {
          "base_uri": "https://localhost:8080/",
          "height": 327
        },
        "id": "MI0Q4QUTODQ-",
        "outputId": "70ea905f-a6da-417f-f6ef-1413c0722a0a"
      },
      "execution_count": 219,
      "outputs": [
        {
          "output_type": "stream",
          "name": "stdout",
          "text": [
            "17/17 [==============================] - 1s 16ms/step\n"
          ]
        },
        {
          "output_type": "display_data",
          "data": {
            "text/plain": [
              "<Figure size 432x288 with 1 Axes>"
            ],
            "image/png": "[encoded data removed]"
          },
          "metadata": {
            "needs_background": "light"
          }
        }
      ]
    },
    {
      "cell_type": "code",
      "source": [
        "print(f\"The results look promising as for the model \\n{return_rmse(test_set,GRU_predicted_stock_price)} on the test dataset.\")"
      ],
      "metadata": {
        "colab": {
          "base_uri": "https://localhost:8080/"
        },
        "id": "CA0not2COWAv",
        "outputId": "3bd52f37-92ca-433c-9c8a-a20402b66b57"
      },
      "execution_count": 220,
      "outputs": [
        {
          "output_type": "stream",
          "name": "stdout",
          "text": [
            "The results look promising as for the model \n",
            "Root mean squared error : 6.83 on the test dataset.\n"
          ]
        }
      ]
    },
    {
      "cell_type": "code",
      "source": [
        "print(\"GRU model performs better than the LSTM model.\")"
      ],
      "metadata": {
        "colab": {
          "base_uri": "https://localhost:8080/"
        },
        "id": "AMiXnvjJOfTc",
        "outputId": "954e7632-94de-4204-d7b2-619d0422abca"
      },
      "execution_count": 221,
      "outputs": [
        {
          "output_type": "stream",
          "name": "stdout",
          "text": [
            "GRU model performs better than the LSTM model.\n"
          ]
        }
      ]
    },
    {
      "cell_type": "code",
      "source": [],
      "metadata": {
        "id": "uYL1fRtrOq3Y"
      },
      "execution_count": 221,
      "outputs": []
    }
  ]
}