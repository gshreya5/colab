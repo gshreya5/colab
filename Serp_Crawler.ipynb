{
  "nbformat": 4,
  "nbformat_minor": 0,
  "metadata": {
    "colab": {
      "provenance": [],
      "authorship_tag": "ABX9TyMNdv1/sEEl8LBraygyHLW6",
      "include_colab_link": true
    },
    "kernelspec": {
      "name": "python3",
      "display_name": "Python 3"
    },
    "language_info": {
      "name": "python"
    }
  },
  "cells": [
    {
      "cell_type": "markdown",
      "metadata": {
        "id": "view-in-github",
        "colab_type": "text"
      },
      "source": [
        "<a href=\"https://colab.research.google.com/github/gshreya5/colab/blob/main/Serp_Crawler.ipynb\" target=\"_parent\"><img src=\"https://colab.research.google.com/assets/colab-badge.svg\" alt=\"Open In Colab\"/></a>"
      ]
    },
    {
      "cell_type": "markdown",
      "source": [
        "# SERP CRAWLER\n",
        "\n",
        "**GOAL** \n",
        "\n",
        "* Create a web crawler using python that is able to scrape first, 10000 \n",
        "results for the following\n",
        "google search input -\n",
        "\n",
        " site:youtube.com openinapp.co \n",
        "\n",
        "* Collect link to YouTube channel\n",
        "\n",
        "* Give the results in the json/csv format\n"
      ],
      "metadata": {
        "id": "Gxhvmmxe3AsJ"
      }
    },
    {
      "cell_type": "markdown",
      "source": [
        "# Import Libraries"
      ],
      "metadata": {
        "id": "DvmJLGpJ2-NM"
      }
    },
    {
      "cell_type": "code",
      "source": [
        "!pip install scrapingbee --quiet"
      ],
      "metadata": {
        "colab": {
          "base_uri": "https://localhost:8080/"
        },
        "id": "F3QO_F_YHNa_",
        "outputId": "03da0066-1788-4a51-967a-b13037151354"
      },
      "execution_count": 97,
      "outputs": [
        {
          "output_type": "stream",
          "name": "stdout",
          "text": [
            "\u001b[2K     \u001b[90m━━━━━━━━━━━━━━━━━━━━━━━━━━━━━━━━━━━━━━━━\u001b[0m \u001b[32m6.5/6.5 MB\u001b[0m \u001b[31m46.8 MB/s\u001b[0m eta \u001b[36m0:00:00\u001b[0m\n",
            "\u001b[2K     \u001b[90m━━━━━━━━━━━━━━━━━━━━━━━━━━━━━━━━━━━━━━\u001b[0m \u001b[32m384.9/384.9 kB\u001b[0m \u001b[31m23.6 MB/s\u001b[0m eta \u001b[36m0:00:00\u001b[0m\n",
            "\u001b[2K     \u001b[90m━━━━━━━━━━━━━━━━━━━━━━━━━━━━━━━━━━━━━━━━\u001b[0m \u001b[32m58.3/58.3 kB\u001b[0m \u001b[31m6.2 MB/s\u001b[0m eta \u001b[36m0:00:00\u001b[0m\n",
            "\u001b[?25h"
          ]
        }
      ]
    },
    {
      "cell_type": "code",
      "execution_count": 98,
      "metadata": {
        "id": "gCPybgdx20Fr"
      },
      "outputs": [],
      "source": [
        "import requests\n",
        "import json\n",
        "import urllib.parse\n",
        "\n",
        "from bs4 import BeautifulSoup\n",
        "from scrapingbee import ScrapingBeeClient"
      ]
    },
    {
      "cell_type": "markdown",
      "source": [
        "# Web-Crawler"
      ],
      "metadata": {
        "id": "6lUZ_7qC3ZZ7"
      }
    },
    {
      "cell_type": "code",
      "source": [
        "# URL for 10000 Google search results\n",
        "n = 10_000\n",
        "url = 'https://www.google.com/search?q=site%3Ayoutube.com+openinapp.co&num='+str(n)\n",
        "\n",
        "API_KEY = ''\n",
        "client = ScrapingBeeClient(api_key=API_KEY)"
      ],
      "metadata": {
        "id": "AIw1X18h22Cn"
      },
      "execution_count": 485,
      "outputs": []
    },
    {
      "cell_type": "code",
      "source": [
        "# Make a GET request to the URL \n",
        "response = client.get(url, params = {'custom_google': 'True',})\n",
        "#response = requests.get(url) \n",
        "\n",
        "# Parse the HTML content using BeautifulSoup\n",
        "soup = BeautifulSoup(response.content, 'lxml')"
      ],
      "metadata": {
        "id": "ivocdMef4cqy"
      },
      "execution_count": 486,
      "outputs": []
    },
    {
      "cell_type": "code",
      "source": [
        "# Find all the search result links\n",
        "\n",
        "search_results = soup.find_all('a')\n",
        "# Create a list to store the links\n",
        "urls = []\n",
        "\n",
        "for ser in search_results:\n",
        "  link = ser.get('href')\n",
        "  if link and 'https://www.youtube.com/' in link:\n",
        "    # link = link.split('&sa=U&ved')[0]\n",
        "    # link = link.split('/url?q=')[1]\n",
        "    # link = urllib.parse.unquote(link,encoding='utf-8')\n",
        "    urls.append(link)"
      ],
      "metadata": {
        "id": "fzLahYXf4rNv"
      },
      "execution_count": 488,
      "outputs": []
    },
    {
      "cell_type": "code",
      "source": [
        "# Find all the YouTube channel links\n",
        "\n",
        "channels = {}\n",
        "\n",
        "for url in urls:\n",
        "  response1 = requests.get(url) \n",
        "  soup1 = BeautifulSoup(response1.content, 'lxml')\n",
        "  \n",
        "  for link in soup1.find_all('link'):\n",
        "      link = link.get('href')\n",
        "      if link and '@' in link and 'youtube' in link:\n",
        "        if link in channels.keys():\n",
        "          channels[link]+=1\n",
        "        else:\n",
        "          channels[link] = 1"
      ],
      "metadata": {
        "id": "_1QOUhrqdi5T"
      },
      "execution_count": 490,
      "outputs": []
    },
    {
      "cell_type": "markdown",
      "source": [
        "# Save to a JSON file"
      ],
      "metadata": {
        "id": "hWJz_1qPufPg"
      }
    },
    {
      "cell_type": "code",
      "source": [
        "# Save the YouTube channel links, frequency to a JSON file\n",
        "\n",
        "with open('youtube_channels.json', 'w') as f:\n",
        "    json.dump(channels, f)      "
      ],
      "metadata": {
        "id": "7VpWxWnNCo_V"
      },
      "execution_count": 491,
      "outputs": []
    },
    {
      "cell_type": "code",
      "source": [
        "!head 'youtube_channels.json'"
      ],
      "metadata": {
        "colab": {
          "base_uri": "https://localhost:8080/"
        },
        "id": "yBR48QOfJZ3u",
        "outputId": "0406ad90-6651-4111-ee28-8654778ac366"
      },
      "execution_count": 492,
      "outputs": [
        {
          "output_type": "stream",
          "name": "stdout",
          "text": [
            "{\"http://www.youtube.com/@spksunny\": 2, \"http://www.youtube.com/@OpeninApp\": 6, \"http://www.youtube.com/@inspiringprashant\": 2, \"http://www.youtube.com/@TELUGUCRICKETMYSTERY\": 2, \"http://www.youtube.com/@VPFINANCIALS\": 12, \"http://www.youtube.com/@finshowbynehanagar94\": 5, \"http://www.youtube.com/@Ombigbrands\": 2, \"http://www.youtube.com/@24472\": 2, \"http://www.youtube.com/@Pooja_muley\": 2, \"http://www.youtube.com/@PremSager-xj9dx\": 2, \"http://www.youtube.com/@ayushtyagi0005\": 2, \"http://www.youtube.com/@musiclove3283\": 2, \"http://www.youtube.com/@NomadProgrammer\": 2, \"http://www.youtube.com/@PrathapGTech\": 2, \"http://www.youtube.com/@PamDSouza\": 16, \"http://www.youtube.com/@TimoPubg\": 2, \"http://www.youtube.com/@TheNewMan2024\": 2, \"http://www.youtube.com/@vivekkumarsingh6076\": 2, \"http://www.youtube.com/@Prasadtechintelugu\": 10, \"http://www.youtube.com/@gauravdelhirav\": 2, \"http://www.youtube.com/@surajkumawatdz3165\": 2, \"http://www.youtube.com/@cinemaanreal\": 10, \"http://www.youtube.com/@GokulChhabra\": 4, \"http://www.youtube.com/@Telly_Tadka_\": 2, \"http://www.youtube.com/@sangralvlogs84\": 4, \"http://www.youtube.com/@chilloutfoodcaftria3465\": 2, \"http://www.youtube.com/@AnshNakwal\": 4, \"http://www.youtube.com/@TfDesihindi7406\": 2, \"http://www.youtube.com/@TradingwithGroww\": 2, \"http://www.youtube.com/@Bhatmussa\": 2, \"http://www.youtube.com/@multivideochannel1898\": 2, \"http://www.youtube.com/@ghumakkadshanky\": 4, \"http://www.youtube.com/@ashishmagar2001\": 2, \"http://www.youtube.com/@TrakinTech\": 2, \"http://www.youtube.com/@StudYLoveRVeeR\": 2, \"http://www.youtube.com/@Abhijit_Dey\": 2, \"http://www.youtube.com/@TechFCShorts\": 2, \"http://www.youtube.com/@IndoOverseasFilms\": 2, \"http://www.youtube.com/@pahadispirits\": 2, \"http://www.youtube.com/@techwiser\": 2, \"http://www.youtube.com/@anubhavroy\": 2, \"http://www.youtube.com/@GeekAbhishek\": 2, \"http://www.youtube.com/@SWAPNSWAROOP\": 1, \"http://www.youtube.com/@TechBurner\": 2}"
          ]
        }
      ]
    },
    {
      "cell_type": "code",
      "source": [],
      "metadata": {
        "id": "0FptJPmbzqmw"
      },
      "execution_count": null,
      "outputs": []
    }
  ]
}