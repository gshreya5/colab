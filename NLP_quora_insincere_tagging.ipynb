{
  "nbformat": 4,
  "nbformat_minor": 0,
  "metadata": {
    "colab": {
      "provenance": [],
      "authorship_tag": "ABX9TyPhoy8425mFnIm8yP2CoMy9",
      "include_colab_link": true
    },
    "kernelspec": {
      "name": "python3",
      "display_name": "Python 3"
    },
    "language_info": {
      "name": "python"
    }
  },
  "cells": [
    {
      "cell_type": "markdown",
      "metadata": {
        "id": "view-in-github",
        "colab_type": "text"
      },
      "source": [
        "<a href=\"https://colab.research.google.com/github/gshreya5/colab/blob/main/NLP_quora_insincere_tagging.ipynb\" target=\"_parent\"><img src=\"https://colab.research.google.com/assets/colab-badge.svg\" alt=\"Open In Colab\"/></a>"
      ]
    },
    {
      "cell_type": "markdown",
      "source": [
        "# Quora Insincere Questions Classification\n"
      ],
      "metadata": {
        "id": "-3eHen1SUd80"
      }
    },
    {
      "cell_type": "markdown",
      "source": [
        "**GOAL** : Predict whether a question asked on Quora is sincere or not"
      ],
      "metadata": {
        "id": "sUdA--C1VHm9"
      }
    },
    {
      "cell_type": "markdown",
      "source": [
        "# Load Libraries"
      ],
      "metadata": {
        "id": "V0t66P_pUdqU"
      }
    },
    {
      "cell_type": "code",
      "execution_count": 1,
      "metadata": {
        "id": "swJKZqOUAyFV"
      },
      "outputs": [],
      "source": [
        "import pandas as pd"
      ]
    },
    {
      "cell_type": "markdown",
      "source": [
        "# Load Dataset"
      ],
      "metadata": {
        "id": "BwSEUJF4Ux8j"
      }
    },
    {
      "cell_type": "code",
      "source": [
        "!kaggle competitions download -c quora-insincere-questions-classification"
      ],
      "metadata": {
        "colab": {
          "base_uri": "https://localhost:8080/"
        },
        "id": "twygtTJHU4mc",
        "outputId": "23b11847-62e3-4fbb-8c09-d972df2c57d9"
      },
      "execution_count": 3,
      "outputs": [
        {
          "output_type": "stream",
          "name": "stdout",
          "text": [
            "Warning: Your Kaggle API key is readable by other users on this system! To fix this, you can run 'chmod 600 /root/.kaggle/kaggle.json'\n",
            "Downloading quora-insincere-questions-classification.zip to /content\n",
            "100% 6.02G/6.03G [00:49<00:00, 173MB/s]\n",
            "100% 6.03G/6.03G [00:49<00:00, 130MB/s]\n"
          ]
        }
      ]
    },
    {
      "cell_type": "code",
      "source": [
        "!unzip /content/quora-insincere-questions-classification.zip"
      ],
      "metadata": {
        "id": "fH3wTC5mW0n0",
        "colab": {
          "base_uri": "https://localhost:8080/"
        },
        "outputId": "febd21a0-5c68-49f5-9cf0-d353a28ba875"
      },
      "execution_count": 4,
      "outputs": [
        {
          "output_type": "stream",
          "name": "stdout",
          "text": [
            "Archive:  /content/quora-insincere-questions-classification.zip\n",
            "  inflating: embeddings.zip          \n",
            "  inflating: sample_submission.csv   \n",
            "  inflating: test.csv                \n",
            "  inflating: train.csv               \n"
          ]
        }
      ]
    },
    {
      "cell_type": "code",
      "source": [
        "test = pd.read_csv('/content/test.csv')"
      ],
      "metadata": {
        "id": "ewdUsGIGuygD"
      },
      "execution_count": 5,
      "outputs": []
    },
    {
      "cell_type": "code",
      "source": [
        "df = pd.read_csv('/content/train.csv')"
      ],
      "metadata": {
        "id": "hnHbOVRzEcQE"
      },
      "execution_count": 6,
      "outputs": []
    },
    {
      "cell_type": "markdown",
      "source": [
        "# Explore data"
      ],
      "metadata": {
        "id": "aRUDCQ_QXHSq"
      }
    },
    {
      "cell_type": "code",
      "source": [
        "df.head()"
      ],
      "metadata": {
        "colab": {
          "base_uri": "https://localhost:8080/",
          "height": 206
        },
        "id": "8g9kok1pX6Yv",
        "outputId": "72caccd5-ff24-4122-fd34-8e5a49753635"
      },
      "execution_count": null,
      "outputs": [
        {
          "output_type": "execute_result",
          "data": {
            "text/plain": [
              "                    qid                                      question_text  \\\n",
              "0  00002165364db923c7e6  How did Quebec nationalists see their province...   \n",
              "1  000032939017120e6e44  Do you have an adopted dog, how would you enco...   \n",
              "2  0000412ca6e4628ce2cf  Why does velocity affect time? Does velocity a...   \n",
              "3  000042bf85aa498cd78e  How did Otto von Guericke used the Magdeburg h...   \n",
              "4  0000455dfa3e01eae3af  Can I convert montra helicon D to a mountain b...   \n",
              "\n",
              "   target  \n",
              "0       0  \n",
              "1       0  \n",
              "2       0  \n",
              "3       0  \n",
              "4       0  "
            ],
            "text/html": [
              "\n",
              "  <div id=\"df-77b22b57-f41c-499c-945a-2e62c3e62970\">\n",
              "    <div class=\"colab-df-container\">\n",
              "      <div>\n",
              "<style scoped>\n",
              "    .dataframe tbody tr th:only-of-type {\n",
              "        vertical-align: middle;\n",
              "    }\n",
              "\n",
              "    .dataframe tbody tr th {\n",
              "        vertical-align: top;\n",
              "    }\n",
              "\n",
              "    .dataframe thead th {\n",
              "        text-align: right;\n",
              "    }\n",
              "</style>\n",
              "<table border=\"1\" class=\"dataframe\">\n",
              "  <thead>\n",
              "    <tr style=\"text-align: right;\">\n",
              "      <th></th>\n",
              "      <th>qid</th>\n",
              "      <th>question_text</th>\n",
              "      <th>target</th>\n",
              "    </tr>\n",
              "  </thead>\n",
              "  <tbody>\n",
              "    <tr>\n",
              "      <th>0</th>\n",
              "      <td>00002165364db923c7e6</td>\n",
              "      <td>How did Quebec nationalists see their province...</td>\n",
              "      <td>0</td>\n",
              "    </tr>\n",
              "    <tr>\n",
              "      <th>1</th>\n",
              "      <td>000032939017120e6e44</td>\n",
              "      <td>Do you have an adopted dog, how would you enco...</td>\n",
              "      <td>0</td>\n",
              "    </tr>\n",
              "    <tr>\n",
              "      <th>2</th>\n",
              "      <td>0000412ca6e4628ce2cf</td>\n",
              "      <td>Why does velocity affect time? Does velocity a...</td>\n",
              "      <td>0</td>\n",
              "    </tr>\n",
              "    <tr>\n",
              "      <th>3</th>\n",
              "      <td>000042bf85aa498cd78e</td>\n",
              "      <td>How did Otto von Guericke used the Magdeburg h...</td>\n",
              "      <td>0</td>\n",
              "    </tr>\n",
              "    <tr>\n",
              "      <th>4</th>\n",
              "      <td>0000455dfa3e01eae3af</td>\n",
              "      <td>Can I convert montra helicon D to a mountain b...</td>\n",
              "      <td>0</td>\n",
              "    </tr>\n",
              "  </tbody>\n",
              "</table>\n",
              "</div>\n",
              "      <button class=\"colab-df-convert\" onclick=\"convertToInteractive('df-77b22b57-f41c-499c-945a-2e62c3e62970')\"\n",
              "              title=\"Convert this dataframe to an interactive table.\"\n",
              "              style=\"display:none;\">\n",
              "        \n",
              "  <svg xmlns=\"http://www.w3.org/2000/svg\" height=\"24px\"viewBox=\"0 0 24 24\"\n",
              "       width=\"24px\">\n",
              "    <path d=\"M0 0h24v24H0V0z\" fill=\"none\"/>\n",
              "    <path d=\"M18.56 5.44l.94 2.06.94-2.06 2.06-.94-2.06-.94-.94-2.06-.94 2.06-2.06.94zm-11 1L8.5 8.5l.94-2.06 2.06-.94-2.06-.94L8.5 2.5l-.94 2.06-2.06.94zm10 10l.94 2.06.94-2.06 2.06-.94-2.06-.94-.94-2.06-.94 2.06-2.06.94z\"/><path d=\"M17.41 7.96l-1.37-1.37c-.4-.4-.92-.59-1.43-.59-.52 0-1.04.2-1.43.59L10.3 9.45l-7.72 7.72c-.78.78-.78 2.05 0 2.83L4 21.41c.39.39.9.59 1.41.59.51 0 1.02-.2 1.41-.59l7.78-7.78 2.81-2.81c.8-.78.8-2.07 0-2.86zM5.41 20L4 18.59l7.72-7.72 1.47 1.35L5.41 20z\"/>\n",
              "  </svg>\n",
              "      </button>\n",
              "      \n",
              "  <style>\n",
              "    .colab-df-container {\n",
              "      display:flex;\n",
              "      flex-wrap:wrap;\n",
              "      gap: 12px;\n",
              "    }\n",
              "\n",
              "    .colab-df-convert {\n",
              "      background-color: #E8F0FE;\n",
              "      border: none;\n",
              "      border-radius: 50%;\n",
              "      cursor: pointer;\n",
              "      display: none;\n",
              "      fill: #1967D2;\n",
              "      height: 32px;\n",
              "      padding: 0 0 0 0;\n",
              "      width: 32px;\n",
              "    }\n",
              "\n",
              "    .colab-df-convert:hover {\n",
              "      background-color: #E2EBFA;\n",
              "      box-shadow: 0px 1px 2px rgba(60, 64, 67, 0.3), 0px 1px 3px 1px rgba(60, 64, 67, 0.15);\n",
              "      fill: #174EA6;\n",
              "    }\n",
              "\n",
              "    [theme=dark] .colab-df-convert {\n",
              "      background-color: #3B4455;\n",
              "      fill: #D2E3FC;\n",
              "    }\n",
              "\n",
              "    [theme=dark] .colab-df-convert:hover {\n",
              "      background-color: #434B5C;\n",
              "      box-shadow: 0px 1px 3px 1px rgba(0, 0, 0, 0.15);\n",
              "      filter: drop-shadow(0px 1px 2px rgba(0, 0, 0, 0.3));\n",
              "      fill: #FFFFFF;\n",
              "    }\n",
              "  </style>\n",
              "\n",
              "      <script>\n",
              "        const buttonEl =\n",
              "          document.querySelector('#df-77b22b57-f41c-499c-945a-2e62c3e62970 button.colab-df-convert');\n",
              "        buttonEl.style.display =\n",
              "          google.colab.kernel.accessAllowed ? 'block' : 'none';\n",
              "\n",
              "        async function convertToInteractive(key) {\n",
              "          const element = document.querySelector('#df-77b22b57-f41c-499c-945a-2e62c3e62970');\n",
              "          const dataTable =\n",
              "            await google.colab.kernel.invokeFunction('convertToInteractive',\n",
              "                                                     [key], {});\n",
              "          if (!dataTable) return;\n",
              "\n",
              "          const docLinkHtml = 'Like what you see? Visit the ' +\n",
              "            '<a target=\"_blank\" href=https://colab.research.google.com/notebooks/data_table.ipynb>data table notebook</a>'\n",
              "            + ' to learn more about interactive tables.';\n",
              "          element.innerHTML = '';\n",
              "          dataTable['output_type'] = 'display_data';\n",
              "          await google.colab.output.renderOutput(dataTable, element);\n",
              "          const docLink = document.createElement('div');\n",
              "          docLink.innerHTML = docLinkHtml;\n",
              "          element.appendChild(docLink);\n",
              "        }\n",
              "      </script>\n",
              "    </div>\n",
              "  </div>\n",
              "  "
            ]
          },
          "metadata": {},
          "execution_count": 12
        }
      ]
    },
    {
      "cell_type": "code",
      "source": [
        "df.shape"
      ],
      "metadata": {
        "colab": {
          "base_uri": "https://localhost:8080/"
        },
        "id": "oHoe7j5FX0OW",
        "outputId": "5a9e3666-df8c-4892-8544-ca1234cc4607"
      },
      "execution_count": null,
      "outputs": [
        {
          "output_type": "execute_result",
          "data": {
            "text/plain": [
              "(1306122, 3)"
            ]
          },
          "metadata": {},
          "execution_count": 9
        }
      ]
    },
    {
      "cell_type": "code",
      "source": [
        "df.columns"
      ],
      "metadata": {
        "colab": {
          "base_uri": "https://localhost:8080/"
        },
        "id": "lO6UhnWPE0s0",
        "outputId": "845ef401-f996-4cd9-e2a7-9e4f29594886"
      },
      "execution_count": null,
      "outputs": [
        {
          "output_type": "execute_result",
          "data": {
            "text/plain": [
              "Index(['qid', 'question_text', 'target'], dtype='object')"
            ]
          },
          "metadata": {},
          "execution_count": 10
        }
      ]
    },
    {
      "cell_type": "code",
      "source": [
        "df.info()"
      ],
      "metadata": {
        "colab": {
          "base_uri": "https://localhost:8080/"
        },
        "id": "OwPGoupAFWNi",
        "outputId": "a979f71a-dc1b-4666-a747-9a247e7d2948"
      },
      "execution_count": null,
      "outputs": [
        {
          "output_type": "stream",
          "name": "stdout",
          "text": [
            "<class 'pandas.core.frame.DataFrame'>\n",
            "RangeIndex: 1306122 entries, 0 to 1306121\n",
            "Data columns (total 3 columns):\n",
            " #   Column         Non-Null Count    Dtype \n",
            "---  ------         --------------    ----- \n",
            " 0   qid            1306122 non-null  object\n",
            " 1   question_text  1306122 non-null  object\n",
            " 2   target         1306122 non-null  int64 \n",
            "dtypes: int64(1), object(2)\n",
            "memory usage: 29.9+ MB\n"
          ]
        }
      ]
    },
    {
      "cell_type": "code",
      "source": [
        "df.isnull().sum().sum()"
      ],
      "metadata": {
        "colab": {
          "base_uri": "https://localhost:8080/"
        },
        "id": "p2Z0heDIrs82",
        "outputId": "0d136b82-c424-4010-8393-514ace698d1c"
      },
      "execution_count": null,
      "outputs": [
        {
          "output_type": "execute_result",
          "data": {
            "text/plain": [
              "0"
            ]
          },
          "metadata": {},
          "execution_count": 82
        }
      ]
    },
    {
      "cell_type": "code",
      "source": [
        "df.target.value_counts(normalize=True)"
      ],
      "metadata": {
        "colab": {
          "base_uri": "https://localhost:8080/"
        },
        "id": "c9VdFGGrX-Ze",
        "outputId": "1d6f94d6-0dd4-4c50-984a-17a08c846ab0"
      },
      "execution_count": null,
      "outputs": [
        {
          "output_type": "execute_result",
          "data": {
            "text/plain": [
              "0    0.93813\n",
              "1    0.06187\n",
              "Name: target, dtype: float64"
            ]
          },
          "metadata": {},
          "execution_count": 25
        }
      ]
    },
    {
      "cell_type": "code",
      "source": [
        "df[df.target==1].question_text.values[:5]"
      ],
      "metadata": {
        "colab": {
          "base_uri": "https://localhost:8080/"
        },
        "id": "SPQcxhXUakbw",
        "outputId": "c1a5a6d5-8e86-4c82-f91e-8341394c172b"
      },
      "execution_count": null,
      "outputs": [
        {
          "output_type": "execute_result",
          "data": {
            "text/plain": [
              "array(['Has the United States become the largest dictatorship in the world?',\n",
              "       'Which babies are more sweeter to their parents? Dark skin babies or light skin babies?',\n",
              "       \"If blacks support school choice and mandatory sentencing for criminals why don't they vote Republican?\",\n",
              "       'I am gay boy and I love my cousin (boy). He is sexy, but I dont know what to do. He is hot, and I want to see his di**. What should I do?',\n",
              "       'Which races have the smallest penis?'], dtype=object)"
            ]
          },
          "metadata": {},
          "execution_count": 19
        }
      ]
    },
    {
      "cell_type": "markdown",
      "source": [
        "# Implement Bag of Words"
      ],
      "metadata": {
        "id": "r1XVONRkXSCl"
      }
    },
    {
      "cell_type": "markdown",
      "source": [
        "## Create vocabulary and Configure text prepocessing using Count Vectorizer"
      ],
      "metadata": {
        "id": "0uutjc6Yh5lC"
      }
    },
    {
      "cell_type": "code",
      "source": [
        "from sklearn.feature_extraction.text import CountVectorizer"
      ],
      "metadata": {
        "id": "dOCG0rbkjgLQ"
      },
      "execution_count": null,
      "outputs": []
    },
    {
      "cell_type": "code",
      "source": [
        "# text preprocessing\n",
        "\n",
        "import nltk\n",
        "\n",
        "# Step 1: word_tokenize\n",
        "from nltk.tokenize import word_tokenize\n",
        "nltk.download('punkt')\n",
        "# Step 2: stop_words removal\n",
        "from nltk.corpus import stopwords\n",
        "nltk.download('stopwords')\n",
        "\n",
        "stopwords = stopwords.words('english')\n",
        "#Step 3: stemming\n",
        "from nltk.stem import SnowballStemmer"
      ],
      "metadata": {
        "id": "NOGu6pSkmQCU",
        "colab": {
          "base_uri": "https://localhost:8080/"
        },
        "outputId": "eadaba44-d55a-46eb-df75-1d5fd4e9b7cb"
      },
      "execution_count": 7,
      "outputs": [
        {
          "output_type": "stream",
          "name": "stderr",
          "text": [
            "[nltk_data] Downloading package punkt to /root/nltk_data...\n",
            "[nltk_data]   Unzipping tokenizers/punkt.zip.\n",
            "[nltk_data] Downloading package stopwords to /root/nltk_data...\n",
            "[nltk_data]   Unzipping corpora/stopwords.zip.\n"
          ]
        }
      ]
    },
    {
      "cell_type": "code",
      "source": [
        "def text_preprocessor(text):\n",
        "  return [SnowballStemmer(language='english').stem(word) for word in word_tokenize(text) if word not in stopwords]"
      ],
      "metadata": {
        "id": "QEGdKq5Fo0h3"
      },
      "execution_count": 12,
      "outputs": []
    },
    {
      "cell_type": "code",
      "source": [
        "vectorizer = CountVectorizer(lowercase=True, tokenizer = text_preprocessor, max_features=1000 )\n",
        "vectorizer.fit(df.question_text)"
      ],
      "metadata": {
        "colab": {
          "base_uri": "https://localhost:8080/",
          "height": 147
        },
        "id": "CMHzlPAyjvUi",
        "outputId": "5a854d7a-6b65-40bf-927a-c6052782ac62"
      },
      "execution_count": null,
      "outputs": [
        {
          "output_type": "stream",
          "name": "stderr",
          "text": [
            "/usr/local/lib/python3.9/dist-packages/sklearn/feature_extraction/text.py:528: UserWarning: The parameter 'token_pattern' will not be used since 'tokenizer' is not None'\n",
            "  warnings.warn(\n"
          ]
        },
        {
          "output_type": "execute_result",
          "data": {
            "text/plain": [
              "CountVectorizer(max_features=1000,\n",
              "                tokenizer=<function text_preprocessor at 0x7f90a2cf3a60>)"
            ],
            "text/html": [
              "<style>#sk-container-id-1 {color: black;background-color: white;}#sk-container-id-1 pre{padding: 0;}#sk-container-id-1 div.sk-toggleable {background-color: white;}#sk-container-id-1 label.sk-toggleable__label {cursor: pointer;display: block;width: 100%;margin-bottom: 0;padding: 0.3em;box-sizing: border-box;text-align: center;}#sk-container-id-1 label.sk-toggleable__label-arrow:before {content: \"▸\";float: left;margin-right: 0.25em;color: #696969;}#sk-container-id-1 label.sk-toggleable__label-arrow:hover:before {color: black;}#sk-container-id-1 div.sk-estimator:hover label.sk-toggleable__label-arrow:before {color: black;}#sk-container-id-1 div.sk-toggleable__content {max-height: 0;max-width: 0;overflow: hidden;text-align: left;background-color: #f0f8ff;}#sk-container-id-1 div.sk-toggleable__content pre {margin: 0.2em;color: black;border-radius: 0.25em;background-color: #f0f8ff;}#sk-container-id-1 input.sk-toggleable__control:checked~div.sk-toggleable__content {max-height: 200px;max-width: 100%;overflow: auto;}#sk-container-id-1 input.sk-toggleable__control:checked~label.sk-toggleable__label-arrow:before {content: \"▾\";}#sk-container-id-1 div.sk-estimator input.sk-toggleable__control:checked~label.sk-toggleable__label {background-color: #d4ebff;}#sk-container-id-1 div.sk-label input.sk-toggleable__control:checked~label.sk-toggleable__label {background-color: #d4ebff;}#sk-container-id-1 input.sk-hidden--visually {border: 0;clip: rect(1px 1px 1px 1px);clip: rect(1px, 1px, 1px, 1px);height: 1px;margin: -1px;overflow: hidden;padding: 0;position: absolute;width: 1px;}#sk-container-id-1 div.sk-estimator {font-family: monospace;background-color: #f0f8ff;border: 1px dotted black;border-radius: 0.25em;box-sizing: border-box;margin-bottom: 0.5em;}#sk-container-id-1 div.sk-estimator:hover {background-color: #d4ebff;}#sk-container-id-1 div.sk-parallel-item::after {content: \"\";width: 100%;border-bottom: 1px solid gray;flex-grow: 1;}#sk-container-id-1 div.sk-label:hover label.sk-toggleable__label {background-color: #d4ebff;}#sk-container-id-1 div.sk-serial::before {content: \"\";position: absolute;border-left: 1px solid gray;box-sizing: border-box;top: 0;bottom: 0;left: 50%;z-index: 0;}#sk-container-id-1 div.sk-serial {display: flex;flex-direction: column;align-items: center;background-color: white;padding-right: 0.2em;padding-left: 0.2em;position: relative;}#sk-container-id-1 div.sk-item {position: relative;z-index: 1;}#sk-container-id-1 div.sk-parallel {display: flex;align-items: stretch;justify-content: center;background-color: white;position: relative;}#sk-container-id-1 div.sk-item::before, #sk-container-id-1 div.sk-parallel-item::before {content: \"\";position: absolute;border-left: 1px solid gray;box-sizing: border-box;top: 0;bottom: 0;left: 50%;z-index: -1;}#sk-container-id-1 div.sk-parallel-item {display: flex;flex-direction: column;z-index: 1;position: relative;background-color: white;}#sk-container-id-1 div.sk-parallel-item:first-child::after {align-self: flex-end;width: 50%;}#sk-container-id-1 div.sk-parallel-item:last-child::after {align-self: flex-start;width: 50%;}#sk-container-id-1 div.sk-parallel-item:only-child::after {width: 0;}#sk-container-id-1 div.sk-dashed-wrapped {border: 1px dashed gray;margin: 0 0.4em 0.5em 0.4em;box-sizing: border-box;padding-bottom: 0.4em;background-color: white;}#sk-container-id-1 div.sk-label label {font-family: monospace;font-weight: bold;display: inline-block;line-height: 1.2em;}#sk-container-id-1 div.sk-label-container {text-align: center;}#sk-container-id-1 div.sk-container {/* jupyter's `normalize.less` sets `[hidden] { display: none; }` but bootstrap.min.css set `[hidden] { display: none !important; }` so we also need the `!important` here to be able to override the default hidden behavior on the sphinx rendered scikit-learn.org. See: https://github.com/scikit-learn/scikit-learn/issues/21755 */display: inline-block !important;position: relative;}#sk-container-id-1 div.sk-text-repr-fallback {display: none;}</style><div id=\"sk-container-id-1\" class=\"sk-top-container\"><div class=\"sk-text-repr-fallback\"><pre>CountVectorizer(max_features=1000,\n",
              "                tokenizer=&lt;function text_preprocessor at 0x7f90a2cf3a60&gt;)</pre><b>In a Jupyter environment, please rerun this cell to show the HTML representation or trust the notebook. <br />On GitHub, the HTML representation is unable to render, please try loading this page with nbviewer.org.</b></div><div class=\"sk-container\" hidden><div class=\"sk-item\"><div class=\"sk-estimator sk-toggleable\"><input class=\"sk-toggleable__control sk-hidden--visually\" id=\"sk-estimator-id-1\" type=\"checkbox\" checked><label for=\"sk-estimator-id-1\" class=\"sk-toggleable__label sk-toggleable__label-arrow\">CountVectorizer</label><div class=\"sk-toggleable__content\"><pre>CountVectorizer(max_features=1000,\n",
              "                tokenizer=&lt;function text_preprocessor at 0x7f90a2cf3a60&gt;)</pre></div></div></div></div></div>"
            ]
          },
          "metadata": {},
          "execution_count": 11
        }
      ]
    },
    {
      "cell_type": "code",
      "source": [
        "vectorizer.get_feature_names_out()"
      ],
      "metadata": {
        "colab": {
          "base_uri": "https://localhost:8080/"
        },
        "id": "sXQDZtPljvXJ",
        "outputId": "6fcc4c7d-e8b1-45ad-816c-9eb799ed2d98"
      },
      "execution_count": null,
      "outputs": [
        {
          "output_type": "execute_result",
          "data": {
            "text/plain": [
              "array(['!', '$', '%', '&', \"'\", \"''\", \"'m\", \"'s\", '(', ')', ',', '-', '.',\n",
              "       '1', '10', '100', '12', '12th', '15', '2', '20', '2017', '2018',\n",
              "       '3', '4', '5', '6', '7', '8', ':', '?', '[', ']', '``', 'abl',\n",
              "       'abroad', 'abus', 'accept', 'access', 'accomplish', 'accord',\n",
              "       'account', 'achiev', 'acid', 'act', 'action', 'activ', 'actor',\n",
              "       'actual', 'ad', 'add', 'address', 'admiss', 'adult', 'advanc',\n",
              "       'advantag', 'advic', 'affect', 'africa', 'african', 'age', 'ago',\n",
              "       'air', 'allow', 'almost', 'alon', 'alreadi', 'also', 'altern',\n",
              "       'alway', 'amazon', 'america', 'american', 'among', 'amount',\n",
              "       'analysi', 'android', 'anim', 'anoth', 'answer', 'anyon', 'anyth',\n",
              "       'apart', 'app', 'appear', 'appl', 'appli', 'applic', 'approach',\n",
              "       'arab', 'area', 'arm', 'armi', 'around', 'art', 'asian', 'ask',\n",
              "       'associ', 'atheist', 'attack', 'attend', 'attract', 'australia',\n",
              "       'avail', 'averag', 'avoid', 'away', 'b', 'babi', 'back', 'bad',\n",
              "       'ban', 'bangalor', 'bank', 'base', 'basic', 'beauti', 'becom',\n",
              "       'begin', 'behind', 'believ', 'benefit', 'best', 'better', 'big',\n",
              "       'biggest', 'bill', 'biolog', 'bit', 'bitcoin', 'black', 'block',\n",
              "       'blog', 'blood', 'blue', 'board', 'bodi', 'book', 'born', 'boy',\n",
              "       'boyfriend', 'brain', 'branch', 'brand', 'break', 'bring',\n",
              "       'british', 'brother', 'build', 'busi', 'buy', 'c', 'ca', 'calcul',\n",
              "       'call', 'canada', 'cancer', 'candid', 'capit', 'car', 'card',\n",
              "       'care', 'career', 'carri', 'case', 'cast', 'cat', 'caus', 'cbse',\n",
              "       'celebr', 'cell', 'certain', 'certif', 'challeng', 'chanc',\n",
              "       'chang', 'channel', 'charact', 'characterist', 'charg', 'cheat',\n",
              "       'check', 'chemic', 'chemistri', 'child', 'children', 'china',\n",
              "       'chines', 'choic', 'choos', 'christian', 'citi', 'citizen',\n",
              "       'civil', 'claim', 'class', 'clean', 'clear', 'close', 'cloth',\n",
              "       'coach', 'code', 'cold', 'colleg', 'color', 'come', 'comment',\n",
              "       'commit', 'common', 'communic', 'communiti', 'compani', 'compar',\n",
              "       'complet', 'comput', 'concept', 'condit', 'connect', 'conserv',\n",
              "       'consid', 'constant', 'contact', 'content', 'continu', 'contribut',\n",
              "       'control', 'convers', 'convert', 'cook', 'correct', 'cost',\n",
              "       'could', 'countri', 'coupl', 'cours', 'court', 'cover', 'crack',\n",
              "       'creat', 'credit', 'crime', 'crush', 'cse', 'cultur', 'current',\n",
              "       'custom', 'cut', 'daili', 'danger', 'dark', 'data', 'date',\n",
              "       'daughter', 'day', 'dead', 'deal', 'death', 'decid', 'decis',\n",
              "       'defin', 'degre', 'delet', 'delhi', 'democrat', 'depress',\n",
              "       'describ', 'design', 'destroy', 'detail', 'determin', 'develop',\n",
              "       'devic', 'die', 'differ', 'difficult', 'digit', 'direct', 'disord',\n",
              "       'distanc', 'doctor', 'dog', 'donald', 'done', 'download', 'dream',\n",
              "       'drink', 'drive', 'drop', 'drug', 'due', 'earli', 'earn', 'earth',\n",
              "       'easi', 'easili', 'east', 'eat', 'econom', 'economi', 'educ',\n",
              "       'effect', 'elect', 'electr', 'electron', 'els', 'email', 'emot',\n",
              "       'employ', 'employe', 'end', 'energi', 'engin', 'english', 'enjoy',\n",
              "       'enough', 'enter', 'equal', 'especi', 'etc', 'europ', 'european',\n",
              "       'even', 'event', 'ever', 'everi', 'everyon', 'everyth', 'ex',\n",
              "       'exact', 'exam', 'exampl', 'exercis', 'exist', 'expect', 'expens',\n",
              "       'experi', 'explain', 'express', 'extrem', 'eye', 'face',\n",
              "       'facebook', 'fact', 'factor', 'fail', 'fake', 'fall', 'famili',\n",
              "       'famous', 'far', 'fast', 'fat', 'father', 'favorit', 'fear',\n",
              "       'featur', 'fee', 'feel', 'femal', 'field', 'fight', 'file', 'film',\n",
              "       'final', 'financ', 'financi', 'find', 'fire', 'first', 'fit',\n",
              "       'fix', 'fli', 'focus', 'follow', 'food', 'footbal', 'forc',\n",
              "       'foreign', 'form', 'found', 'free', 'french', 'friend', 'full',\n",
              "       'function', 'fund', 'futur', 'gain', 'game', 'gas', 'gate', 'gay',\n",
              "       'general', 'generat', 'german', 'germani', 'get', 'girl',\n",
              "       'girlfriend', 'give', 'given', 'global', 'go', 'god', 'good',\n",
              "       'googl', 'got', 'govern', 'grade', 'graduat', 'great', 'green',\n",
              "       'group', 'grow', 'gun', 'guy', 'hack', 'hair', 'hand', 'handl',\n",
              "       'happen', 'happi', 'hard', 'hate', 'head', 'health', 'healthi',\n",
              "       'hear', 'heart', 'heat', 'help', 'high', 'higher', 'hindi',\n",
              "       'hindu', 'hire', 'histori', 'hit', 'hold', 'home', 'hotel', 'hour',\n",
              "       'hous', 'human', 'hurt', 'husband', 'hyderabad', 'idea', 'ignor',\n",
              "       'iit', 'illeg', 'imag', 'immigr', 'impact', 'import', 'improv',\n",
              "       'includ', 'incom', 'increas', 'independ', 'india', 'indian',\n",
              "       'individu', 'industri', 'influenc', 'inform', 'insid', 'inspir',\n",
              "       'instagram', 'instead', 'institut', 'insur', 'intellig',\n",
              "       'interest', 'intern', 'internet', 'internship', 'interview',\n",
              "       'invent', 'invest', 'involv', 'iphon', 'iq', 'islam', 'israel',\n",
              "       'issu', 'japan', 'japanes', 'java', 'jee', 'jew', 'job', 'join',\n",
              "       'keep', 'kid', 'kill', 'kind', 'know', 'knowledg', 'known',\n",
              "       'korea', 'korean', 'land', 'languag', 'laptop', 'larg', 'last',\n",
              "       'late', 'later', 'law', 'lead', 'leader', 'learn', 'least', 'leav',\n",
              "       'left', 'legal', 'less', 'let', 'letter', 'level', 'liber', 'lie',\n",
              "       'life', 'light', 'like', 'limit', 'line', 'link', 'list', 'littl',\n",
              "       'live', 'loan', 'locat', 'long', 'look', 'lose', 'lost', 'lot',\n",
              "       'love', 'low', 'lower', 'machin', 'made', 'main', 'major', 'make',\n",
              "       'male', 'man', 'manag', 'mani', 'manufactur', 'mark', 'market',\n",
              "       'marri', 'marriag', 'mass', 'master', 'materi', 'math', 'mathemat',\n",
              "       'matter', 'may', 'mba', 'mean', 'measur', 'mechan', 'media',\n",
              "       'medic', 'medicin', 'meet', 'member', 'memori', 'men', 'mental',\n",
              "       'messag', 'method', 'middl', 'might', 'militari', 'million',\n",
              "       'mind', 'minimum', 'miss', 'mobil', 'model', 'modern', 'modi',\n",
              "       'mom', 'moment', 'money', 'month', 'mother', 'motiv', 'move',\n",
              "       'movi', 'ms', 'much', 'multipl', 'mumbai', 'music', 'muslim',\n",
              "       'must', \"n't\", 'name', 'narcissist', 'nation', 'natur', 'near',\n",
              "       'necessari', 'need', 'neet', 'negat', 'network', 'never', 'new',\n",
              "       'news', 'next', 'night', 'nit', 'non', 'normal', 'north', 'note',\n",
              "       'noth', 'novel', 'nuclear', 'number', 'obama', 'object', 'offer',\n",
              "       'offic', 'often', 'oil', 'ok', 'okay', 'old', 'one', 'onlin',\n",
              "       'open', 'oper', 'opinion', 'opportun', 'option', 'order', 'organ',\n",
              "       'origin', 'other', 'outsid', 'page', 'paid', 'pain', 'pakistan',\n",
              "       'paper', 'parent', 'part', 'parti', 'partner', 'pass', 'past',\n",
              "       'pay', 'peopl', 'per', 'percentag', 'perfect', 'perform', 'period',\n",
              "       'person', 'phd', 'phone', 'photo', 'physic', 'pictur', 'place',\n",
              "       'placement', 'plan', 'planet', 'plant', 'play', 'player', 'pleas',\n",
              "       'point', 'polic', 'polici', 'polit', 'poor', 'popul', 'popular',\n",
              "       'posit', 'possibl', 'post', 'potenti', 'power', 'practic',\n",
              "       'prefer', 'pregnant', 'prepar', 'present', 'presid', 'pressur',\n",
              "       'prevent', 'price', 'privat', 'problem', 'procedur', 'process',\n",
              "       'produc', 'product', 'profession', 'profil', 'profit', 'program',\n",
              "       'project', 'promot', 'properti', 'protect', 'prove', 'provid',\n",
              "       'psycholog', 'public', 'pune', 'purchas', 'purpos', 'pursu', 'put',\n",
              "       'qualiti', 'question', 'quora', 'race', 'racist', 'rais', 'rank',\n",
              "       'rape', 'rate', 'rather', 're', 'reach', 'react', 'reaction',\n",
              "       'read', 'real', 'realiz', 'realli', 'reason', 'receiv', 'recent',\n",
              "       'recommend', 'record', 'red', 'reduc', 'refer', 'regard',\n",
              "       'regular', 'relat', 'relationship', 'releas', 'religi', 'religion',\n",
              "       'remov', 'replac', 'report', 'republican', 'requir', 'research',\n",
              "       'resourc', 'respect', 'respons', 'rest', 'result', 'return',\n",
              "       'review', 'rich', 'rid', 'right', 'risk', 'role', 'room', 'rule',\n",
              "       'run', 'russia', 'russian', 'safe', 'said', 'salari', 'sale',\n",
              "       'save', 'say', 'school', 'scienc', 'scope', 'score', 'search',\n",
              "       'season', 'seat', 'second', 'secret', 'secur', 'see', 'seem',\n",
              "       'seen', 'select', 'self', 'sell', 'send', 'sens', 'sentenc',\n",
              "       'separ', 'seri', 'serious', 'serv', 'servic', 'set', 'sex',\n",
              "       'sexual', 'share', 'shoot', 'shop', 'short', 'show', 'side',\n",
              "       'sign', 'signific', 'similar', 'simpl', 'sinc', 'singl', 'sister',\n",
              "       'site', 'situat', 'size', 'skill', 'skin', 'sleep', 'small',\n",
              "       'smart', 'smoke', 'social', 'societi', 'softwar', 'solut', 'solv',\n",
              "       'someon', 'someth', 'sometim', 'son', 'song', 'sound', 'sourc',\n",
              "       'south', 'space', 'speak', 'special', 'specif', 'speed', 'spend',\n",
              "       'sport', 'stand', 'standard', 'star', 'start', 'startup', 'state',\n",
              "       'stay', 'step', 'still', 'stock', 'stop', 'store', 'stori',\n",
              "       'strategi', 'strong', 'structur', 'student', 'studi', 'stupid',\n",
              "       'style', 'subject', 'success', 'sudden', 'suffer', 'suggest',\n",
              "       'suicid', 'summer', 'support', 'surviv', 'switch', 'system',\n",
              "       'take', 'taken', 'talk', 'tamil', 'tax', 'teach', 'teacher',\n",
              "       'team', 'tech', 'techniqu', 'technolog', 'teenag', 'tell', 'term',\n",
              "       'test', 'text', 'theori', 'thing', 'think', 'though', 'thought',\n",
              "       'three', 'time', 'tip', 'today', 'togeth', 'told', 'tool', 'top',\n",
              "       'topic', 'total', 'toward', 'track', 'trade', 'train', 'transfer',\n",
              "       'travel', 'treat', 'treatment', 'tri', 'true', 'trump', 'trust',\n",
              "       'turn', 'tv', 'two', 'type', 'u.s.', 'uk', 'understand', 'unit',\n",
              "       'univers', 'upsc', 'us', 'usa', 'use', 'user', 'usual', 'valu',\n",
              "       've', 'video', 'view', 'visa', 'visit', 'vote', 'vs', 'walk',\n",
              "       'want', 'war', 'watch', 'water', 'way', 'weapon', 'wear', 'web',\n",
              "       'websit', 'week', 'weight', 'well', 'west', 'western', 'white',\n",
              "       'whole', 'wife', 'win', 'window', 'wish', 'within', 'without',\n",
              "       'wo', 'woman', 'women', 'word', 'work', 'world', 'worst', 'worth',\n",
              "       'would', 'write', 'writer', 'written', 'wrong', 'x', 'year', 'yes',\n",
              "       'yet', 'young', 'youtub', '{', '}', '’', '“', '”'], dtype=object)"
            ]
          },
          "metadata": {},
          "execution_count": 12
        }
      ]
    },
    {
      "cell_type": "markdown",
      "source": [
        "## Transform text to vectors using Count Vectorizer"
      ],
      "metadata": {
        "id": "TjUb7FeVh5of"
      }
    },
    {
      "cell_type": "code",
      "source": [
        "inputs = vectorizer.transform(df.question_text)"
      ],
      "metadata": {
        "id": "j3HtWrGQjudZ"
      },
      "execution_count": null,
      "outputs": []
    },
    {
      "cell_type": "code",
      "source": [
        "inputs.shape"
      ],
      "metadata": {
        "colab": {
          "base_uri": "https://localhost:8080/"
        },
        "id": "l9FoEd6uqvij",
        "outputId": "a52dec08-2125-4e31-e21b-b6f1b2366e0c"
      },
      "execution_count": null,
      "outputs": [
        {
          "output_type": "execute_result",
          "data": {
            "text/plain": [
              "(1306122, 1000)"
            ]
          },
          "metadata": {},
          "execution_count": 14
        }
      ]
    },
    {
      "cell_type": "code",
      "source": [
        "inputs.toarray()"
      ],
      "metadata": {
        "colab": {
          "base_uri": "https://localhost:8080/"
        },
        "id": "quMDi58yjvaW",
        "outputId": "07effeb8-8efd-44d4-c354-97bda1f1391b"
      },
      "execution_count": null,
      "outputs": [
        {
          "output_type": "execute_result",
          "data": {
            "text/plain": [
              "array([[0, 0, 0, ..., 0, 0, 0],\n",
              "       [0, 0, 0, ..., 0, 0, 0],\n",
              "       [0, 0, 0, ..., 0, 0, 0],\n",
              "       ...,\n",
              "       [0, 0, 0, ..., 0, 0, 0],\n",
              "       [0, 0, 0, ..., 0, 0, 0],\n",
              "       [0, 0, 0, ..., 0, 0, 0]])"
            ]
          },
          "metadata": {},
          "execution_count": 15
        }
      ]
    },
    {
      "cell_type": "code",
      "source": [
        "test_inputs = vectorizer.transform(test.question_text)"
      ],
      "metadata": {
        "id": "lFHVTgtDr2YP"
      },
      "execution_count": null,
      "outputs": []
    },
    {
      "cell_type": "markdown",
      "source": [
        "# ML for Text Classification"
      ],
      "metadata": {
        "id": "NkxkaFv4XSGN"
      }
    },
    {
      "cell_type": "markdown",
      "source": [
        "### Split into train and test set"
      ],
      "metadata": {
        "id": "_Z8kZqTrtN3c"
      }
    },
    {
      "cell_type": "code",
      "source": [
        "from sklearn.model_selection import train_test_split"
      ],
      "metadata": {
        "id": "ZaS8XNfAuXDq"
      },
      "execution_count": 18,
      "outputs": []
    },
    {
      "cell_type": "code",
      "source": [
        "train_feature, test_feature, train_target, test_target =  train_test_split(inputs,df.target, test_size = 0.2, random_state=42)"
      ],
      "metadata": {
        "id": "J069dsUfBTL1"
      },
      "execution_count": null,
      "outputs": []
    },
    {
      "cell_type": "code",
      "source": [
        "train_feature.shape"
      ],
      "metadata": {
        "id": "hROYcF-o_z23",
        "colab": {
          "base_uri": "https://localhost:8080/"
        },
        "outputId": "1a155a44-c00f-4975-aba2-cfef4ae94023"
      },
      "execution_count": null,
      "outputs": [
        {
          "output_type": "execute_result",
          "data": {
            "text/plain": [
              "(1044897, 1000)"
            ]
          },
          "metadata": {},
          "execution_count": 20
        }
      ]
    },
    {
      "cell_type": "markdown",
      "source": [
        "### Train a logistic regression model"
      ],
      "metadata": {
        "id": "ARfBABNqtak2"
      }
    },
    {
      "cell_type": "code",
      "source": [
        "from sklearn.linear_model import LogisticRegression"
      ],
      "metadata": {
        "id": "TxGoB3v5tjRI"
      },
      "execution_count": 8,
      "outputs": []
    },
    {
      "cell_type": "code",
      "source": [
        "clf = LogisticRegression(max_iter = 2000, solver='sag' ).fit(train_feature, train_target)"
      ],
      "metadata": {
        "id": "1fo7BTcytnjy"
      },
      "execution_count": null,
      "outputs": []
    },
    {
      "cell_type": "markdown",
      "source": [
        "### Predict on test data"
      ],
      "metadata": {
        "id": "FuZWJ-wWtn1l"
      }
    },
    {
      "cell_type": "code",
      "source": [
        "from sklearn.metrics import accuracy_score, f1_score"
      ],
      "metadata": {
        "id": "Lj224Za0wrGm"
      },
      "execution_count": 28,
      "outputs": []
    },
    {
      "cell_type": "code",
      "source": [
        "accuracy_score(test_target,clf.predict(test_feature) )"
      ],
      "metadata": {
        "colab": {
          "base_uri": "https://localhost:8080/"
        },
        "id": "e1Fnuvf5toJ7",
        "outputId": "692df16e-24de-4203-f917-b7d33d42d841"
      },
      "execution_count": null,
      "outputs": [
        {
          "output_type": "execute_result",
          "data": {
            "text/plain": [
              "0.9462072925638817"
            ]
          },
          "metadata": {},
          "execution_count": 24
        }
      ]
    },
    {
      "cell_type": "code",
      "source": [
        "f1_score(test_target,clf.predict(test_feature))"
      ],
      "metadata": {
        "colab": {
          "base_uri": "https://localhost:8080/"
        },
        "id": "ti0pJWEAxJRE",
        "outputId": "68c2b8a7-f5b4-4f32-bd79-5d29e9a38482"
      },
      "execution_count": null,
      "outputs": [
        {
          "output_type": "execute_result",
          "data": {
            "text/plain": [
              "0.38009528851244045"
            ]
          },
          "metadata": {},
          "execution_count": 25
        }
      ]
    },
    {
      "cell_type": "markdown",
      "source": [
        "# Submission"
      ],
      "metadata": {
        "id": "qA3gA8OJySiS"
      }
    },
    {
      "cell_type": "code",
      "source": [
        "pred = clf.predict(test_inputs)"
      ],
      "metadata": {
        "id": "KGhGgo6Qyf7l"
      },
      "execution_count": null,
      "outputs": []
    },
    {
      "cell_type": "code",
      "source": [
        "test['prediction'] = pred"
      ],
      "metadata": {
        "id": "44JnYKMttoM_"
      },
      "execution_count": null,
      "outputs": []
    },
    {
      "cell_type": "code",
      "source": [
        "del test['question_text']"
      ],
      "metadata": {
        "id": "tOO7IqAAzTOQ"
      },
      "execution_count": null,
      "outputs": []
    },
    {
      "cell_type": "code",
      "source": [
        "test.to_csv('submission.csv', index=None)"
      ],
      "metadata": {
        "id": "BpwMfJUIyVTL"
      },
      "execution_count": null,
      "outputs": []
    },
    {
      "cell_type": "markdown",
      "source": [
        "# Neural Networks and Embeddings "
      ],
      "metadata": {
        "id": "8DJUc-LEtZjY"
      }
    },
    {
      "cell_type": "code",
      "source": [
        "sample_df = df.sample(100_000, random_state=42)"
      ],
      "metadata": {
        "id": "LCw8QhSvuN_F"
      },
      "execution_count": 9,
      "outputs": []
    },
    {
      "cell_type": "markdown",
      "source": [
        "## Conversion to TF-IDF Vectors\n"
      ],
      "metadata": {
        "id": "JNJwg54xttSz"
      }
    },
    {
      "cell_type": "code",
      "source": [
        "from sklearn.feature_extraction.text import TfidfVectorizer"
      ],
      "metadata": {
        "id": "MdQEjCUAtZ54"
      },
      "execution_count": 10,
      "outputs": []
    },
    {
      "cell_type": "code",
      "source": [
        "vectorizer = TfidfVectorizer(lowercase=True, \n",
        "                             tokenizer=text_preprocessor,\n",
        "                             max_features=1000)"
      ],
      "metadata": {
        "id": "Bl9Z4gY0tx_h"
      },
      "execution_count": 13,
      "outputs": []
    },
    {
      "cell_type": "code",
      "source": [
        "vectorizer.fit(sample_df.question_text)"
      ],
      "metadata": {
        "colab": {
          "base_uri": "https://localhost:8080/",
          "height": 149
        },
        "id": "Ov48An8ityCi",
        "outputId": "e9c01019-73cb-40f1-e3ea-d96bd25fba5d"
      },
      "execution_count": 14,
      "outputs": [
        {
          "output_type": "stream",
          "name": "stderr",
          "text": [
            "/usr/local/lib/python3.10/dist-packages/sklearn/feature_extraction/text.py:528: UserWarning: The parameter 'token_pattern' will not be used since 'tokenizer' is not None'\n",
            "  warnings.warn(\n"
          ]
        },
        {
          "output_type": "execute_result",
          "data": {
            "text/plain": [
              "TfidfVectorizer(max_features=1000,\n",
              "                tokenizer=<function text_preprocessor at 0x7f6c5eccb6d0>)"
            ],
            "text/html": [
              "<style>#sk-container-id-1 {color: black;background-color: white;}#sk-container-id-1 pre{padding: 0;}#sk-container-id-1 div.sk-toggleable {background-color: white;}#sk-container-id-1 label.sk-toggleable__label {cursor: pointer;display: block;width: 100%;margin-bottom: 0;padding: 0.3em;box-sizing: border-box;text-align: center;}#sk-container-id-1 label.sk-toggleable__label-arrow:before {content: \"▸\";float: left;margin-right: 0.25em;color: #696969;}#sk-container-id-1 label.sk-toggleable__label-arrow:hover:before {color: black;}#sk-container-id-1 div.sk-estimator:hover label.sk-toggleable__label-arrow:before {color: black;}#sk-container-id-1 div.sk-toggleable__content {max-height: 0;max-width: 0;overflow: hidden;text-align: left;background-color: #f0f8ff;}#sk-container-id-1 div.sk-toggleable__content pre {margin: 0.2em;color: black;border-radius: 0.25em;background-color: #f0f8ff;}#sk-container-id-1 input.sk-toggleable__control:checked~div.sk-toggleable__content {max-height: 200px;max-width: 100%;overflow: auto;}#sk-container-id-1 input.sk-toggleable__control:checked~label.sk-toggleable__label-arrow:before {content: \"▾\";}#sk-container-id-1 div.sk-estimator input.sk-toggleable__control:checked~label.sk-toggleable__label {background-color: #d4ebff;}#sk-container-id-1 div.sk-label input.sk-toggleable__control:checked~label.sk-toggleable__label {background-color: #d4ebff;}#sk-container-id-1 input.sk-hidden--visually {border: 0;clip: rect(1px 1px 1px 1px);clip: rect(1px, 1px, 1px, 1px);height: 1px;margin: -1px;overflow: hidden;padding: 0;position: absolute;width: 1px;}#sk-container-id-1 div.sk-estimator {font-family: monospace;background-color: #f0f8ff;border: 1px dotted black;border-radius: 0.25em;box-sizing: border-box;margin-bottom: 0.5em;}#sk-container-id-1 div.sk-estimator:hover {background-color: #d4ebff;}#sk-container-id-1 div.sk-parallel-item::after {content: \"\";width: 100%;border-bottom: 1px solid gray;flex-grow: 1;}#sk-container-id-1 div.sk-label:hover label.sk-toggleable__label {background-color: #d4ebff;}#sk-container-id-1 div.sk-serial::before {content: \"\";position: absolute;border-left: 1px solid gray;box-sizing: border-box;top: 0;bottom: 0;left: 50%;z-index: 0;}#sk-container-id-1 div.sk-serial {display: flex;flex-direction: column;align-items: center;background-color: white;padding-right: 0.2em;padding-left: 0.2em;position: relative;}#sk-container-id-1 div.sk-item {position: relative;z-index: 1;}#sk-container-id-1 div.sk-parallel {display: flex;align-items: stretch;justify-content: center;background-color: white;position: relative;}#sk-container-id-1 div.sk-item::before, #sk-container-id-1 div.sk-parallel-item::before {content: \"\";position: absolute;border-left: 1px solid gray;box-sizing: border-box;top: 0;bottom: 0;left: 50%;z-index: -1;}#sk-container-id-1 div.sk-parallel-item {display: flex;flex-direction: column;z-index: 1;position: relative;background-color: white;}#sk-container-id-1 div.sk-parallel-item:first-child::after {align-self: flex-end;width: 50%;}#sk-container-id-1 div.sk-parallel-item:last-child::after {align-self: flex-start;width: 50%;}#sk-container-id-1 div.sk-parallel-item:only-child::after {width: 0;}#sk-container-id-1 div.sk-dashed-wrapped {border: 1px dashed gray;margin: 0 0.4em 0.5em 0.4em;box-sizing: border-box;padding-bottom: 0.4em;background-color: white;}#sk-container-id-1 div.sk-label label {font-family: monospace;font-weight: bold;display: inline-block;line-height: 1.2em;}#sk-container-id-1 div.sk-label-container {text-align: center;}#sk-container-id-1 div.sk-container {/* jupyter's `normalize.less` sets `[hidden] { display: none; }` but bootstrap.min.css set `[hidden] { display: none !important; }` so we also need the `!important` here to be able to override the default hidden behavior on the sphinx rendered scikit-learn.org. See: https://github.com/scikit-learn/scikit-learn/issues/21755 */display: inline-block !important;position: relative;}#sk-container-id-1 div.sk-text-repr-fallback {display: none;}</style><div id=\"sk-container-id-1\" class=\"sk-top-container\"><div class=\"sk-text-repr-fallback\"><pre>TfidfVectorizer(max_features=1000,\n",
              "                tokenizer=&lt;function text_preprocessor at 0x7f6c5eccb6d0&gt;)</pre><b>In a Jupyter environment, please rerun this cell to show the HTML representation or trust the notebook. <br />On GitHub, the HTML representation is unable to render, please try loading this page with nbviewer.org.</b></div><div class=\"sk-container\" hidden><div class=\"sk-item\"><div class=\"sk-estimator sk-toggleable\"><input class=\"sk-toggleable__control sk-hidden--visually\" id=\"sk-estimator-id-1\" type=\"checkbox\" checked><label for=\"sk-estimator-id-1\" class=\"sk-toggleable__label sk-toggleable__label-arrow\">TfidfVectorizer</label><div class=\"sk-toggleable__content\"><pre>TfidfVectorizer(max_features=1000,\n",
              "                tokenizer=&lt;function text_preprocessor at 0x7f6c5eccb6d0&gt;)</pre></div></div></div></div></div>"
            ]
          },
          "metadata": {},
          "execution_count": 14
        }
      ]
    },
    {
      "cell_type": "code",
      "source": [
        "%%time\n",
        "inputs = vectorizer.transform(sample_df.question_text)"
      ],
      "metadata": {
        "colab": {
          "base_uri": "https://localhost:8080/"
        },
        "id": "eB4NQ4Z4udgV",
        "outputId": "dcbf830b-79d2-4147-f4c2-8283d5c95eeb"
      },
      "execution_count": 15,
      "outputs": [
        {
          "output_type": "stream",
          "name": "stdout",
          "text": [
            "CPU times: user 38.6 s, sys: 123 ms, total: 38.7 s\n",
            "Wall time: 47.5 s\n"
          ]
        }
      ]
    },
    {
      "cell_type": "code",
      "source": [
        "targets = sample_df.target.values"
      ],
      "metadata": {
        "id": "LTqjwsb2udr9"
      },
      "execution_count": 16,
      "outputs": []
    },
    {
      "cell_type": "code",
      "source": [
        "%%time\n",
        "test_inputs = vectorizer.transform(test.question_text)"
      ],
      "metadata": {
        "colab": {
          "base_uri": "https://localhost:8080/"
        },
        "id": "4FPLVqDXudvR",
        "outputId": "f60f68b5-41a4-4a20-a468-a635e3084bbd"
      },
      "execution_count": 17,
      "outputs": [
        {
          "output_type": "stream",
          "name": "stdout",
          "text": [
            "CPU times: user 2min 7s, sys: 432 ms, total: 2min 7s\n",
            "Wall time: 2min 18s\n"
          ]
        }
      ]
    },
    {
      "cell_type": "markdown",
      "source": [
        "## Split training and validation set"
      ],
      "metadata": {
        "id": "lwM7u9Mfu9aO"
      }
    },
    {
      "cell_type": "code",
      "source": [
        "train_inputs, val_inputs, train_targets, val_targets = train_test_split(inputs, targets, test_size=0.3, random_state=42)"
      ],
      "metadata": {
        "id": "e_55TTTUu_8v"
      },
      "execution_count": 19,
      "outputs": []
    },
    {
      "cell_type": "markdown",
      "source": [
        "## Convert to PyTorch Tensors\n"
      ],
      "metadata": {
        "id": "L_cnQjLivQk8"
      }
    },
    {
      "cell_type": "code",
      "source": [
        "import torch\n",
        "from torch.utils.data import TensorDataset, DataLoader\n",
        "import torch.nn.functional as F"
      ],
      "metadata": {
        "id": "YGt3D-clvAn8"
      },
      "execution_count": 20,
      "outputs": []
    },
    {
      "cell_type": "markdown",
      "source": [
        "normalize data along rows such that sum of squares = 1"
      ],
      "metadata": {
        "id": "P-GxmvUHiMMV"
      }
    },
    {
      "cell_type": "code",
      "source": [
        "train_tensors = F.normalize(torch.tensor(train_inputs.toarray()).float(), dim=0)\n",
        "val_tensors = F.normalize(torch.tensor(val_inputs.toarray()).float(), dim=0)"
      ],
      "metadata": {
        "id": "r6ItpjvyvknZ"
      },
      "execution_count": 21,
      "outputs": []
    },
    {
      "cell_type": "markdown",
      "source": [
        "create batches of data"
      ],
      "metadata": {
        "id": "3AJlFTSziLAf"
      }
    },
    {
      "cell_type": "code",
      "source": [
        "train_ds = TensorDataset(train_tensors, torch.tensor(train_targets))\n",
        "val_ds = TensorDataset(val_tensors, torch.tensor(val_targets))"
      ],
      "metadata": {
        "id": "q-uHhYm5vsJ9"
      },
      "execution_count": 22,
      "outputs": []
    },
    {
      "cell_type": "code",
      "source": [
        "batch_size = 64\n",
        "train_dl = DataLoader(train_ds, batch_size, shuffle=True)\n",
        "val_dl = DataLoader(val_ds, batch_size)"
      ],
      "metadata": {
        "id": "9kp_r4_Qv3Ls"
      },
      "execution_count": 23,
      "outputs": []
    },
    {
      "cell_type": "markdown",
      "source": [
        "# Logistic Regression Model\n"
      ],
      "metadata": {
        "id": "Uqjg5RziwLs8"
      }
    },
    {
      "cell_type": "code",
      "source": [
        "import torch.nn as nn"
      ],
      "metadata": {
        "id": "qG5CDC3twMIH"
      },
      "execution_count": 24,
      "outputs": []
    },
    {
      "cell_type": "code",
      "source": [
        "class LogReg(nn.Module):\n",
        "    def __init__(self):\n",
        "        super().__init__()\n",
        "        self.linear1 = nn.Linear(1000, 1)\n",
        "\n",
        "    def forward(self, xb):\n",
        "        out = self.linear1(xb)\n",
        "        return out"
      ],
      "metadata": {
        "id": "Pt5nEiWkwTiZ"
      },
      "execution_count": 25,
      "outputs": []
    },
    {
      "cell_type": "code",
      "source": [
        "logreg_model = LogReg()"
      ],
      "metadata": {
        "id": "2zIfKpSgwTl5"
      },
      "execution_count": 26,
      "outputs": []
    },
    {
      "cell_type": "code",
      "source": [
        "for batch in val_dl:\n",
        "    batch_inputs, batch_targets = batch\n",
        "    print('inputs.shape', batch_inputs.shape)\n",
        "    print('targets', batch_targets)\n",
        "    \n",
        "    batch_out = logreg_model(batch_inputs)\n",
        "\n",
        "    #convert output to prob\n",
        "    probs = torch.sigmoid(batch_out[:,0])\n",
        "    #convert prob to pred\n",
        "    preds = (probs >= 0.5).int()\n",
        "    \n",
        "    print('outputs', preds)\n",
        "    print('accuracy', accuracy_score(batch_targets, preds))\n",
        "    print('f1_score', f1_score(batch_targets, preds))\n",
        "    break"
      ],
      "metadata": {
        "colab": {
          "base_uri": "https://localhost:8080/"
        },
        "id": "nxCN4_uewcDK",
        "outputId": "11ffbff0-8303-4fba-a949-a2a4a9e861d8"
      },
      "execution_count": 29,
      "outputs": [
        {
          "output_type": "stream",
          "name": "stdout",
          "text": [
            "inputs.shape torch.Size([64, 1000])\n",
            "targets tensor([0, 0, 0, 0, 0, 0, 0, 0, 1, 0, 0, 0, 0, 0, 0, 0, 0, 0, 0, 0, 0, 0, 0, 0,\n",
            "        0, 0, 0, 0, 0, 0, 0, 0, 0, 0, 0, 1, 0, 0, 0, 0, 0, 0, 0, 0, 0, 0, 0, 0,\n",
            "        0, 0, 0, 0, 0, 0, 0, 0, 0, 0, 0, 0, 1, 0, 0, 0])\n",
            "outputs tensor([0, 0, 0, 0, 0, 0, 0, 0, 0, 0, 0, 0, 0, 0, 0, 0, 0, 0, 0, 0, 0, 0, 0, 0,\n",
            "        0, 0, 0, 0, 0, 0, 0, 0, 0, 0, 0, 0, 0, 0, 0, 0, 0, 0, 0, 0, 0, 0, 0, 0,\n",
            "        0, 0, 0, 0, 0, 0, 0, 0, 0, 0, 0, 0, 0, 0, 0, 0], dtype=torch.int32)\n",
            "accuracy 0.953125\n",
            "f1_score 0.0\n"
          ]
        }
      ]
    },
    {
      "cell_type": "code",
      "source": [
        "def evaluate(model, dl):\n",
        "    losses, accs, f1s = [], [], []\n",
        "    for batch in dl:\n",
        "        inputs, targets = batch\n",
        "        out = model(inputs)\n",
        "        \n",
        "        probs = torch.sigmoid(out[:,0])\n",
        "        loss = F.binary_cross_entropy(probs, targets.float(), weight=torch.tensor(20.))\n",
        "        losses.append(loss.item())\n",
        "\n",
        "        preds = (probs > 0.5).int()\n",
        "        acc = accuracy_score(targets, preds)\n",
        "        f1 = f1_score(targets, preds)\n",
        "        \n",
        "        accs.append(acc)\n",
        "        f1s.append(f1)\n",
        "\n",
        "    return np.mean(losses), np.mean(accs), np.mean(f1s)"
      ],
      "metadata": {
        "id": "MRdLvZcDwcGP"
      },
      "execution_count": 30,
      "outputs": []
    },
    {
      "cell_type": "code",
      "source": [
        "# function trains the model\n",
        "\n",
        "def fit(epochs, lr, model, train_loader, val_loader):\n",
        "    optimizer = torch.optim.Adam(model.parameters(), lr, weight_decay=1e-5)\n",
        "    history = [] # for recording epoch-wise results\n",
        "    \n",
        "    for epoch in range(epochs):\n",
        "        \n",
        "        # Training Phase \n",
        "        for batch in train_loader:\n",
        "            inputs, targets = batch\n",
        "            out = model(inputs)\n",
        "            probs = torch.sigmoid(out[:,0])\n",
        "            loss = F.binary_cross_entropy(probs, \n",
        "                                          targets.float(), \n",
        "                                          weight=torch.tensor(20.))\n",
        "            loss.backward()\n",
        "            optimizer.step()\n",
        "            optimizer.zero_grad()\n",
        "        \n",
        "        # Validation phase\n",
        "        result = evaluate(model, val_loader)\n",
        "        loss, acc, f1 = result\n",
        "        print('Epoch: {}; Loss: {:.4f}; Accuracy: {:.4f}; F1 Score: {:.4f}'.format(\n",
        "            epoch, loss, acc, f1))\n",
        "        history.append(result)\n",
        "\n",
        "    return history"
      ],
      "metadata": {
        "id": "gJOO42uUwz_P"
      },
      "execution_count": 41,
      "outputs": []
    },
    {
      "cell_type": "code",
      "source": [
        "logreg_model = LogReg()"
      ],
      "metadata": {
        "id": "9YaEW7IHwSoj"
      },
      "execution_count": 37,
      "outputs": []
    },
    {
      "cell_type": "code",
      "source": [
        "import numpy as np\n",
        "import warnings\n",
        "warnings.filterwarnings('ignore')"
      ],
      "metadata": {
        "id": "m-MiE5TQxMfL",
        "colab": {
          "base_uri": "https://localhost:8080/"
        },
        "outputId": "f3f8f6bb-68f7-4b3e-e65b-16aa5c2276a0"
      },
      "execution_count": 46,
      "outputs": [
        {
          "output_type": "stream",
          "name": "stderr",
          "text": [
            "/usr/local/lib/python3.10/dist-packages/ipykernel/ipkernel.py:283: DeprecationWarning: `should_run_async` will not call `transform_cell` automatically in the future. Please pass the result to `transformed_cell` argument and any exception that happen during thetransform in `preprocessing_exc_tuple` in IPython 7.17 and above.\n",
            "  and should_run_async(code)\n"
          ]
        }
      ]
    },
    {
      "cell_type": "code",
      "source": [
        "history = [evaluate(logreg_model, val_dl)]\n",
        "history"
      ],
      "metadata": {
        "colab": {
          "base_uri": "https://localhost:8080/"
        },
        "id": "D0Aq5IsRwSs_",
        "outputId": "c29083c0-b028-4f9d-deff-78cc9f144329"
      },
      "execution_count": 39,
      "outputs": [
        {
          "output_type": "execute_result",
          "data": {
            "text/plain": [
              "[(13.921979942809799, 0.07805836886993603, 0.11182190421054941)]"
            ]
          },
          "metadata": {},
          "execution_count": 39
        }
      ]
    },
    {
      "cell_type": "code",
      "source": [
        "history += fit(5, 0.01, logreg_model, train_dl, val_dl)\n"
      ],
      "metadata": {
        "id": "5q85ZpcBwSyz"
      },
      "execution_count": null,
      "outputs": []
    },
    {
      "cell_type": "code",
      "source": [
        "history += fit(5, 0.01, logreg_model, train_dl, val_dl)"
      ],
      "metadata": {
        "id": "iNGcv-fbv_ur"
      },
      "execution_count": null,
      "outputs": []
    },
    {
      "cell_type": "code",
      "source": [
        "history += fit(5, 0.01, logreg_model, train_dl, val_dl)\n"
      ],
      "metadata": {
        "colab": {
          "base_uri": "https://localhost:8080/"
        },
        "id": "3lE7oW5FtxWm",
        "outputId": "8291bd3f-7b08-4215-ef19-56aff56510f0"
      },
      "execution_count": 47,
      "outputs": [
        {
          "output_type": "stream",
          "name": "stdout",
          "text": [
            "Epoch: 0; Loss: 3.1429; Accuracy: 0.9439; F1 Score: 0.4226\n",
            "Epoch: 1; Loss: 3.1842; Accuracy: 0.9436; F1 Score: 0.4337\n",
            "Epoch: 2; Loss: 3.2201; Accuracy: 0.9429; F1 Score: 0.4377\n",
            "Epoch: 3; Loss: 3.2462; Accuracy: 0.9426; F1 Score: 0.4412\n",
            "Epoch: 4; Loss: 3.2961; Accuracy: 0.9419; F1 Score: 0.4458\n"
          ]
        }
      ]
    },
    {
      "cell_type": "code",
      "source": [
        "losses = [item[0] for item in history]"
      ],
      "metadata": {
        "id": "WGs9K9zLtxZy"
      },
      "execution_count": 48,
      "outputs": []
    },
    {
      "cell_type": "code",
      "source": [
        "import matplotlib.pyplot as plt"
      ],
      "metadata": {
        "id": "HiFBruaDtiMR"
      },
      "execution_count": 49,
      "outputs": []
    },
    {
      "cell_type": "code",
      "source": [
        "plt.plot(losses);\n",
        "plt.title('Loss');"
      ],
      "metadata": {
        "colab": {
          "base_uri": "https://localhost:8080/",
          "height": 452
        },
        "id": "fD5vofkfxd42",
        "outputId": "039f04cd-77d5-4b4e-9b23-ba28a21cde0a"
      },
      "execution_count": 50,
      "outputs": [
        {
          "output_type": "display_data",
          "data": {
            "text/plain": [
              "<Figure size 640x480 with 1 Axes>"
            ],
            "image/png": "[encoded data removed]"
          },
          "metadata": {}
        }
      ]
    },
    {
      "cell_type": "code",
      "source": [
        "f1s = [item[2] for item in history]"
      ],
      "metadata": {
        "id": "M45S--Pzxd8h"
      },
      "execution_count": 51,
      "outputs": []
    },
    {
      "cell_type": "code",
      "source": [
        "plt.plot(f1s)\n",
        "plt.title('F1 Score');"
      ],
      "metadata": {
        "colab": {
          "base_uri": "https://localhost:8080/",
          "height": 452
        },
        "id": "o2LADQhuxeA0",
        "outputId": "9e055267-a257-4e56-d939-07a1b280272c"
      },
      "execution_count": 52,
      "outputs": [
        {
          "output_type": "display_data",
          "data": {
            "text/plain": [
              "<Figure size 640x480 with 1 Axes>"
            ],
            "image/png": "[encoded data removed]"
          },
          "metadata": {}
        }
      ]
    },
    {
      "cell_type": "markdown",
      "source": [
        "# Feed Forward Neural Network\n"
      ],
      "metadata": {
        "id": "K24aW35Jxq9h"
      }
    },
    {
      "cell_type": "code",
      "source": [
        "import torch.nn.functional as F"
      ],
      "metadata": {
        "id": "E-iq9VVexsP5"
      },
      "execution_count": 53,
      "outputs": []
    },
    {
      "cell_type": "code",
      "source": [
        "class FeedForwardModel(nn.Module):\n",
        "    def __init__(self):\n",
        "        super().__init__()\n",
        "        self.linear1 = nn.Linear(1000, 512)\n",
        "        self.linear2 = nn.Linear(512, 256)\n",
        "        self.linear3 = nn.Linear(256, 128)\n",
        "        self.linear4 = nn.Linear(128, 1)\n",
        "        \n",
        "    def forward(self, xb):\n",
        "        out = F.relu(self.linear1(xb))\n",
        "        out = F.relu(self.linear2(out))\n",
        "        out = F.relu(self.linear3(out))\n",
        "        out = self.linear4(out)\n",
        "        return out"
      ],
      "metadata": {
        "id": "cyYypBV0xsU2"
      },
      "execution_count": 54,
      "outputs": []
    },
    {
      "cell_type": "code",
      "source": [
        "ff_model = FeedForwardModel()"
      ],
      "metadata": {
        "id": "tkioGBUVxsYL"
      },
      "execution_count": 55,
      "outputs": []
    },
    {
      "cell_type": "code",
      "source": [
        "history = [evaluate(ff_model, val_dl)]\n",
        "history"
      ],
      "metadata": {
        "colab": {
          "base_uri": "https://localhost:8080/"
        },
        "id": "HiuChyKgxsby",
        "outputId": "56a3eb44-077b-4a65-c9a7-e6fbf2a22b6a"
      },
      "execution_count": 56,
      "outputs": [
        {
          "output_type": "execute_result",
          "data": {
            "text/plain": [
              "[(13.624641926812211, 0.9392657249466951, 0.0)]"
            ]
          },
          "metadata": {},
          "execution_count": 56
        }
      ]
    },
    {
      "cell_type": "code",
      "source": [
        "%%time\n",
        "history += fit(5, 0.001, ff_model, train_dl, val_dl)"
      ],
      "metadata": {
        "colab": {
          "base_uri": "https://localhost:8080/"
        },
        "id": "49N--8ycyC1K",
        "outputId": "8e05f351-1008-4e72-8f22-cc31fa5d9530"
      },
      "execution_count": 57,
      "outputs": [
        {
          "output_type": "stream",
          "name": "stdout",
          "text": [
            "Epoch: 0; Loss: 3.3187; Accuracy: 0.9354; F1 Score: 0.4360\n",
            "Epoch: 1; Loss: 3.2381; Accuracy: 0.9379; F1 Score: 0.4418\n",
            "Epoch: 2; Loss: 3.2394; Accuracy: 0.9403; F1 Score: 0.4401\n",
            "Epoch: 3; Loss: 3.4640; Accuracy: 0.9336; F1 Score: 0.4608\n",
            "Epoch: 4; Loss: 3.5239; Accuracy: 0.9371; F1 Score: 0.4523\n",
            "CPU times: user 6min 57s, sys: 619 ms, total: 6min 58s\n",
            "Wall time: 7min 7s\n"
          ]
        }
      ]
    },
    {
      "cell_type": "markdown",
      "source": [
        "# Predictions"
      ],
      "metadata": {
        "id": "PwQwkCycyIlg"
      }
    },
    {
      "cell_type": "code",
      "source": [
        "test_tensors = torch.tensor(test_inputs.toarray()).float()"
      ],
      "metadata": {
        "id": "H_ZZ4uThyC4u"
      },
      "execution_count": 58,
      "outputs": []
    },
    {
      "cell_type": "code",
      "source": [
        "test_ds = TensorDataset(test_tensors)"
      ],
      "metadata": {
        "id": "FXQ3x0fWyC8j"
      },
      "execution_count": 59,
      "outputs": []
    },
    {
      "cell_type": "code",
      "source": [
        "test_dl = DataLoader(test_ds, batch_size)"
      ],
      "metadata": {
        "id": "s8QgS7yzyQaM"
      },
      "execution_count": 60,
      "outputs": []
    },
    {
      "cell_type": "code",
      "source": [
        "def predict(model, dl):\n",
        "    all_preds = []\n",
        "    for batch in dl:\n",
        "        inputs, = batch\n",
        "        out = model(inputs)\n",
        "        probs = torch.sigmoid(out)[:,0]\n",
        "        preds = (probs > 0.5).int()\n",
        "        all_preds += list(preds.numpy())\n",
        "    return all_preds"
      ],
      "metadata": {
        "id": "k20Wm6ityVA0"
      },
      "execution_count": 61,
      "outputs": []
    },
    {
      "cell_type": "code",
      "source": [
        "test_preds = predict(ff_model, test_dl)\n"
      ],
      "metadata": {
        "id": "LFo9OWfuyVEk"
      },
      "execution_count": 62,
      "outputs": []
    },
    {
      "cell_type": "code",
      "source": [
        "test['prediction'] = test_preds\n",
        "del test['question_text']"
      ],
      "metadata": {
        "id": "_BbEHc2zz60A"
      },
      "execution_count": 63,
      "outputs": []
    },
    {
      "cell_type": "code",
      "source": [
        "test.to_csv('submission.csv', index=None)\n",
        "!head submission.csv"
      ],
      "metadata": {
        "id": "AKWqmbABzSpE",
        "colab": {
          "base_uri": "https://localhost:8080/"
        },
        "outputId": "bdbdc6f0-f3cb-428e-994b-3ef7fb7ca230"
      },
      "execution_count": 64,
      "outputs": [
        {
          "output_type": "stream",
          "name": "stdout",
          "text": [
            "qid,prediction\n",
            "0000163e3ea7c7a74cd7,0\n",
            "00002bd4fb5d505b9161,0\n",
            "00007756b4a147d2b0b3,0\n",
            "000086e4b7e1c7146103,0\n",
            "0000c4c3fbe8785a3090,1\n",
            "000101884c19f3515c1a,0\n",
            "00010f62537781f44a47,0\n",
            "00012afbd27452239059,0\n",
            "00014894849d00ba98a9,0\n"
          ]
        }
      ]
    },
    {
      "cell_type": "code",
      "source": [],
      "metadata": {
        "id": "Y7bq1o8o0Jj4"
      },
      "execution_count": null,
      "outputs": []
    }
  ]
}