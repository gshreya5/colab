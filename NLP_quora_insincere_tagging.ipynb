{
  "nbformat": 4,
  "nbformat_minor": 0,
  "metadata": {
    "colab": {
      "provenance": [],
      "authorship_tag": "ABX9TyMcAHHptcbsoAHNdOxaK/U6",
      "include_colab_link": true
    },
    "kernelspec": {
      "name": "python3",
      "display_name": "Python 3"
    },
    "language_info": {
      "name": "python"
    }
  },
  "cells": [
    {
      "cell_type": "markdown",
      "metadata": {
        "id": "view-in-github",
        "colab_type": "text"
      },
      "source": [
        "<a href=\"https://colab.research.google.com/github/gshreya5/colab/blob/main/NLP_quora_insincere_tagging.ipynb\" target=\"_parent\"><img src=\"https://colab.research.google.com/assets/colab-badge.svg\" alt=\"Open In Colab\"/></a>"
      ]
    },
    {
      "cell_type": "markdown",
      "source": [
        "# Quora Insincere Questions Classification\n"
      ],
      "metadata": {
        "id": "-3eHen1SUd80"
      }
    },
    {
      "cell_type": "markdown",
      "source": [
        "**GOAL** : Predict whether a question asked on Quora is sincere or not"
      ],
      "metadata": {
        "id": "sUdA--C1VHm9"
      }
    },
    {
      "cell_type": "markdown",
      "source": [
        "# Load Libraries"
      ],
      "metadata": {
        "id": "V0t66P_pUdqU"
      }
    },
    {
      "cell_type": "code",
      "execution_count": 6,
      "metadata": {
        "id": "swJKZqOUAyFV"
      },
      "outputs": [],
      "source": [
        "import pandas as pd\n",
        "\n",
        "import zipfile"
      ]
    },
    {
      "cell_type": "markdown",
      "source": [
        "# Load Dataset"
      ],
      "metadata": {
        "id": "BwSEUJF4Ux8j"
      }
    },
    {
      "cell_type": "code",
      "source": [
        "!kaggle competitions download -c quora-insincere-questions-classification"
      ],
      "metadata": {
        "colab": {
          "base_uri": "https://localhost:8080/"
        },
        "id": "twygtTJHU4mc",
        "outputId": "6dd39b68-0329-45d7-d795-f9a5b5e9f69b"
      },
      "execution_count": 3,
      "outputs": [
        {
          "output_type": "stream",
          "name": "stdout",
          "text": [
            "100% 6.02G/6.03G [00:48<00:00, 93.6MB/s]\n",
            "100% 6.03G/6.03G [00:48<00:00, 134MB/s] \n"
          ]
        }
      ]
    },
    {
      "cell_type": "code",
      "source": [
        "path_to_zip_file = '/content/quora-insincere-questions-classification.zip'\n",
        "directory_to_extract_to = '/content/quora-insincere-questions-classification'\n",
        "with zipfile.ZipFile(path_to_zip_file, 'r') as zip_ref:\n",
        "    zip_ref.extractall(directory_to_extract_to)"
      ],
      "metadata": {
        "id": "fH3wTC5mW0n0"
      },
      "execution_count": 7,
      "outputs": []
    },
    {
      "cell_type": "code",
      "source": [
        "df = pd.read_csv('/content/quora-insincere-questions-classification/train.csv')"
      ],
      "metadata": {
        "id": "hnHbOVRzEcQE"
      },
      "execution_count": 8,
      "outputs": []
    },
    {
      "cell_type": "markdown",
      "source": [
        "# Explore data"
      ],
      "metadata": {
        "id": "aRUDCQ_QXHSq"
      }
    },
    {
      "cell_type": "code",
      "source": [
        "df.head()"
      ],
      "metadata": {
        "colab": {
          "base_uri": "https://localhost:8080/",
          "height": 206
        },
        "id": "8g9kok1pX6Yv",
        "outputId": "72caccd5-ff24-4122-fd34-8e5a49753635"
      },
      "execution_count": 12,
      "outputs": [
        {
          "output_type": "execute_result",
          "data": {
            "text/plain": [
              "                    qid                                      question_text  \\\n",
              "0  00002165364db923c7e6  How did Quebec nationalists see their province...   \n",
              "1  000032939017120e6e44  Do you have an adopted dog, how would you enco...   \n",
              "2  0000412ca6e4628ce2cf  Why does velocity affect time? Does velocity a...   \n",
              "3  000042bf85aa498cd78e  How did Otto von Guericke used the Magdeburg h...   \n",
              "4  0000455dfa3e01eae3af  Can I convert montra helicon D to a mountain b...   \n",
              "\n",
              "   target  \n",
              "0       0  \n",
              "1       0  \n",
              "2       0  \n",
              "3       0  \n",
              "4       0  "
            ],
            "text/html": [
              "\n",
              "  <div id=\"df-77b22b57-f41c-499c-945a-2e62c3e62970\">\n",
              "    <div class=\"colab-df-container\">\n",
              "      <div>\n",
              "<style scoped>\n",
              "    .dataframe tbody tr th:only-of-type {\n",
              "        vertical-align: middle;\n",
              "    }\n",
              "\n",
              "    .dataframe tbody tr th {\n",
              "        vertical-align: top;\n",
              "    }\n",
              "\n",
              "    .dataframe thead th {\n",
              "        text-align: right;\n",
              "    }\n",
              "</style>\n",
              "<table border=\"1\" class=\"dataframe\">\n",
              "  <thead>\n",
              "    <tr style=\"text-align: right;\">\n",
              "      <th></th>\n",
              "      <th>qid</th>\n",
              "      <th>question_text</th>\n",
              "      <th>target</th>\n",
              "    </tr>\n",
              "  </thead>\n",
              "  <tbody>\n",
              "    <tr>\n",
              "      <th>0</th>\n",
              "      <td>00002165364db923c7e6</td>\n",
              "      <td>How did Quebec nationalists see their province...</td>\n",
              "      <td>0</td>\n",
              "    </tr>\n",
              "    <tr>\n",
              "      <th>1</th>\n",
              "      <td>000032939017120e6e44</td>\n",
              "      <td>Do you have an adopted dog, how would you enco...</td>\n",
              "      <td>0</td>\n",
              "    </tr>\n",
              "    <tr>\n",
              "      <th>2</th>\n",
              "      <td>0000412ca6e4628ce2cf</td>\n",
              "      <td>Why does velocity affect time? Does velocity a...</td>\n",
              "      <td>0</td>\n",
              "    </tr>\n",
              "    <tr>\n",
              "      <th>3</th>\n",
              "      <td>000042bf85aa498cd78e</td>\n",
              "      <td>How did Otto von Guericke used the Magdeburg h...</td>\n",
              "      <td>0</td>\n",
              "    </tr>\n",
              "    <tr>\n",
              "      <th>4</th>\n",
              "      <td>0000455dfa3e01eae3af</td>\n",
              "      <td>Can I convert montra helicon D to a mountain b...</td>\n",
              "      <td>0</td>\n",
              "    </tr>\n",
              "  </tbody>\n",
              "</table>\n",
              "</div>\n",
              "      <button class=\"colab-df-convert\" onclick=\"convertToInteractive('df-77b22b57-f41c-499c-945a-2e62c3e62970')\"\n",
              "              title=\"Convert this dataframe to an interactive table.\"\n",
              "              style=\"display:none;\">\n",
              "        \n",
              "  <svg xmlns=\"http://www.w3.org/2000/svg\" height=\"24px\"viewBox=\"0 0 24 24\"\n",
              "       width=\"24px\">\n",
              "    <path d=\"M0 0h24v24H0V0z\" fill=\"none\"/>\n",
              "    <path d=\"M18.56 5.44l.94 2.06.94-2.06 2.06-.94-2.06-.94-.94-2.06-.94 2.06-2.06.94zm-11 1L8.5 8.5l.94-2.06 2.06-.94-2.06-.94L8.5 2.5l-.94 2.06-2.06.94zm10 10l.94 2.06.94-2.06 2.06-.94-2.06-.94-.94-2.06-.94 2.06-2.06.94z\"/><path d=\"M17.41 7.96l-1.37-1.37c-.4-.4-.92-.59-1.43-.59-.52 0-1.04.2-1.43.59L10.3 9.45l-7.72 7.72c-.78.78-.78 2.05 0 2.83L4 21.41c.39.39.9.59 1.41.59.51 0 1.02-.2 1.41-.59l7.78-7.78 2.81-2.81c.8-.78.8-2.07 0-2.86zM5.41 20L4 18.59l7.72-7.72 1.47 1.35L5.41 20z\"/>\n",
              "  </svg>\n",
              "      </button>\n",
              "      \n",
              "  <style>\n",
              "    .colab-df-container {\n",
              "      display:flex;\n",
              "      flex-wrap:wrap;\n",
              "      gap: 12px;\n",
              "    }\n",
              "\n",
              "    .colab-df-convert {\n",
              "      background-color: #E8F0FE;\n",
              "      border: none;\n",
              "      border-radius: 50%;\n",
              "      cursor: pointer;\n",
              "      display: none;\n",
              "      fill: #1967D2;\n",
              "      height: 32px;\n",
              "      padding: 0 0 0 0;\n",
              "      width: 32px;\n",
              "    }\n",
              "\n",
              "    .colab-df-convert:hover {\n",
              "      background-color: #E2EBFA;\n",
              "      box-shadow: 0px 1px 2px rgba(60, 64, 67, 0.3), 0px 1px 3px 1px rgba(60, 64, 67, 0.15);\n",
              "      fill: #174EA6;\n",
              "    }\n",
              "\n",
              "    [theme=dark] .colab-df-convert {\n",
              "      background-color: #3B4455;\n",
              "      fill: #D2E3FC;\n",
              "    }\n",
              "\n",
              "    [theme=dark] .colab-df-convert:hover {\n",
              "      background-color: #434B5C;\n",
              "      box-shadow: 0px 1px 3px 1px rgba(0, 0, 0, 0.15);\n",
              "      filter: drop-shadow(0px 1px 2px rgba(0, 0, 0, 0.3));\n",
              "      fill: #FFFFFF;\n",
              "    }\n",
              "  </style>\n",
              "\n",
              "      <script>\n",
              "        const buttonEl =\n",
              "          document.querySelector('#df-77b22b57-f41c-499c-945a-2e62c3e62970 button.colab-df-convert');\n",
              "        buttonEl.style.display =\n",
              "          google.colab.kernel.accessAllowed ? 'block' : 'none';\n",
              "\n",
              "        async function convertToInteractive(key) {\n",
              "          const element = document.querySelector('#df-77b22b57-f41c-499c-945a-2e62c3e62970');\n",
              "          const dataTable =\n",
              "            await google.colab.kernel.invokeFunction('convertToInteractive',\n",
              "                                                     [key], {});\n",
              "          if (!dataTable) return;\n",
              "\n",
              "          const docLinkHtml = 'Like what you see? Visit the ' +\n",
              "            '<a target=\"_blank\" href=https://colab.research.google.com/notebooks/data_table.ipynb>data table notebook</a>'\n",
              "            + ' to learn more about interactive tables.';\n",
              "          element.innerHTML = '';\n",
              "          dataTable['output_type'] = 'display_data';\n",
              "          await google.colab.output.renderOutput(dataTable, element);\n",
              "          const docLink = document.createElement('div');\n",
              "          docLink.innerHTML = docLinkHtml;\n",
              "          element.appendChild(docLink);\n",
              "        }\n",
              "      </script>\n",
              "    </div>\n",
              "  </div>\n",
              "  "
            ]
          },
          "metadata": {},
          "execution_count": 12
        }
      ]
    },
    {
      "cell_type": "code",
      "source": [
        "df.shape"
      ],
      "metadata": {
        "colab": {
          "base_uri": "https://localhost:8080/"
        },
        "id": "oHoe7j5FX0OW",
        "outputId": "5a9e3666-df8c-4892-8544-ca1234cc4607"
      },
      "execution_count": 9,
      "outputs": [
        {
          "output_type": "execute_result",
          "data": {
            "text/plain": [
              "(1306122, 3)"
            ]
          },
          "metadata": {},
          "execution_count": 9
        }
      ]
    },
    {
      "cell_type": "code",
      "source": [
        "df.columns"
      ],
      "metadata": {
        "colab": {
          "base_uri": "https://localhost:8080/"
        },
        "id": "lO6UhnWPE0s0",
        "outputId": "845ef401-f996-4cd9-e2a7-9e4f29594886"
      },
      "execution_count": 10,
      "outputs": [
        {
          "output_type": "execute_result",
          "data": {
            "text/plain": [
              "Index(['qid', 'question_text', 'target'], dtype='object')"
            ]
          },
          "metadata": {},
          "execution_count": 10
        }
      ]
    },
    {
      "cell_type": "code",
      "source": [
        "df.info()"
      ],
      "metadata": {
        "colab": {
          "base_uri": "https://localhost:8080/"
        },
        "id": "OwPGoupAFWNi",
        "outputId": "a979f71a-dc1b-4666-a747-9a247e7d2948"
      },
      "execution_count": 11,
      "outputs": [
        {
          "output_type": "stream",
          "name": "stdout",
          "text": [
            "<class 'pandas.core.frame.DataFrame'>\n",
            "RangeIndex: 1306122 entries, 0 to 1306121\n",
            "Data columns (total 3 columns):\n",
            " #   Column         Non-Null Count    Dtype \n",
            "---  ------         --------------    ----- \n",
            " 0   qid            1306122 non-null  object\n",
            " 1   question_text  1306122 non-null  object\n",
            " 2   target         1306122 non-null  int64 \n",
            "dtypes: int64(1), object(2)\n",
            "memory usage: 29.9+ MB\n"
          ]
        }
      ]
    },
    {
      "cell_type": "code",
      "source": [
        "df.isnull().sum().sum()"
      ],
      "metadata": {
        "colab": {
          "base_uri": "https://localhost:8080/"
        },
        "id": "p2Z0heDIrs82",
        "outputId": "0d136b82-c424-4010-8393-514ace698d1c"
      },
      "execution_count": 82,
      "outputs": [
        {
          "output_type": "execute_result",
          "data": {
            "text/plain": [
              "0"
            ]
          },
          "metadata": {},
          "execution_count": 82
        }
      ]
    },
    {
      "cell_type": "code",
      "source": [
        "df.target.value_counts(normalize=True)"
      ],
      "metadata": {
        "colab": {
          "base_uri": "https://localhost:8080/"
        },
        "id": "c9VdFGGrX-Ze",
        "outputId": "1d6f94d6-0dd4-4c50-984a-17a08c846ab0"
      },
      "execution_count": 25,
      "outputs": [
        {
          "output_type": "execute_result",
          "data": {
            "text/plain": [
              "0    0.93813\n",
              "1    0.06187\n",
              "Name: target, dtype: float64"
            ]
          },
          "metadata": {},
          "execution_count": 25
        }
      ]
    },
    {
      "cell_type": "code",
      "source": [
        "df[df.target==1].question_text.values[:5]"
      ],
      "metadata": {
        "colab": {
          "base_uri": "https://localhost:8080/"
        },
        "id": "SPQcxhXUakbw",
        "outputId": "c1a5a6d5-8e86-4c82-f91e-8341394c172b"
      },
      "execution_count": 19,
      "outputs": [
        {
          "output_type": "execute_result",
          "data": {
            "text/plain": [
              "array(['Has the United States become the largest dictatorship in the world?',\n",
              "       'Which babies are more sweeter to their parents? Dark skin babies or light skin babies?',\n",
              "       \"If blacks support school choice and mandatory sentencing for criminals why don't they vote Republican?\",\n",
              "       'I am gay boy and I love my cousin (boy). He is sexy, but I dont know what to do. He is hot, and I want to see his di**. What should I do?',\n",
              "       'Which races have the smallest penis?'], dtype=object)"
            ]
          },
          "metadata": {},
          "execution_count": 19
        }
      ]
    },
    {
      "cell_type": "markdown",
      "source": [
        "Create a Working Sample\n",
        "\n",
        "\n"
      ],
      "metadata": {
        "id": "FPdYu9DUb29q"
      }
    },
    {
      "cell_type": "code",
      "source": [
        "SAMPLE_SIZE = 100_000"
      ],
      "metadata": {
        "id": "rUSzQzIlbbiU"
      },
      "execution_count": 20,
      "outputs": []
    },
    {
      "cell_type": "code",
      "source": [
        "sample = df.sample(SAMPLE_SIZE,random_state=42)"
      ],
      "metadata": {
        "id": "5dARjK4tbbpl"
      },
      "execution_count": 21,
      "outputs": []
    },
    {
      "cell_type": "code",
      "source": [
        "sample.target.value_counts()"
      ],
      "metadata": {
        "colab": {
          "base_uri": "https://localhost:8080/"
        },
        "id": "UW1_K557cJVC",
        "outputId": "014df757-6a22-46b4-ab9e-a11fbec9760a"
      },
      "execution_count": 23,
      "outputs": [
        {
          "output_type": "execute_result",
          "data": {
            "text/plain": [
              "0    93962\n",
              "1     6038\n",
              "Name: target, dtype: int64"
            ]
          },
          "metadata": {},
          "execution_count": 23
        }
      ]
    },
    {
      "cell_type": "markdown",
      "source": [
        "# Implement Bag of Words"
      ],
      "metadata": {
        "id": "r1XVONRkXSCl"
      }
    },
    {
      "cell_type": "markdown",
      "source": [
        "## Create vocabulary and Configure text prepocessing using Count Vectorizer"
      ],
      "metadata": {
        "id": "0uutjc6Yh5lC"
      }
    },
    {
      "cell_type": "code",
      "source": [
        "from sklearn.feature_extraction.text import CountVectorizer"
      ],
      "metadata": {
        "id": "dOCG0rbkjgLQ"
      },
      "execution_count": 44,
      "outputs": []
    },
    {
      "cell_type": "code",
      "source": [
        "# text preprocessing\n",
        "\n",
        "import nltk\n",
        "\n",
        "# Step 1: word_tokenize\n",
        "from nltk.tokenize import word_tokenize\n",
        "nltk.download('punkt')\n",
        "# Step 2: stop_words removal\n",
        "from nltk.corpus import stopwords\n",
        "nltk.download('stopwords')\n",
        "\n",
        "stopwords = stopwords.words('english')\n",
        "#Step 3: stemming\n",
        "from nltk.stem import PorterStemmer"
      ],
      "metadata": {
        "id": "NOGu6pSkmQCU"
      },
      "execution_count": null,
      "outputs": []
    },
    {
      "cell_type": "code",
      "source": [
        "def text_preprocessor(text):\n",
        "  return [PorterStemmer().stem(word) for word in word_tokenize(text) if word not in stopwords]"
      ],
      "metadata": {
        "id": "QEGdKq5Fo0h3"
      },
      "execution_count": 70,
      "outputs": []
    },
    {
      "cell_type": "code",
      "source": [
        "vectorizer = CountVectorizer(lowercase=True, tokenizer = text_preprocessor, max_features=1000 )\n",
        "vectorizer.fit(sample.question_text)"
      ],
      "metadata": {
        "colab": {
          "base_uri": "https://localhost:8080/",
          "height": 147
        },
        "id": "CMHzlPAyjvUi",
        "outputId": "37396778-3058-47ef-a1b7-8549d597df74"
      },
      "execution_count": 76,
      "outputs": [
        {
          "output_type": "stream",
          "name": "stderr",
          "text": [
            "/usr/local/lib/python3.9/dist-packages/sklearn/feature_extraction/text.py:528: UserWarning: The parameter 'token_pattern' will not be used since 'tokenizer' is not None'\n",
            "  warnings.warn(\n"
          ]
        },
        {
          "output_type": "execute_result",
          "data": {
            "text/plain": [
              "CountVectorizer(max_features=1000,\n",
              "                tokenizer=<function text_preprocessor at 0x7f7b080eddc0>)"
            ],
            "text/html": [
              "<style>#sk-container-id-1 {color: black;background-color: white;}#sk-container-id-1 pre{padding: 0;}#sk-container-id-1 div.sk-toggleable {background-color: white;}#sk-container-id-1 label.sk-toggleable__label {cursor: pointer;display: block;width: 100%;margin-bottom: 0;padding: 0.3em;box-sizing: border-box;text-align: center;}#sk-container-id-1 label.sk-toggleable__label-arrow:before {content: \"▸\";float: left;margin-right: 0.25em;color: #696969;}#sk-container-id-1 label.sk-toggleable__label-arrow:hover:before {color: black;}#sk-container-id-1 div.sk-estimator:hover label.sk-toggleable__label-arrow:before {color: black;}#sk-container-id-1 div.sk-toggleable__content {max-height: 0;max-width: 0;overflow: hidden;text-align: left;background-color: #f0f8ff;}#sk-container-id-1 div.sk-toggleable__content pre {margin: 0.2em;color: black;border-radius: 0.25em;background-color: #f0f8ff;}#sk-container-id-1 input.sk-toggleable__control:checked~div.sk-toggleable__content {max-height: 200px;max-width: 100%;overflow: auto;}#sk-container-id-1 input.sk-toggleable__control:checked~label.sk-toggleable__label-arrow:before {content: \"▾\";}#sk-container-id-1 div.sk-estimator input.sk-toggleable__control:checked~label.sk-toggleable__label {background-color: #d4ebff;}#sk-container-id-1 div.sk-label input.sk-toggleable__control:checked~label.sk-toggleable__label {background-color: #d4ebff;}#sk-container-id-1 input.sk-hidden--visually {border: 0;clip: rect(1px 1px 1px 1px);clip: rect(1px, 1px, 1px, 1px);height: 1px;margin: -1px;overflow: hidden;padding: 0;position: absolute;width: 1px;}#sk-container-id-1 div.sk-estimator {font-family: monospace;background-color: #f0f8ff;border: 1px dotted black;border-radius: 0.25em;box-sizing: border-box;margin-bottom: 0.5em;}#sk-container-id-1 div.sk-estimator:hover {background-color: #d4ebff;}#sk-container-id-1 div.sk-parallel-item::after {content: \"\";width: 100%;border-bottom: 1px solid gray;flex-grow: 1;}#sk-container-id-1 div.sk-label:hover label.sk-toggleable__label {background-color: #d4ebff;}#sk-container-id-1 div.sk-serial::before {content: \"\";position: absolute;border-left: 1px solid gray;box-sizing: border-box;top: 0;bottom: 0;left: 50%;z-index: 0;}#sk-container-id-1 div.sk-serial {display: flex;flex-direction: column;align-items: center;background-color: white;padding-right: 0.2em;padding-left: 0.2em;position: relative;}#sk-container-id-1 div.sk-item {position: relative;z-index: 1;}#sk-container-id-1 div.sk-parallel {display: flex;align-items: stretch;justify-content: center;background-color: white;position: relative;}#sk-container-id-1 div.sk-item::before, #sk-container-id-1 div.sk-parallel-item::before {content: \"\";position: absolute;border-left: 1px solid gray;box-sizing: border-box;top: 0;bottom: 0;left: 50%;z-index: -1;}#sk-container-id-1 div.sk-parallel-item {display: flex;flex-direction: column;z-index: 1;position: relative;background-color: white;}#sk-container-id-1 div.sk-parallel-item:first-child::after {align-self: flex-end;width: 50%;}#sk-container-id-1 div.sk-parallel-item:last-child::after {align-self: flex-start;width: 50%;}#sk-container-id-1 div.sk-parallel-item:only-child::after {width: 0;}#sk-container-id-1 div.sk-dashed-wrapped {border: 1px dashed gray;margin: 0 0.4em 0.5em 0.4em;box-sizing: border-box;padding-bottom: 0.4em;background-color: white;}#sk-container-id-1 div.sk-label label {font-family: monospace;font-weight: bold;display: inline-block;line-height: 1.2em;}#sk-container-id-1 div.sk-label-container {text-align: center;}#sk-container-id-1 div.sk-container {/* jupyter's `normalize.less` sets `[hidden] { display: none; }` but bootstrap.min.css set `[hidden] { display: none !important; }` so we also need the `!important` here to be able to override the default hidden behavior on the sphinx rendered scikit-learn.org. See: https://github.com/scikit-learn/scikit-learn/issues/21755 */display: inline-block !important;position: relative;}#sk-container-id-1 div.sk-text-repr-fallback {display: none;}</style><div id=\"sk-container-id-1\" class=\"sk-top-container\"><div class=\"sk-text-repr-fallback\"><pre>CountVectorizer(max_features=1000,\n",
              "                tokenizer=&lt;function text_preprocessor at 0x7f7b080eddc0&gt;)</pre><b>In a Jupyter environment, please rerun this cell to show the HTML representation or trust the notebook. <br />On GitHub, the HTML representation is unable to render, please try loading this page with nbviewer.org.</b></div><div class=\"sk-container\" hidden><div class=\"sk-item\"><div class=\"sk-estimator sk-toggleable\"><input class=\"sk-toggleable__control sk-hidden--visually\" id=\"sk-estimator-id-1\" type=\"checkbox\" checked><label for=\"sk-estimator-id-1\" class=\"sk-toggleable__label sk-toggleable__label-arrow\">CountVectorizer</label><div class=\"sk-toggleable__content\"><pre>CountVectorizer(max_features=1000,\n",
              "                tokenizer=&lt;function text_preprocessor at 0x7f7b080eddc0&gt;)</pre></div></div></div></div></div>"
            ]
          },
          "metadata": {},
          "execution_count": 76
        }
      ]
    },
    {
      "cell_type": "code",
      "source": [
        "vectorizer.get_feature_names_out()"
      ],
      "metadata": {
        "colab": {
          "base_uri": "https://localhost:8080/"
        },
        "id": "sXQDZtPljvXJ",
        "outputId": "b579dc64-2aff-4b7f-b8cc-108e494018f6"
      },
      "execution_count": 72,
      "outputs": [
        {
          "output_type": "execute_result",
          "data": {
            "text/plain": [
              "array(['!', '$', '%', '&', \"'\", \"''\", \"'m\", \"'re\", \"'s\", \"'ve\", '(', ')',\n",
              "       ',', '-', '.', '1', '10', '100', '12', '12th', '15', '2', '20',\n",
              "       '2017', '2018', '3', '30', '4', '5', '6', '7', '8', ':', '?', '[',\n",
              "       ']', '``', 'abl', 'abroad', 'abus', 'accept', 'access',\n",
              "       'accomplish', 'accord', 'account', 'achiev', 'act', 'action',\n",
              "       'activ', 'actor', 'actual', 'ad', 'add', 'address', 'admiss',\n",
              "       'adult', 'advanc', 'advantag', 'advic', 'affect', 'africa',\n",
              "       'african', 'age', 'agre', 'air', 'allow', 'almost', 'alon',\n",
              "       'alreadi', 'also', 'altern', 'alway', 'amazon', 'america',\n",
              "       'american', 'amount', 'analysi', 'android', 'anim', 'anoth',\n",
              "       'answer', 'anxieti', 'anyon', 'anyth', 'apart', 'app', 'appear',\n",
              "       'appl', 'appli', 'applic', 'approach', 'arab', 'area', 'armi',\n",
              "       'around', 'art', 'asian', 'ask', 'associ', 'atheist', 'attack',\n",
              "       'attend', 'attract', 'australia', 'avail', 'averag', 'avoid',\n",
              "       'away', 'b', 'babi', 'back', 'bad', 'ball', 'ban', 'bangalor',\n",
              "       'bank', 'base', 'basic', 'beauti', 'becom', 'begin', 'behind',\n",
              "       'believ', 'benefit', 'best', 'better', 'big', 'biggest', 'bill',\n",
              "       'bit', 'bitcoin', 'black', 'block', 'blog', 'blood', 'blue',\n",
              "       'board', 'bodi', 'book', 'born', 'boy', 'boyfriend', 'brain',\n",
              "       'branch', 'brand', 'break', 'bring', 'british', 'brother', 'build',\n",
              "       'busi', 'buy', 'c', 'ca', 'calcul', 'california', 'call', 'camera',\n",
              "       'canada', 'cancer', 'candid', 'capit', 'car', 'card', 'care',\n",
              "       'career', 'carri', 'case', 'cat', 'caus', 'cbse', 'celebr', 'cell',\n",
              "       'certain', 'certif', 'challeng', 'chanc', 'chang', 'channel',\n",
              "       'charact', 'characterist', 'charg', 'cheat', 'check', 'chemic',\n",
              "       'chemistri', 'child', 'children', 'china', 'chines', 'choos',\n",
              "       'christian', 'citi', 'citizen', 'civil', 'claim', 'class', 'clean',\n",
              "       'clear', 'close', 'cloth', 'coach', 'code', 'cold', 'colleg',\n",
              "       'color', 'come', 'comment', 'commit', 'common', 'commun',\n",
              "       'compani', 'compar', 'complet', 'comput', 'concept', 'condit',\n",
              "       'connect', 'conserv', 'consid', 'contact', 'content', 'continu',\n",
              "       'contribut', 'control', 'convers', 'convert', 'convinc', 'corpor',\n",
              "       'correct', 'cost', 'could', 'countri', 'cours', 'cover', 'crack',\n",
              "       'creat', 'credit', 'crime', 'crush', 'cs', 'cse', 'cultur',\n",
              "       'current', 'custom', 'cut', 'daili', 'danger', 'dark', 'data',\n",
              "       'date', 'day', 'deal', 'death', 'decid', 'decis', 'defin', 'degre',\n",
              "       'delet', 'delhi', 'democrat', 'depress', 'describ', 'design',\n",
              "       'destroy', 'detail', 'determin', 'develop', 'devic', 'die',\n",
              "       'differ', 'difficult', 'digit', 'direct', 'disord', 'distanc',\n",
              "       'doctor', 'document', 'dog', 'donald', 'done', 'download', 'dream',\n",
              "       'drink', 'drive', 'drop', 'drug', 'due', 'earli', 'earn', 'earth',\n",
              "       'easi', 'easili', 'east', 'eat', 'econom', 'economi', 'educ',\n",
              "       'effect', 'elect', 'electr', 'electron', 'els', 'email', 'emot',\n",
              "       'employ', 'employe', 'end', 'energi', 'engin', 'english', 'enjoy',\n",
              "       'enough', 'equal', 'especi', 'etc', 'europ', 'european', 'even',\n",
              "       'event', 'ever', 'everi', 'everyon', 'everyth', 'ex', 'exactli',\n",
              "       'exam', 'exampl', 'exercis', 'exist', 'expect', 'expens', 'experi',\n",
              "       'explain', 'extrem', 'eye', 'face', 'facebook', 'fact', 'factor',\n",
              "       'fail', 'fake', 'fall', 'famili', 'famou', 'far', 'fast', 'fat',\n",
              "       'father', 'favorit', 'fear', 'featur', 'fee', 'feel', 'femal',\n",
              "       'field', 'fight', 'file', 'film', 'final', 'financ', 'financi',\n",
              "       'find', 'fire', 'first', 'fit', 'fix', 'fli', 'flight', 'follow',\n",
              "       'food', 'footbal', 'forc', 'foreign', 'form', 'found', 'free',\n",
              "       'french', 'friend', 'full', 'function', 'fund', 'futur', 'gain',\n",
              "       'game', 'gate', 'gay', 'gener', 'german', 'germani', 'get', 'girl',\n",
              "       'girlfriend', 'give', 'given', 'global', 'go', 'god', 'good',\n",
              "       'googl', 'got', 'govern', 'grade', 'graduat', 'great', 'green',\n",
              "       'group', 'grow', 'growth', 'gun', 'guy', 'hack', 'hair', 'hand',\n",
              "       'handl', 'happen', 'happi', 'hard', 'hate', 'head', 'health',\n",
              "       'healthi', 'hear', 'heart', 'heat', 'help', 'high', 'higher',\n",
              "       'hindi', 'hindu', 'hire', 'histori', 'hit', 'hitler', 'hold',\n",
              "       'home', 'hotel', 'hour', 'hous', 'human', 'hurt', 'husband',\n",
              "       'idea', 'ignor', 'iit', 'illeg', 'imag', 'immigr', 'impact',\n",
              "       'import', 'improv', 'includ', 'incom', 'increas', 'india',\n",
              "       'indian', 'individu', 'industri', 'influenc', 'inform', 'insid',\n",
              "       'inspir', 'instagram', 'instead', 'institut', 'insur', 'integr',\n",
              "       'intellig', 'interest', 'intern', 'internet', 'internship',\n",
              "       'interview', 'invent', 'invest', 'involv', 'iphon', 'iq', 'islam',\n",
              "       'israel', 'issu', 'japan', 'japanes', 'java', 'jee', 'jew', 'job',\n",
              "       'join', 'keep', 'key', 'kid', 'kill', 'kind', 'know', 'knowledg',\n",
              "       'known', 'korea', 'korean', 'land', 'languag', 'laptop', 'larg',\n",
              "       'last', 'late', 'later', 'law', 'lead', 'leader', 'learn', 'least',\n",
              "       'leav', 'left', 'legal', 'less', 'let', 'letter', 'level', 'liber',\n",
              "       'lie', 'life', 'light', 'like', 'limit', 'line', 'link', 'list',\n",
              "       'listen', 'littl', 'live', 'loan', 'locat', 'long', 'look', 'lose',\n",
              "       'loss', 'lost', 'lot', 'love', 'low', 'machin', 'made', 'main',\n",
              "       'major', 'make', 'male', 'man', 'manag', 'mani', 'manufactur',\n",
              "       'mark', 'market', 'marri', 'marriag', 'mass', 'master', 'match',\n",
              "       'materi', 'math', 'mathemat', 'matter', 'may', 'mba', 'mean',\n",
              "       'measur', 'mechan', 'media', 'medic', 'meet', 'member', 'memori',\n",
              "       'men', 'mental', 'messag', 'met', 'metal', 'method', 'middl',\n",
              "       'might', 'militari', 'million', 'mind', 'minor', 'mobil', 'model',\n",
              "       'modern', 'modi', 'mom', 'moment', 'money', 'month', 'mother',\n",
              "       'motiv', 'move', 'movi', 'ms', 'much', 'multipl', 'mumbai',\n",
              "       'music', 'muslim', 'must', \"n't\", 'name', 'narcissist', 'nation',\n",
              "       'natur', 'near', 'necessari', 'need', 'neet', 'neg', 'network',\n",
              "       'never', 'new', 'news', 'next', 'night', 'nit', 'non', 'normal',\n",
              "       'north', 'noth', 'novel', 'nuclear', 'number', 'obama', 'object',\n",
              "       'offer', 'offic', 'often', 'oil', 'ok', 'okay', 'old', 'one',\n",
              "       'onlin', 'open', 'oper', 'opinion', 'opportun', 'option', 'order',\n",
              "       'organ', 'origin', 'other', 'outsid', 'overcom', 'packag', 'page',\n",
              "       'paid', 'pain', 'pakistan', 'pakistani', 'paper', 'parent', 'part',\n",
              "       'parti', 'partner', 'pass', 'past', 'pay', 'peopl', 'per',\n",
              "       'percentag', 'perform', 'period', 'person', 'phd', 'phone',\n",
              "       'photo', 'physic', 'pictur', 'place', 'placement', 'plan',\n",
              "       'planet', 'plant', 'platform', 'play', 'player', 'pleas', 'point',\n",
              "       'polic', 'polici', 'polit', 'poor', 'popul', 'popular', 'posit',\n",
              "       'possibl', 'post', 'potenti', 'power', 'practic', 'prefer',\n",
              "       'pregnant', 'prepar', 'present', 'presid', 'pressur', 'prevent',\n",
              "       'price', 'privat', 'pro', 'problem', 'procedur', 'process',\n",
              "       'produc', 'product', 'profession', 'profil', 'profit', 'program',\n",
              "       'project', 'promot', 'properti', 'protect', 'prove', 'provid',\n",
              "       'psycholog', 'public', 'pune', 'purchas', 'purpos', 'pursu', 'put',\n",
              "       'qualiti', 'question', 'quora', 'race', 'racist', 'rais', 'rank',\n",
              "       'rape', 'rate', 'rather', 'reach', 'react', 'reaction', 'read',\n",
              "       'real', 'realiti', 'realiz', 'realli', 'reason', 'receiv',\n",
              "       'recent', 'recommend', 'record', 'red', 'reduc', 'refer', 'regard',\n",
              "       'relat', 'relationship', 'releas', 'religi', 'religion', 'remov',\n",
              "       'replac', 'report', 'republican', 'requir', 'research', 'resourc',\n",
              "       'respect', 'respons', 'rest', 'result', 'return', 'review', 'rich',\n",
              "       'rid', 'right', 'risk', 'role', 'room', 'rule', 'run', 'russia',\n",
              "       'russian', 'safe', 'said', 'salari', 'sale', 'save', 'say',\n",
              "       'school', 'scienc', 'scientif', 'scientist', 'scope', 'score',\n",
              "       'search', 'seat', 'second', 'secret', 'secur', 'see', 'seem',\n",
              "       'seen', 'select', 'self', 'sell', 'send', 'sens', 'sentenc',\n",
              "       'separ', 'seri', 'serv', 'servic', 'set', 'sever', 'sex', 'sexual',\n",
              "       'share', 'shoot', 'shop', 'short', 'show', 'side', 'sign',\n",
              "       'signific', 'similar', 'sinc', 'singl', 'sister', 'site', 'situat',\n",
              "       'size', 'skill', 'skin', 'sleep', 'small', 'smart', 'smoke',\n",
              "       'social', 'societi', 'softwar', 'solut', 'solv', 'someon',\n",
              "       'someth', 'sometim', 'son', 'song', 'sound', 'sourc', 'south',\n",
              "       'space', 'speak', 'special', 'specif', 'speed', 'spend', 'sport',\n",
              "       'stand', 'standard', 'star', 'start', 'startup', 'state', 'stay',\n",
              "       'step', 'still', 'stock', 'stop', 'store', 'stori', 'strategi',\n",
              "       'strong', 'structur', 'student', 'studi', 'stupid', 'style',\n",
              "       'subject', 'success', 'suffer', 'suggest', 'suicid', 'summer',\n",
              "       'support', 'sure', 'surviv', 'switch', 'system', 'take', 'taken',\n",
              "       'talk', 'tamil', 'tax', 'teach', 'teacher', 'team', 'tech',\n",
              "       'technic', 'techniqu', 'technolog', 'teenag', 'tell', 'term',\n",
              "       'test', 'text', 'theori', 'thing', 'think', 'though', 'thought',\n",
              "       'three', 'time', 'tip', 'today', 'togeth', 'told', 'tool', 'top',\n",
              "       'topic', 'total', 'toward', 'trade', 'train', 'transfer', 'travel',\n",
              "       'treat', 'treatment', 'tri', 'true', 'trump', 'trust', 'turn',\n",
              "       'tv', 'two', 'type', 'u.s.', 'uk', 'understand', 'unit', 'univers',\n",
              "       'upsc', 'us', 'usa', 'use', 'user', 'usual', 'valu', 'version',\n",
              "       'video', 'view', 'visa', 'visit', 'vote', 'vs', 'walk', 'want',\n",
              "       'war', 'watch', 'water', 'way', 'weapon', 'wear', 'web', 'websit',\n",
              "       'week', 'weight', 'well', 'west', 'western', 'white', 'whole',\n",
              "       'wife', 'win', 'window', 'wish', 'within', 'without', 'wo',\n",
              "       'woman', 'women', 'word', 'work', 'world', 'worst', 'worth',\n",
              "       'would', 'write', 'writer', 'written', 'wrong', 'x', 'ye', 'year',\n",
              "       'yet', 'young', 'youtub', '{', '}', '’', '“', '”'], dtype=object)"
            ]
          },
          "metadata": {},
          "execution_count": 72
        }
      ]
    },
    {
      "cell_type": "markdown",
      "source": [
        "## Transform text to vectors using Count Vectorizer"
      ],
      "metadata": {
        "id": "TjUb7FeVh5of"
      }
    },
    {
      "cell_type": "code",
      "source": [
        "inputs = vectorizer.transform(sample.question_text)"
      ],
      "metadata": {
        "id": "j3HtWrGQjudZ"
      },
      "execution_count": 77,
      "outputs": []
    },
    {
      "cell_type": "code",
      "source": [
        "inputs.shape"
      ],
      "metadata": {
        "colab": {
          "base_uri": "https://localhost:8080/"
        },
        "id": "l9FoEd6uqvij",
        "outputId": "51cc97e1-77b4-45f1-c5ec-71a771fa0e0a"
      },
      "execution_count": 78,
      "outputs": [
        {
          "output_type": "execute_result",
          "data": {
            "text/plain": [
              "(100000, 1000)"
            ]
          },
          "metadata": {},
          "execution_count": 78
        }
      ]
    },
    {
      "cell_type": "code",
      "source": [
        "inputs.toarray()"
      ],
      "metadata": {
        "colab": {
          "base_uri": "https://localhost:8080/"
        },
        "id": "quMDi58yjvaW",
        "outputId": "195d6af3-8941-4099-bcda-74b7441cded1"
      },
      "execution_count": 86,
      "outputs": [
        {
          "output_type": "execute_result",
          "data": {
            "text/plain": [
              "array([[0, 0, 0, ..., 0, 0, 0],\n",
              "       [0, 0, 0, ..., 0, 0, 0],\n",
              "       [0, 0, 0, ..., 0, 0, 0],\n",
              "       ...,\n",
              "       [0, 0, 0, ..., 0, 0, 0],\n",
              "       [0, 0, 0, ..., 0, 0, 0],\n",
              "       [0, 0, 0, ..., 0, 0, 0]])"
            ]
          },
          "metadata": {},
          "execution_count": 86
        }
      ]
    },
    {
      "cell_type": "code",
      "source": [
        "test = pd.read_csv('/content/quora-insincere-questions-classification/test.csv')"
      ],
      "metadata": {
        "id": "rJW_1P1wriQL"
      },
      "execution_count": 105,
      "outputs": []
    },
    {
      "cell_type": "code",
      "source": [
        "test_inputs = vectorizer.transform(test.question_text)"
      ],
      "metadata": {
        "id": "lFHVTgtDr2YP"
      },
      "execution_count": 84,
      "outputs": []
    },
    {
      "cell_type": "markdown",
      "source": [
        "# ML for Text Classification"
      ],
      "metadata": {
        "id": "NkxkaFv4XSGN"
      }
    },
    {
      "cell_type": "markdown",
      "source": [
        "### Split into train and test set"
      ],
      "metadata": {
        "id": "_Z8kZqTrtN3c"
      }
    },
    {
      "cell_type": "code",
      "source": [
        "from sklearn.model_selection import train_test_split"
      ],
      "metadata": {
        "id": "ZaS8XNfAuXDq"
      },
      "execution_count": 88,
      "outputs": []
    },
    {
      "cell_type": "code",
      "source": [
        "train_feature, test_feature, train_target, test_target =  train_test_split(inputs,sample.target, test_size = 0.2, random_state=42)"
      ],
      "metadata": {
        "id": "J069dsUfBTL1"
      },
      "execution_count": 90,
      "outputs": []
    },
    {
      "cell_type": "code",
      "source": [
        "train_feature.shape"
      ],
      "metadata": {
        "id": "hROYcF-o_z23",
        "colab": {
          "base_uri": "https://localhost:8080/"
        },
        "outputId": "fc7eed90-109f-4e38-c755-e5b349ebcb35"
      },
      "execution_count": 91,
      "outputs": [
        {
          "output_type": "execute_result",
          "data": {
            "text/plain": [
              "(80000, 1000)"
            ]
          },
          "metadata": {},
          "execution_count": 91
        }
      ]
    },
    {
      "cell_type": "markdown",
      "source": [
        "### Train a logistic regression model"
      ],
      "metadata": {
        "id": "ARfBABNqtak2"
      }
    },
    {
      "cell_type": "code",
      "source": [
        "from sklearn.linear_model import LogisticRegression"
      ],
      "metadata": {
        "id": "TxGoB3v5tjRI"
      },
      "execution_count": 92,
      "outputs": []
    },
    {
      "cell_type": "code",
      "source": [
        "clf = LogisticRegression(max_iter = 2000, solver='sag' ).fit(train_feature, train_target)"
      ],
      "metadata": {
        "colab": {
          "base_uri": "https://localhost:8080/"
        },
        "id": "1fo7BTcytnjy",
        "outputId": "76c29ba0-df84-4302-d90e-533a74127737"
      },
      "execution_count": 97,
      "outputs": [
        {
          "output_type": "stream",
          "name": "stderr",
          "text": [
            "/usr/local/lib/python3.9/dist-packages/sklearn/linear_model/_sag.py:350: ConvergenceWarning: The max_iter was reached which means the coef_ did not converge\n",
            "  warnings.warn(\n"
          ]
        }
      ]
    },
    {
      "cell_type": "markdown",
      "source": [
        "### Predict on test data"
      ],
      "metadata": {
        "id": "FuZWJ-wWtn1l"
      }
    },
    {
      "cell_type": "code",
      "source": [
        "from sklearn.metrics import accuracy_score, f1_score"
      ],
      "metadata": {
        "id": "Lj224Za0wrGm"
      },
      "execution_count": 102,
      "outputs": []
    },
    {
      "cell_type": "code",
      "source": [
        "accuracy_score(test_target,clf.predict(test_feature) )"
      ],
      "metadata": {
        "colab": {
          "base_uri": "https://localhost:8080/"
        },
        "id": "e1Fnuvf5toJ7",
        "outputId": "1f155ec3-7d00-4312-fe21-3e8bd8b1f79c"
      },
      "execution_count": 101,
      "outputs": [
        {
          "output_type": "execute_result",
          "data": {
            "text/plain": [
              "0.9456"
            ]
          },
          "metadata": {},
          "execution_count": 101
        }
      ]
    },
    {
      "cell_type": "code",
      "source": [
        "f1_score(test_target,clf.predict(test_feature))"
      ],
      "metadata": {
        "colab": {
          "base_uri": "https://localhost:8080/"
        },
        "id": "ti0pJWEAxJRE",
        "outputId": "ff4305ef-2785-4404-ad02-365e27fc5ef2"
      },
      "execution_count": 103,
      "outputs": [
        {
          "output_type": "execute_result",
          "data": {
            "text/plain": [
              "0.3853107344632768"
            ]
          },
          "metadata": {},
          "execution_count": 103
        }
      ]
    },
    {
      "cell_type": "markdown",
      "source": [
        "# Submission"
      ],
      "metadata": {
        "id": "qA3gA8OJySiS"
      }
    },
    {
      "cell_type": "code",
      "source": [
        "pred = clf.predict(test_inputs)"
      ],
      "metadata": {
        "id": "KGhGgo6Qyf7l"
      },
      "execution_count": 108,
      "outputs": []
    },
    {
      "cell_type": "code",
      "source": [
        "test['prediction'] = pred"
      ],
      "metadata": {
        "id": "44JnYKMttoM_"
      },
      "execution_count": 111,
      "outputs": []
    },
    {
      "cell_type": "code",
      "source": [
        "del test['question_text']"
      ],
      "metadata": {
        "id": "tOO7IqAAzTOQ"
      },
      "execution_count": 113,
      "outputs": []
    },
    {
      "cell_type": "code",
      "source": [
        "test.to_csv('submission.csv', index=None)"
      ],
      "metadata": {
        "id": "BpwMfJUIyVTL"
      },
      "execution_count": 116,
      "outputs": []
    },
    {
      "cell_type": "code",
      "source": [],
      "metadata": {
        "id": "AKWqmbABzSpE"
      },
      "execution_count": null,
      "outputs": []
    }
  ]
}