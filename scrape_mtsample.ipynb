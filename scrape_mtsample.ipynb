{
  "nbformat": 4,
  "nbformat_minor": 0,
  "metadata": {
    "colab": {
      "provenance": [],
      "authorship_tag": "ABX9TyPMHgD/9dSt4QSOPNL3UMLh",
      "include_colab_link": true
    },
    "kernelspec": {
      "name": "python3",
      "display_name": "Python 3"
    },
    "language_info": {
      "name": "python"
    }
  },
  "cells": [
    {
      "cell_type": "markdown",
      "metadata": {
        "id": "view-in-github",
        "colab_type": "text"
      },
      "source": [
        "<a href=\"https://colab.research.google.com/github/gshreya5/colab/blob/main/scrape_mtsample.ipynb\" target=\"_parent\"><img src=\"https://colab.research.google.com/assets/colab-badge.svg\" alt=\"Open In Colab\"/></a>"
      ]
    },
    {
      "cell_type": "markdown",
      "source": [
        "# SCRAPE MTSAMPLE"
      ],
      "metadata": {
        "id": "5bfxgpNwGQvu"
      }
    },
    {
      "cell_type": "code",
      "source": [
        "from bs4 import BeautifulSoup\n",
        "import requests\n",
        "import re\n",
        "import time\n",
        "import json\n",
        "import pandas as pd"
      ],
      "metadata": {
        "id": "SME0THCB8693"
      },
      "execution_count": 1,
      "outputs": []
    },
    {
      "cell_type": "code",
      "execution_count": null,
      "metadata": {
        "colab": {
          "base_uri": "https://localhost:8080/"
        },
        "id": "lFgqDkKx5xWu",
        "outputId": "f0f8c00d-3e47-46b8-a5c2-cc07aed335d1"
      },
      "outputs": [
        {
          "output_type": "stream",
          "name": "stdout",
          "text": [
            "status : 200\n"
          ]
        }
      ],
      "source": [
        "url = 'https://www.mtsamples.com/'\n",
        "html = requests.get(url)\n",
        "print(f'status : {html.status_code}')\n",
        "\n",
        "soup = BeautifulSoup(html.text)"
      ]
    },
    {
      "cell_type": "code",
      "source": [
        "links = soup.find('ol').find_all('a')"
      ],
      "metadata": {
        "id": "ZzINcRb-_9Iu"
      },
      "execution_count": null,
      "outputs": []
    },
    {
      "cell_type": "code",
      "source": [
        "def add_data_to_datasets(sample_soup):\n",
        "      record = {}\n",
        "\n",
        "      col_names = [\"Medical Specialty\",\"Sample Name\",\"Description\",\"TRANSCIPTION\",\"Keywords\"]\n",
        "      data = re.sub(\"\\(.*?\\)|\\[.*?\\]\",\"\",sample_soup).replace('.push;','')\n",
        "\n",
        "      record[\"Medical Specialty\"] = l.text\n",
        "      record[\"Sample Name\"] = sample.text\n",
        "      record[\"Description\"],record[\"TRANSCIPTION\"] = data.split(\"Description:\",1)[1].split(\":\",1)\n",
        "      last_word = record[\"Description\"].split()[-1]\n",
        "      record[\"Description\"] = ' '.join(record[\"Description\"].split()[:-1])\n",
        "      record[\"TRANSCIPTION\"] = last_word + \":\" + record[\"TRANSCIPTION\"].split('See More')[0]\n",
        "      record[\"Keywords\"] = data.split(\"Keywords:\",1)[1]\n",
        "\n",
        "      datasets.append(json.loads(json.dumps(record,indent=4)))"
      ],
      "metadata": {
        "id": "NRSLn7BSo1u4"
      },
      "execution_count": null,
      "outputs": []
    },
    {
      "cell_type": "code",
      "source": [
        "datasets = []\n",
        "bad_links = []\n",
        "\n",
        "for l in links:\n",
        "  print(f'Medical Specialty : {l.text}')\n",
        "  link_url = l.get('href')\n",
        "  link_soup = BeautifulSoup(requests.get(url+link_url).text)\n",
        "  samples = link_soup.find('table').find_all('a')\n",
        "  for sample in samples:\n",
        "    print(f'Sample Name : {sample.text}')\n",
        "    #time.sleep(4)\n",
        "    sample_url = sample.get('href')\n",
        "    sample_soup=\"\"\n",
        "    \n",
        "    try :\n",
        "      sample_soup = BeautifulSoup(requests.get(url+sample_url).text).find(class_ = 'hilightBold').text\n",
        "      add_data_to_datasets(sample_soup)\n",
        "    except :\n",
        "      try:\n",
        "        sample_soup = BeautifulSoup(requests.get(url+sample_url).text).find(class_ = 'hilightBold').get_text()\n",
        "        add_data_to_datasets(sample_soup)\n",
        "      except:\n",
        "        print(url+sample_url)\n",
        "        bad_links.append(url+sample_url)"
      ],
      "metadata": {
        "id": "fugHqBc3GHHl"
      },
      "execution_count": null,
      "outputs": []
    },
    {
      "cell_type": "code",
      "source": [
        "bad_links"
      ],
      "metadata": {
        "id": "vu-RE7CZkt9Z"
      },
      "execution_count": null,
      "outputs": []
    },
    {
      "cell_type": "code",
      "source": [
        "df = pd.DataFrame.from_dict(datasets)\n",
        "df"
      ],
      "metadata": {
        "colab": {
          "base_uri": "https://localhost:8080/",
          "height": 49
        },
        "id": "vyUuwZOjVeil",
        "outputId": "f29d91c1-2a90-4b38-c702-506a6aea9c76"
      },
      "execution_count": null,
      "outputs": [
        {
          "output_type": "execute_result",
          "data": {
            "text/plain": [
              "Empty DataFrame\n",
              "Columns: []\n",
              "Index: []"
            ],
            "text/html": [
              "\n",
              "  <div id=\"df-37471c70-077f-4cee-b988-8207d71c6c5f\">\n",
              "    <div class=\"colab-df-container\">\n",
              "      <div>\n",
              "<style scoped>\n",
              "    .dataframe tbody tr th:only-of-type {\n",
              "        vertical-align: middle;\n",
              "    }\n",
              "\n",
              "    .dataframe tbody tr th {\n",
              "        vertical-align: top;\n",
              "    }\n",
              "\n",
              "    .dataframe thead th {\n",
              "        text-align: right;\n",
              "    }\n",
              "</style>\n",
              "<table border=\"1\" class=\"dataframe\">\n",
              "  <thead>\n",
              "    <tr style=\"text-align: right;\">\n",
              "      <th></th>\n",
              "    </tr>\n",
              "  </thead>\n",
              "  <tbody>\n",
              "  </tbody>\n",
              "</table>\n",
              "</div>\n",
              "      <button class=\"colab-df-convert\" onclick=\"convertToInteractive('df-37471c70-077f-4cee-b988-8207d71c6c5f')\"\n",
              "              title=\"Convert this dataframe to an interactive table.\"\n",
              "              style=\"display:none;\">\n",
              "        \n",
              "  <svg xmlns=\"http://www.w3.org/2000/svg\" height=\"24px\"viewBox=\"0 0 24 24\"\n",
              "       width=\"24px\">\n",
              "    <path d=\"M0 0h24v24H0V0z\" fill=\"none\"/>\n",
              "    <path d=\"M18.56 5.44l.94 2.06.94-2.06 2.06-.94-2.06-.94-.94-2.06-.94 2.06-2.06.94zm-11 1L8.5 8.5l.94-2.06 2.06-.94-2.06-.94L8.5 2.5l-.94 2.06-2.06.94zm10 10l.94 2.06.94-2.06 2.06-.94-2.06-.94-.94-2.06-.94 2.06-2.06.94z\"/><path d=\"M17.41 7.96l-1.37-1.37c-.4-.4-.92-.59-1.43-.59-.52 0-1.04.2-1.43.59L10.3 9.45l-7.72 7.72c-.78.78-.78 2.05 0 2.83L4 21.41c.39.39.9.59 1.41.59.51 0 1.02-.2 1.41-.59l7.78-7.78 2.81-2.81c.8-.78.8-2.07 0-2.86zM5.41 20L4 18.59l7.72-7.72 1.47 1.35L5.41 20z\"/>\n",
              "  </svg>\n",
              "      </button>\n",
              "      \n",
              "  <style>\n",
              "    .colab-df-container {\n",
              "      display:flex;\n",
              "      flex-wrap:wrap;\n",
              "      gap: 12px;\n",
              "    }\n",
              "\n",
              "    .colab-df-convert {\n",
              "      background-color: #E8F0FE;\n",
              "      border: none;\n",
              "      border-radius: 50%;\n",
              "      cursor: pointer;\n",
              "      display: none;\n",
              "      fill: #1967D2;\n",
              "      height: 32px;\n",
              "      padding: 0 0 0 0;\n",
              "      width: 32px;\n",
              "    }\n",
              "\n",
              "    .colab-df-convert:hover {\n",
              "      background-color: #E2EBFA;\n",
              "      box-shadow: 0px 1px 2px rgba(60, 64, 67, 0.3), 0px 1px 3px 1px rgba(60, 64, 67, 0.15);\n",
              "      fill: #174EA6;\n",
              "    }\n",
              "\n",
              "    [theme=dark] .colab-df-convert {\n",
              "      background-color: #3B4455;\n",
              "      fill: #D2E3FC;\n",
              "    }\n",
              "\n",
              "    [theme=dark] .colab-df-convert:hover {\n",
              "      background-color: #434B5C;\n",
              "      box-shadow: 0px 1px 3px 1px rgba(0, 0, 0, 0.15);\n",
              "      filter: drop-shadow(0px 1px 2px rgba(0, 0, 0, 0.3));\n",
              "      fill: #FFFFFF;\n",
              "    }\n",
              "  </style>\n",
              "\n",
              "      <script>\n",
              "        const buttonEl =\n",
              "          document.querySelector('#df-37471c70-077f-4cee-b988-8207d71c6c5f button.colab-df-convert');\n",
              "        buttonEl.style.display =\n",
              "          google.colab.kernel.accessAllowed ? 'block' : 'none';\n",
              "\n",
              "        async function convertToInteractive(key) {\n",
              "          const element = document.querySelector('#df-37471c70-077f-4cee-b988-8207d71c6c5f');\n",
              "          const dataTable =\n",
              "            await google.colab.kernel.invokeFunction('convertToInteractive',\n",
              "                                                     [key], {});\n",
              "          if (!dataTable) return;\n",
              "\n",
              "          const docLinkHtml = 'Like what you see? Visit the ' +\n",
              "            '<a target=\"_blank\" href=https://colab.research.google.com/notebooks/data_table.ipynb>data table notebook</a>'\n",
              "            + ' to learn more about interactive tables.';\n",
              "          element.innerHTML = '';\n",
              "          dataTable['output_type'] = 'display_data';\n",
              "          await google.colab.output.renderOutput(dataTable, element);\n",
              "          const docLink = document.createElement('div');\n",
              "          docLink.innerHTML = docLinkHtml;\n",
              "          element.appendChild(docLink);\n",
              "        }\n",
              "      </script>\n",
              "    </div>\n",
              "  </div>\n",
              "  "
            ]
          },
          "metadata": {},
          "execution_count": 196
        }
      ]
    }
  ]
}