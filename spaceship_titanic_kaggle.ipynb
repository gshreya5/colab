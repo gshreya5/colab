{
  "nbformat": 4,
  "nbformat_minor": 0,
  "metadata": {
    "colab": {
      "provenance": [],
      "authorship_tag": "ABX9TyOg0zXsNzK0k95MahMuLB+r",
      "include_colab_link": true
    },
    "kernelspec": {
      "name": "python3",
      "display_name": "Python 3"
    },
    "language_info": {
      "name": "python"
    }
  },
  "cells": [
    {
      "cell_type": "markdown",
      "metadata": {
        "id": "view-in-github",
        "colab_type": "text"
      },
      "source": [
        "<a href=\"https://colab.research.google.com/github/gshreya5/colab/blob/main/spaceship_titanic_kaggle.ipynb\" target=\"_parent\"><img src=\"https://colab.research.google.com/assets/colab-badge.svg\" alt=\"Open In Colab\"/></a>"
      ]
    },
    {
      "cell_type": "markdown",
      "source": [
        "# Spaceship Titanic"
      ],
      "metadata": {
        "id": "xQocvPobpkak"
      }
    },
    {
      "cell_type": "markdown",
      "source": [
        "Welcome to the year 2912, where our data science skills are needed to solve a cosmic mystery. We've received a transmission from four lightyears away and things aren't looking good.\n",
        "\n",
        "The Spaceship Titanic was an interstellar passenger liner launched a month ago. With almost 13,000 passengers on board, the vessel set out on its maiden voyage transporting emigrants from our solar system to three newly habitable exoplanets orbiting nearby stars.\n",
        "\n",
        "While rounding Alpha Centauri en route to its first destination—the torrid 55 Cancri E—the unwary Spaceship Titanic collided with a spacetime anomaly hidden within a dust cloud. Sadly, it met a similar fate as its namesake from 1000 years before. Though the ship stayed intact, almost half of the passengers were transported to an alternate dimension!\n",
        "\n",
        "To help rescue crews and retrieve the lost passengers, we need to predict which passengers were transported by the anomaly using records recovered from the spaceship’s damaged computer system.\n",
        "\n",
        "Help save them and change history!"
      ],
      "metadata": {
        "id": "fVENOf9CpLIg"
      }
    },
    {
      "cell_type": "markdown",
      "source": [
        "# Import Libraries"
      ],
      "metadata": {
        "id": "x-zGWAZAp4j7"
      }
    },
    {
      "cell_type": "code",
      "source": [
        "!kaggle competitions download -c spaceship-titanic\n",
        "!chmod 600 /root/.kaggle/kaggle.json"
      ],
      "metadata": {
        "colab": {
          "base_uri": "https://localhost:8080/"
        },
        "id": "9PVFpf6zp3-9",
        "outputId": "e9a92fa5-a49e-44c8-fe76-3039faa4ebf3"
      },
      "execution_count": 7,
      "outputs": [
        {
          "output_type": "stream",
          "name": "stdout",
          "text": [
            "Downloading spaceship-titanic.zip to /content\n",
            "\r  0% 0.00/299k [00:00<?, ?B/s]\n",
            "\r100% 299k/299k [00:00<00:00, 63.3MB/s]\n"
          ]
        }
      ]
    },
    {
      "cell_type": "code",
      "source": [
        "!pip install lazypredict --quiet"
      ],
      "metadata": {
        "id": "tJH6JOXNux70"
      },
      "execution_count": 338,
      "outputs": []
    },
    {
      "cell_type": "code",
      "source": [
        "import numpy as np\n",
        "import pandas as pd\n",
        "import matplotlib.pyplot as plt\n",
        "import seaborn as sns\n",
        "\n",
        "from sklearn.preprocessing import StandardScaler\n",
        "\n",
        "from sklearn.model_selection import train_test_split, cross_val_score, RandomizedSearchCV\n",
        "\n",
        "import lazypredict\n",
        "from lazypredict.Supervised import LazyClassifier\n",
        "\n",
        "from sklearn.ensemble import RandomForestClassifier\n",
        "\n",
        "from sklearn.metrics import accuracy_score, confusion_matrix, precision_score, recall_score, ConfusionMatrixDisplay\n",
        "from sklearn.metrics import classification_report\n",
        "\n",
        "import zipfile\n",
        "%matplotlib inline"
      ],
      "metadata": {
        "id": "KQb8h_jeqf5j"
      },
      "execution_count": 466,
      "outputs": []
    },
    {
      "cell_type": "markdown",
      "source": [
        "# Load Datasets"
      ],
      "metadata": {
        "id": "twJermGZrPef"
      }
    },
    {
      "cell_type": "code",
      "source": [
        "zip_path = '/content/spaceship-titanic.zip'\n",
        "directory_to_extract_to = '/content/spaceship-titanic'\n",
        "\n",
        "with zipfile.ZipFile(zip_path, 'r') as zip_ref:\n",
        "    zip_ref.extractall(directory_to_extract_to)"
      ],
      "metadata": {
        "id": "ew0-ugX_rNEi"
      },
      "execution_count": 380,
      "outputs": []
    },
    {
      "cell_type": "code",
      "source": [
        "train_df = pd.read_csv(directory_to_extract_to+'/train.csv')\n",
        "test_df = pd.read_csv(directory_to_extract_to+'/test.csv')\n",
        "sample_submission_df = pd.read_csv(directory_to_extract_to+'/sample_submission.csv')"
      ],
      "metadata": {
        "id": "AlI-1DXzrXCl"
      },
      "execution_count": 381,
      "outputs": []
    },
    {
      "cell_type": "code",
      "source": [
        "train_df.head()"
      ],
      "metadata": {
        "colab": {
          "base_uri": "https://localhost:8080/",
          "height": 206
        },
        "id": "lsGi44LkrW_b",
        "outputId": "fa8ee040-89bd-4a4a-8019-52be1c13b852"
      },
      "execution_count": 150,
      "outputs": [
        {
          "output_type": "execute_result",
          "data": {
            "text/plain": [
              "  PassengerId HomePlanet CryoSleep  Cabin  Destination   Age    VIP  \\\n",
              "0     0001_01     Europa     False  B/0/P  TRAPPIST-1e  39.0  False   \n",
              "1     0002_01      Earth     False  F/0/S  TRAPPIST-1e  24.0  False   \n",
              "2     0003_01     Europa     False  A/0/S  TRAPPIST-1e  58.0   True   \n",
              "3     0003_02     Europa     False  A/0/S  TRAPPIST-1e  33.0  False   \n",
              "4     0004_01      Earth     False  F/1/S  TRAPPIST-1e  16.0  False   \n",
              "\n",
              "   RoomService  FoodCourt  ShoppingMall     Spa  VRDeck               Name  \\\n",
              "0          0.0        0.0           0.0     0.0     0.0    Maham Ofracculy   \n",
              "1        109.0        9.0          25.0   549.0    44.0       Juanna Vines   \n",
              "2         43.0     3576.0           0.0  6715.0    49.0      Altark Susent   \n",
              "3          0.0     1283.0         371.0  3329.0   193.0       Solam Susent   \n",
              "4        303.0       70.0         151.0   565.0     2.0  Willy Santantines   \n",
              "\n",
              "   Transported  \n",
              "0        False  \n",
              "1         True  \n",
              "2        False  \n",
              "3        False  \n",
              "4         True  "
            ],
            "text/html": [
              "\n",
              "  <div id=\"df-8e56b856-8c24-4ad5-a1e1-e473a35cc419\">\n",
              "    <div class=\"colab-df-container\">\n",
              "      <div>\n",
              "<style scoped>\n",
              "    .dataframe tbody tr th:only-of-type {\n",
              "        vertical-align: middle;\n",
              "    }\n",
              "\n",
              "    .dataframe tbody tr th {\n",
              "        vertical-align: top;\n",
              "    }\n",
              "\n",
              "    .dataframe thead th {\n",
              "        text-align: right;\n",
              "    }\n",
              "</style>\n",
              "<table border=\"1\" class=\"dataframe\">\n",
              "  <thead>\n",
              "    <tr style=\"text-align: right;\">\n",
              "      <th></th>\n",
              "      <th>PassengerId</th>\n",
              "      <th>HomePlanet</th>\n",
              "      <th>CryoSleep</th>\n",
              "      <th>Cabin</th>\n",
              "      <th>Destination</th>\n",
              "      <th>Age</th>\n",
              "      <th>VIP</th>\n",
              "      <th>RoomService</th>\n",
              "      <th>FoodCourt</th>\n",
              "      <th>ShoppingMall</th>\n",
              "      <th>Spa</th>\n",
              "      <th>VRDeck</th>\n",
              "      <th>Name</th>\n",
              "      <th>Transported</th>\n",
              "    </tr>\n",
              "  </thead>\n",
              "  <tbody>\n",
              "    <tr>\n",
              "      <th>0</th>\n",
              "      <td>0001_01</td>\n",
              "      <td>Europa</td>\n",
              "      <td>False</td>\n",
              "      <td>B/0/P</td>\n",
              "      <td>TRAPPIST-1e</td>\n",
              "      <td>39.0</td>\n",
              "      <td>False</td>\n",
              "      <td>0.0</td>\n",
              "      <td>0.0</td>\n",
              "      <td>0.0</td>\n",
              "      <td>0.0</td>\n",
              "      <td>0.0</td>\n",
              "      <td>Maham Ofracculy</td>\n",
              "      <td>False</td>\n",
              "    </tr>\n",
              "    <tr>\n",
              "      <th>1</th>\n",
              "      <td>0002_01</td>\n",
              "      <td>Earth</td>\n",
              "      <td>False</td>\n",
              "      <td>F/0/S</td>\n",
              "      <td>TRAPPIST-1e</td>\n",
              "      <td>24.0</td>\n",
              "      <td>False</td>\n",
              "      <td>109.0</td>\n",
              "      <td>9.0</td>\n",
              "      <td>25.0</td>\n",
              "      <td>549.0</td>\n",
              "      <td>44.0</td>\n",
              "      <td>Juanna Vines</td>\n",
              "      <td>True</td>\n",
              "    </tr>\n",
              "    <tr>\n",
              "      <th>2</th>\n",
              "      <td>0003_01</td>\n",
              "      <td>Europa</td>\n",
              "      <td>False</td>\n",
              "      <td>A/0/S</td>\n",
              "      <td>TRAPPIST-1e</td>\n",
              "      <td>58.0</td>\n",
              "      <td>True</td>\n",
              "      <td>43.0</td>\n",
              "      <td>3576.0</td>\n",
              "      <td>0.0</td>\n",
              "      <td>6715.0</td>\n",
              "      <td>49.0</td>\n",
              "      <td>Altark Susent</td>\n",
              "      <td>False</td>\n",
              "    </tr>\n",
              "    <tr>\n",
              "      <th>3</th>\n",
              "      <td>0003_02</td>\n",
              "      <td>Europa</td>\n",
              "      <td>False</td>\n",
              "      <td>A/0/S</td>\n",
              "      <td>TRAPPIST-1e</td>\n",
              "      <td>33.0</td>\n",
              "      <td>False</td>\n",
              "      <td>0.0</td>\n",
              "      <td>1283.0</td>\n",
              "      <td>371.0</td>\n",
              "      <td>3329.0</td>\n",
              "      <td>193.0</td>\n",
              "      <td>Solam Susent</td>\n",
              "      <td>False</td>\n",
              "    </tr>\n",
              "    <tr>\n",
              "      <th>4</th>\n",
              "      <td>0004_01</td>\n",
              "      <td>Earth</td>\n",
              "      <td>False</td>\n",
              "      <td>F/1/S</td>\n",
              "      <td>TRAPPIST-1e</td>\n",
              "      <td>16.0</td>\n",
              "      <td>False</td>\n",
              "      <td>303.0</td>\n",
              "      <td>70.0</td>\n",
              "      <td>151.0</td>\n",
              "      <td>565.0</td>\n",
              "      <td>2.0</td>\n",
              "      <td>Willy Santantines</td>\n",
              "      <td>True</td>\n",
              "    </tr>\n",
              "  </tbody>\n",
              "</table>\n",
              "</div>\n",
              "      <button class=\"colab-df-convert\" onclick=\"convertToInteractive('df-8e56b856-8c24-4ad5-a1e1-e473a35cc419')\"\n",
              "              title=\"Convert this dataframe to an interactive table.\"\n",
              "              style=\"display:none;\">\n",
              "        \n",
              "  <svg xmlns=\"http://www.w3.org/2000/svg\" height=\"24px\"viewBox=\"0 0 24 24\"\n",
              "       width=\"24px\">\n",
              "    <path d=\"M0 0h24v24H0V0z\" fill=\"none\"/>\n",
              "    <path d=\"M18.56 5.44l.94 2.06.94-2.06 2.06-.94-2.06-.94-.94-2.06-.94 2.06-2.06.94zm-11 1L8.5 8.5l.94-2.06 2.06-.94-2.06-.94L8.5 2.5l-.94 2.06-2.06.94zm10 10l.94 2.06.94-2.06 2.06-.94-2.06-.94-.94-2.06-.94 2.06-2.06.94z\"/><path d=\"M17.41 7.96l-1.37-1.37c-.4-.4-.92-.59-1.43-.59-.52 0-1.04.2-1.43.59L10.3 9.45l-7.72 7.72c-.78.78-.78 2.05 0 2.83L4 21.41c.39.39.9.59 1.41.59.51 0 1.02-.2 1.41-.59l7.78-7.78 2.81-2.81c.8-.78.8-2.07 0-2.86zM5.41 20L4 18.59l7.72-7.72 1.47 1.35L5.41 20z\"/>\n",
              "  </svg>\n",
              "      </button>\n",
              "      \n",
              "  <style>\n",
              "    .colab-df-container {\n",
              "      display:flex;\n",
              "      flex-wrap:wrap;\n",
              "      gap: 12px;\n",
              "    }\n",
              "\n",
              "    .colab-df-convert {\n",
              "      background-color: #E8F0FE;\n",
              "      border: none;\n",
              "      border-radius: 50%;\n",
              "      cursor: pointer;\n",
              "      display: none;\n",
              "      fill: #1967D2;\n",
              "      height: 32px;\n",
              "      padding: 0 0 0 0;\n",
              "      width: 32px;\n",
              "    }\n",
              "\n",
              "    .colab-df-convert:hover {\n",
              "      background-color: #E2EBFA;\n",
              "      box-shadow: 0px 1px 2px rgba(60, 64, 67, 0.3), 0px 1px 3px 1px rgba(60, 64, 67, 0.15);\n",
              "      fill: #174EA6;\n",
              "    }\n",
              "\n",
              "    [theme=dark] .colab-df-convert {\n",
              "      background-color: #3B4455;\n",
              "      fill: #D2E3FC;\n",
              "    }\n",
              "\n",
              "    [theme=dark] .colab-df-convert:hover {\n",
              "      background-color: #434B5C;\n",
              "      box-shadow: 0px 1px 3px 1px rgba(0, 0, 0, 0.15);\n",
              "      filter: drop-shadow(0px 1px 2px rgba(0, 0, 0, 0.3));\n",
              "      fill: #FFFFFF;\n",
              "    }\n",
              "  </style>\n",
              "\n",
              "      <script>\n",
              "        const buttonEl =\n",
              "          document.querySelector('#df-8e56b856-8c24-4ad5-a1e1-e473a35cc419 button.colab-df-convert');\n",
              "        buttonEl.style.display =\n",
              "          google.colab.kernel.accessAllowed ? 'block' : 'none';\n",
              "\n",
              "        async function convertToInteractive(key) {\n",
              "          const element = document.querySelector('#df-8e56b856-8c24-4ad5-a1e1-e473a35cc419');\n",
              "          const dataTable =\n",
              "            await google.colab.kernel.invokeFunction('convertToInteractive',\n",
              "                                                     [key], {});\n",
              "          if (!dataTable) return;\n",
              "\n",
              "          const docLinkHtml = 'Like what you see? Visit the ' +\n",
              "            '<a target=\"_blank\" href=https://colab.research.google.com/notebooks/data_table.ipynb>data table notebook</a>'\n",
              "            + ' to learn more about interactive tables.';\n",
              "          element.innerHTML = '';\n",
              "          dataTable['output_type'] = 'display_data';\n",
              "          await google.colab.output.renderOutput(dataTable, element);\n",
              "          const docLink = document.createElement('div');\n",
              "          docLink.innerHTML = docLinkHtml;\n",
              "          element.appendChild(docLink);\n",
              "        }\n",
              "      </script>\n",
              "    </div>\n",
              "  </div>\n",
              "  "
            ]
          },
          "metadata": {},
          "execution_count": 150
        }
      ]
    },
    {
      "cell_type": "markdown",
      "source": [
        "# Explore Dataset"
      ],
      "metadata": {
        "id": "Rmuqrj9dsWLC"
      }
    },
    {
      "cell_type": "code",
      "source": [
        "train_df.isnull().sum()"
      ],
      "metadata": {
        "colab": {
          "base_uri": "https://localhost:8080/"
        },
        "id": "22hPM-zOsVAk",
        "outputId": "3281492d-a11f-4e69-b486-2d2258d2c183"
      },
      "execution_count": 151,
      "outputs": [
        {
          "output_type": "execute_result",
          "data": {
            "text/plain": [
              "PassengerId       0\n",
              "HomePlanet      201\n",
              "CryoSleep       217\n",
              "Cabin           199\n",
              "Destination     182\n",
              "Age             179\n",
              "VIP             203\n",
              "RoomService     181\n",
              "FoodCourt       183\n",
              "ShoppingMall    208\n",
              "Spa             183\n",
              "VRDeck          188\n",
              "Name            200\n",
              "Transported       0\n",
              "dtype: int64"
            ]
          },
          "metadata": {},
          "execution_count": 151
        }
      ]
    },
    {
      "cell_type": "code",
      "source": [
        "test_df.isnull().sum()"
      ],
      "metadata": {
        "colab": {
          "base_uri": "https://localhost:8080/"
        },
        "id": "EwXbC1jVrW1h",
        "outputId": "9c5972d4-7829-4d6f-da45-4f88dc99db06"
      },
      "execution_count": 152,
      "outputs": [
        {
          "output_type": "execute_result",
          "data": {
            "text/plain": [
              "PassengerId       0\n",
              "HomePlanet       87\n",
              "CryoSleep        93\n",
              "Cabin           100\n",
              "Destination      92\n",
              "Age              91\n",
              "VIP              93\n",
              "RoomService      82\n",
              "FoodCourt       106\n",
              "ShoppingMall     98\n",
              "Spa             101\n",
              "VRDeck           80\n",
              "Name             94\n",
              "dtype: int64"
            ]
          },
          "metadata": {},
          "execution_count": 152
        }
      ]
    },
    {
      "cell_type": "markdown",
      "source": [
        "Both train and test df have empty values."
      ],
      "metadata": {
        "id": "0An3rrOetBBq"
      }
    },
    {
      "cell_type": "code",
      "source": [
        "for col in train_df.columns:\n",
        "  print(train_df[col].unique())"
      ],
      "metadata": {
        "colab": {
          "base_uri": "https://localhost:8080/"
        },
        "id": "_Z5EIFBywYz4",
        "outputId": "8852ec87-0a8d-4ecd-c05d-ae8daeb59bac"
      },
      "execution_count": 29,
      "outputs": [
        {
          "output_type": "stream",
          "name": "stdout",
          "text": [
            "['0001_01' '0002_01' '0003_01' ... '9279_01' '9280_01' '9280_02']\n",
            "['Europa' 'Earth' 'Mars' nan]\n",
            "[False True nan]\n",
            "['B/0/P' 'F/0/S' 'A/0/S' ... 'G/1499/S' 'G/1500/S' 'E/608/S']\n",
            "['TRAPPIST-1e' 'PSO J318.5-22' '55 Cancri e' nan]\n",
            "[39. 24. 58. 33. 16. 44. 26. 28. 35. 14. 34. 45. 32. 48. 31. 27.  0.  1.\n",
            " 49. 29. 10.  7. 21. 62. 15. 43. 47.  2. 20. 23. 30. 17. 55.  4. 19. 56.\n",
            " nan 25. 38. 36. 22. 18. 42. 37. 13.  8. 40.  3. 54.  9.  6. 64. 67. 61.\n",
            " 50. 41. 57. 11. 52. 51. 46. 60. 63. 59.  5. 79. 68. 74. 12. 53. 65. 71.\n",
            " 75. 70. 76. 78. 73. 66. 69. 72. 77.]\n",
            "[False True nan]\n",
            "[   0.  109.   43. ... 1569. 8586.  745.]\n",
            "[   0.    9. 3576. ... 3208. 6819. 4688.]\n",
            "[   0.   25.  371. ... 1085.  510. 1872.]\n",
            "[   0.  549. 6715. ... 2868. 1107. 1643.]\n",
            "[   0.   44.   49. ... 1164.  971. 3235.]\n",
            "['Maham Ofracculy' 'Juanna Vines' 'Altark Susent' ... 'Fayey Connon'\n",
            " 'Celeon Hontichre' 'Propsh Hontichre']\n",
            "[False  True]\n"
          ]
        }
      ]
    },
    {
      "cell_type": "code",
      "source": [
        "train_df.describe()"
      ],
      "metadata": {
        "colab": {
          "base_uri": "https://localhost:8080/",
          "height": 300
        },
        "id": "NGKizTAjrWoy",
        "outputId": "001a00fa-6048-48b4-9e50-36096e4588c0"
      },
      "execution_count": 21,
      "outputs": [
        {
          "output_type": "execute_result",
          "data": {
            "text/plain": [
              "               Age   RoomService     FoodCourt  ShoppingMall           Spa  \\\n",
              "count  8514.000000   8512.000000   8510.000000   8485.000000   8510.000000   \n",
              "mean     28.827930    224.687617    458.077203    173.729169    311.138778   \n",
              "std      14.489021    666.717663   1611.489240    604.696458   1136.705535   \n",
              "min       0.000000      0.000000      0.000000      0.000000      0.000000   \n",
              "25%      19.000000      0.000000      0.000000      0.000000      0.000000   \n",
              "50%      27.000000      0.000000      0.000000      0.000000      0.000000   \n",
              "75%      38.000000     47.000000     76.000000     27.000000     59.000000   \n",
              "max      79.000000  14327.000000  29813.000000  23492.000000  22408.000000   \n",
              "\n",
              "             VRDeck  \n",
              "count   8505.000000  \n",
              "mean     304.854791  \n",
              "std     1145.717189  \n",
              "min        0.000000  \n",
              "25%        0.000000  \n",
              "50%        0.000000  \n",
              "75%       46.000000  \n",
              "max    24133.000000  "
            ],
            "text/html": [
              "\n",
              "  <div id=\"df-d767df17-b59d-4df0-8085-f378400c5adf\">\n",
              "    <div class=\"colab-df-container\">\n",
              "      <div>\n",
              "<style scoped>\n",
              "    .dataframe tbody tr th:only-of-type {\n",
              "        vertical-align: middle;\n",
              "    }\n",
              "\n",
              "    .dataframe tbody tr th {\n",
              "        vertical-align: top;\n",
              "    }\n",
              "\n",
              "    .dataframe thead th {\n",
              "        text-align: right;\n",
              "    }\n",
              "</style>\n",
              "<table border=\"1\" class=\"dataframe\">\n",
              "  <thead>\n",
              "    <tr style=\"text-align: right;\">\n",
              "      <th></th>\n",
              "      <th>Age</th>\n",
              "      <th>RoomService</th>\n",
              "      <th>FoodCourt</th>\n",
              "      <th>ShoppingMall</th>\n",
              "      <th>Spa</th>\n",
              "      <th>VRDeck</th>\n",
              "    </tr>\n",
              "  </thead>\n",
              "  <tbody>\n",
              "    <tr>\n",
              "      <th>count</th>\n",
              "      <td>8514.000000</td>\n",
              "      <td>8512.000000</td>\n",
              "      <td>8510.000000</td>\n",
              "      <td>8485.000000</td>\n",
              "      <td>8510.000000</td>\n",
              "      <td>8505.000000</td>\n",
              "    </tr>\n",
              "    <tr>\n",
              "      <th>mean</th>\n",
              "      <td>28.827930</td>\n",
              "      <td>224.687617</td>\n",
              "      <td>458.077203</td>\n",
              "      <td>173.729169</td>\n",
              "      <td>311.138778</td>\n",
              "      <td>304.854791</td>\n",
              "    </tr>\n",
              "    <tr>\n",
              "      <th>std</th>\n",
              "      <td>14.489021</td>\n",
              "      <td>666.717663</td>\n",
              "      <td>1611.489240</td>\n",
              "      <td>604.696458</td>\n",
              "      <td>1136.705535</td>\n",
              "      <td>1145.717189</td>\n",
              "    </tr>\n",
              "    <tr>\n",
              "      <th>min</th>\n",
              "      <td>0.000000</td>\n",
              "      <td>0.000000</td>\n",
              "      <td>0.000000</td>\n",
              "      <td>0.000000</td>\n",
              "      <td>0.000000</td>\n",
              "      <td>0.000000</td>\n",
              "    </tr>\n",
              "    <tr>\n",
              "      <th>25%</th>\n",
              "      <td>19.000000</td>\n",
              "      <td>0.000000</td>\n",
              "      <td>0.000000</td>\n",
              "      <td>0.000000</td>\n",
              "      <td>0.000000</td>\n",
              "      <td>0.000000</td>\n",
              "    </tr>\n",
              "    <tr>\n",
              "      <th>50%</th>\n",
              "      <td>27.000000</td>\n",
              "      <td>0.000000</td>\n",
              "      <td>0.000000</td>\n",
              "      <td>0.000000</td>\n",
              "      <td>0.000000</td>\n",
              "      <td>0.000000</td>\n",
              "    </tr>\n",
              "    <tr>\n",
              "      <th>75%</th>\n",
              "      <td>38.000000</td>\n",
              "      <td>47.000000</td>\n",
              "      <td>76.000000</td>\n",
              "      <td>27.000000</td>\n",
              "      <td>59.000000</td>\n",
              "      <td>46.000000</td>\n",
              "    </tr>\n",
              "    <tr>\n",
              "      <th>max</th>\n",
              "      <td>79.000000</td>\n",
              "      <td>14327.000000</td>\n",
              "      <td>29813.000000</td>\n",
              "      <td>23492.000000</td>\n",
              "      <td>22408.000000</td>\n",
              "      <td>24133.000000</td>\n",
              "    </tr>\n",
              "  </tbody>\n",
              "</table>\n",
              "</div>\n",
              "      <button class=\"colab-df-convert\" onclick=\"convertToInteractive('df-d767df17-b59d-4df0-8085-f378400c5adf')\"\n",
              "              title=\"Convert this dataframe to an interactive table.\"\n",
              "              style=\"display:none;\">\n",
              "        \n",
              "  <svg xmlns=\"http://www.w3.org/2000/svg\" height=\"24px\"viewBox=\"0 0 24 24\"\n",
              "       width=\"24px\">\n",
              "    <path d=\"M0 0h24v24H0V0z\" fill=\"none\"/>\n",
              "    <path d=\"M18.56 5.44l.94 2.06.94-2.06 2.06-.94-2.06-.94-.94-2.06-.94 2.06-2.06.94zm-11 1L8.5 8.5l.94-2.06 2.06-.94-2.06-.94L8.5 2.5l-.94 2.06-2.06.94zm10 10l.94 2.06.94-2.06 2.06-.94-2.06-.94-.94-2.06-.94 2.06-2.06.94z\"/><path d=\"M17.41 7.96l-1.37-1.37c-.4-.4-.92-.59-1.43-.59-.52 0-1.04.2-1.43.59L10.3 9.45l-7.72 7.72c-.78.78-.78 2.05 0 2.83L4 21.41c.39.39.9.59 1.41.59.51 0 1.02-.2 1.41-.59l7.78-7.78 2.81-2.81c.8-.78.8-2.07 0-2.86zM5.41 20L4 18.59l7.72-7.72 1.47 1.35L5.41 20z\"/>\n",
              "  </svg>\n",
              "      </button>\n",
              "      \n",
              "  <style>\n",
              "    .colab-df-container {\n",
              "      display:flex;\n",
              "      flex-wrap:wrap;\n",
              "      gap: 12px;\n",
              "    }\n",
              "\n",
              "    .colab-df-convert {\n",
              "      background-color: #E8F0FE;\n",
              "      border: none;\n",
              "      border-radius: 50%;\n",
              "      cursor: pointer;\n",
              "      display: none;\n",
              "      fill: #1967D2;\n",
              "      height: 32px;\n",
              "      padding: 0 0 0 0;\n",
              "      width: 32px;\n",
              "    }\n",
              "\n",
              "    .colab-df-convert:hover {\n",
              "      background-color: #E2EBFA;\n",
              "      box-shadow: 0px 1px 2px rgba(60, 64, 67, 0.3), 0px 1px 3px 1px rgba(60, 64, 67, 0.15);\n",
              "      fill: #174EA6;\n",
              "    }\n",
              "\n",
              "    [theme=dark] .colab-df-convert {\n",
              "      background-color: #3B4455;\n",
              "      fill: #D2E3FC;\n",
              "    }\n",
              "\n",
              "    [theme=dark] .colab-df-convert:hover {\n",
              "      background-color: #434B5C;\n",
              "      box-shadow: 0px 1px 3px 1px rgba(0, 0, 0, 0.15);\n",
              "      filter: drop-shadow(0px 1px 2px rgba(0, 0, 0, 0.3));\n",
              "      fill: #FFFFFF;\n",
              "    }\n",
              "  </style>\n",
              "\n",
              "      <script>\n",
              "        const buttonEl =\n",
              "          document.querySelector('#df-d767df17-b59d-4df0-8085-f378400c5adf button.colab-df-convert');\n",
              "        buttonEl.style.display =\n",
              "          google.colab.kernel.accessAllowed ? 'block' : 'none';\n",
              "\n",
              "        async function convertToInteractive(key) {\n",
              "          const element = document.querySelector('#df-d767df17-b59d-4df0-8085-f378400c5adf');\n",
              "          const dataTable =\n",
              "            await google.colab.kernel.invokeFunction('convertToInteractive',\n",
              "                                                     [key], {});\n",
              "          if (!dataTable) return;\n",
              "\n",
              "          const docLinkHtml = 'Like what you see? Visit the ' +\n",
              "            '<a target=\"_blank\" href=https://colab.research.google.com/notebooks/data_table.ipynb>data table notebook</a>'\n",
              "            + ' to learn more about interactive tables.';\n",
              "          element.innerHTML = '';\n",
              "          dataTable['output_type'] = 'display_data';\n",
              "          await google.colab.output.renderOutput(dataTable, element);\n",
              "          const docLink = document.createElement('div');\n",
              "          docLink.innerHTML = docLinkHtml;\n",
              "          element.appendChild(docLink);\n",
              "        }\n",
              "      </script>\n",
              "    </div>\n",
              "  </div>\n",
              "  "
            ]
          },
          "metadata": {},
          "execution_count": 21
        }
      ]
    },
    {
      "cell_type": "markdown",
      "source": [
        "One thing that jumps out immediately is the heavily skewed data on spends across RoomService, FoodCourt, ShoppingMall, Spa and VRDeck. These need to be normalized and scaled. Age looks fairly distributed."
      ],
      "metadata": {
        "id": "8w0xuoWuwbUJ"
      }
    },
    {
      "cell_type": "code",
      "source": [
        "train_df.corr().Transported"
      ],
      "metadata": {
        "colab": {
          "base_uri": "https://localhost:8080/"
        },
        "id": "STCgwkIErWYJ",
        "outputId": "86574273-4af6-4ac7-e3e5-afe3638d48c1"
      },
      "execution_count": 31,
      "outputs": [
        {
          "output_type": "execute_result",
          "data": {
            "text/plain": [
              "Age            -0.075026\n",
              "RoomService    -0.244611\n",
              "FoodCourt       0.046566\n",
              "ShoppingMall    0.010141\n",
              "Spa            -0.221131\n",
              "VRDeck         -0.207075\n",
              "Transported     1.000000\n",
              "Name: Transported, dtype: float64"
            ]
          },
          "metadata": {},
          "execution_count": 31
        }
      ]
    },
    {
      "cell_type": "markdown",
      "source": [
        "Strong correlators are spending on RoomService, Spa and VRDeck, which suggests an effect of social class."
      ],
      "metadata": {
        "id": "eejA1ucE3e4a"
      }
    },
    {
      "cell_type": "markdown",
      "source": [
        "# Feature Engineer"
      ],
      "metadata": {
        "id": "sHVZRFR94ppM"
      }
    },
    {
      "cell_type": "markdown",
      "source": [
        "Let's split Cabin to Deck / Num / Side"
      ],
      "metadata": {
        "id": "NDhSAzmB4oVs"
      }
    },
    {
      "cell_type": "code",
      "source": [
        "cabin_cols =  ['cabin_deck', 'cabin_num', 'cabin_side']\n",
        "train_df[cabin_cols] = train_df.Cabin.str.split('/',expand=True)\n",
        "test_df[cabin_cols] = test_df.Cabin.str.split('/',expand=True)"
      ],
      "metadata": {
        "id": "Se5NCnG_2hTg"
      },
      "execution_count": 382,
      "outputs": []
    },
    {
      "cell_type": "markdown",
      "source": [
        "Lets split PassengerId to Passenger_Id, Family_member_no"
      ],
      "metadata": {
        "id": "pjEaNuqt6aAW"
      }
    },
    {
      "cell_type": "code",
      "source": [
        "id_cols =  ['passenger_Id', 'family_member_no']\n",
        "train_df[id_cols] = train_df.PassengerId.str.split('_',expand=True).astype('int32')\n",
        "test_df[id_cols] = test_df.PassengerId.str.split('_',expand=True).astype('int32')"
      ],
      "metadata": {
        "id": "ToQvFQbn6ZSg"
      },
      "execution_count": 383,
      "outputs": []
    },
    {
      "cell_type": "code",
      "source": [
        "sns.catplot(data=train_df,\n",
        "            kind=\"bar\",\n",
        "            x='family_member_no'\n",
        "            y='passenger_Id',\n",
        "            hue='Transported',);"
      ],
      "metadata": {
        "colab": {
          "base_uri": "https://localhost:8080/",
          "height": 369
        },
        "id": "vJnpFPAm5kLY",
        "outputId": "afdcf67c-0ada-437e-eafd-8993507a50a1"
      },
      "execution_count": 67,
      "outputs": [
        {
          "output_type": "display_data",
          "data": {
            "text/plain": [
              "<Figure size 427.125x360 with 1 Axes>"
            ],
            "image/png": "[encoded data removed]"
          },
          "metadata": {
            "needs_background": "light"
          }
        }
      ]
    },
    {
      "cell_type": "markdown",
      "source": [
        "Having more family members doesn't seem to affect the chances of being Transported"
      ],
      "metadata": {
        "id": "DHApPmSJ-LRY"
      }
    },
    {
      "cell_type": "markdown",
      "source": [
        "# Imputing Null Values"
      ],
      "metadata": {
        "id": "Ms-ZMOvEC8Bv"
      }
    },
    {
      "cell_type": "code",
      "source": [
        "train_df.columns"
      ],
      "metadata": {
        "colab": {
          "base_uri": "https://localhost:8080/"
        },
        "id": "ZRCAUuyv5I7G",
        "outputId": "261bc6d2-98fa-4c06-9a54-dc24a66513cb"
      },
      "execution_count": 35,
      "outputs": [
        {
          "output_type": "execute_result",
          "data": {
            "text/plain": [
              "Index(['PassengerId', 'HomePlanet', 'CryoSleep', 'Cabin', 'Destination', 'Age',\n",
              "       'VIP', 'RoomService', 'FoodCourt', 'ShoppingMall', 'Spa', 'VRDeck',\n",
              "       'Name', 'Transported', 'cabin_deck', 'cabin_num', 'cabin_side'],\n",
              "      dtype='object')"
            ]
          },
          "metadata": {},
          "execution_count": 35
        }
      ]
    },
    {
      "cell_type": "markdown",
      "source": [
        "Let's assume CryoSleep to be False if missing value and\n"
      ],
      "metadata": {
        "id": "KYxzl41gISuy"
      }
    },
    {
      "cell_type": "code",
      "source": [
        "train_df['CryoSleep'].fillna(False, inplace=True)\n",
        "test_df['CryoSleep'].fillna(False, inplace=True)"
      ],
      "metadata": {
        "id": "6WcRY-R_IsfQ"
      },
      "execution_count": 384,
      "outputs": []
    },
    {
      "cell_type": "markdown",
      "source": [
        "For VIP"
      ],
      "metadata": {
        "id": "l79oYkypM220"
      }
    },
    {
      "cell_type": "code",
      "source": [
        "train_df['total_spend'] = train_df[['RoomService', 'FoodCourt', 'ShoppingMall', 'Spa', 'VRDeck']].fillna(0).sum(axis='columns')\n",
        "test_df['total_spend'] = test_df[['RoomService', 'FoodCourt', 'ShoppingMall', 'Spa', 'VRDeck']].fillna(0).sum(axis='columns')"
      ],
      "metadata": {
        "id": "TkNL3KaWIeLY"
      },
      "execution_count": 385,
      "outputs": []
    },
    {
      "cell_type": "markdown",
      "source": [
        "❓ maybe use vip column only and discard all spend cols"
      ],
      "metadata": {
        "id": "ykmFFdS3NGfc"
      }
    },
    {
      "cell_type": "code",
      "source": [
        "sns.catplot(data=train_df,\n",
        "            kind=\"bar\",\n",
        "            x='VIP',\n",
        "            y='total_spend',\n",
        "            hue='Transported',);"
      ],
      "metadata": {
        "colab": {
          "base_uri": "https://localhost:8080/",
          "height": 369
        },
        "id": "WQkoKy_gJjM7",
        "outputId": "74c70245-f261-45af-9001-8d8de4666c5a"
      },
      "execution_count": 139,
      "outputs": [
        {
          "output_type": "display_data",
          "data": {
            "text/plain": [
              "<Figure size 427.125x360 with 1 Axes>"
            ],
            "image/png": "[encoded data removed]"
          },
          "metadata": {
            "needs_background": "light"
          }
        }
      ]
    },
    {
      "cell_type": "markdown",
      "source": [
        "Lets assume VIP to be anyone whose total spend is above 3000 and rest to be non-vip"
      ],
      "metadata": {
        "id": "iLorxu61MHnw"
      }
    },
    {
      "cell_type": "code",
      "source": [
        "train_df.loc[train_df.total_spend>3000,'VIP'] = train_df.loc[train_df.total_spend>3000,'VIP'].fillna(True)\n",
        "test_df.loc[test_df.total_spend>3000,'VIP'] = test_df.loc[test_df.total_spend>3000,'VIP'].fillna(True)"
      ],
      "metadata": {
        "id": "B8c5Ne7mRHgU"
      },
      "execution_count": 386,
      "outputs": []
    },
    {
      "cell_type": "code",
      "source": [
        "train_df.VIP.fillna(False,inplace=True)\n",
        "test_df.VIP.fillna(False,inplace=True)"
      ],
      "metadata": {
        "id": "DkohC0VPWe1R"
      },
      "execution_count": 387,
      "outputs": []
    },
    {
      "cell_type": "markdown",
      "source": [
        "Let's fill empty values of Spend columns to be 0"
      ],
      "metadata": {
        "id": "thAd7x3BMZw8"
      }
    },
    {
      "cell_type": "code",
      "source": [
        "train_df[['RoomService', 'FoodCourt', 'ShoppingMall', 'Spa', 'VRDeck']] = train_df[['RoomService', 'FoodCourt', 'ShoppingMall', 'Spa', 'VRDeck']].fillna(0)\n",
        "test_df[['RoomService', 'FoodCourt', 'ShoppingMall', 'Spa', 'VRDeck']] = test_df[['RoomService', 'FoodCourt', 'ShoppingMall', 'Spa', 'VRDeck']].fillna(0)"
      ],
      "metadata": {
        "id": "5gNLFV28SHFl"
      },
      "execution_count": 388,
      "outputs": []
    },
    {
      "cell_type": "markdown",
      "source": [
        "Let's fill Age with mean"
      ],
      "metadata": {
        "id": "I_b_LTpjXdp7"
      }
    },
    {
      "cell_type": "code",
      "source": [
        "mean_age = (train_df['Age'].mean() + test_df['Age'].mean()) /2\n",
        "train_df['Age'].fillna(mean_age, inplace=True)\n",
        "test_df['Age'].fillna(mean_age, inplace=True)"
      ],
      "metadata": {
        "id": "9DQnCUqCXg9c"
      },
      "execution_count": 389,
      "outputs": []
    },
    {
      "cell_type": "markdown",
      "source": [
        "Destination, HomePlanet, Cabin - deck, side"
      ],
      "metadata": {
        "id": "W9In-vwIIdZF"
      }
    },
    {
      "cell_type": "code",
      "source": [
        "fig, axes = plt.subplots(1, 5, figsize=(15, 5), sharey=True)\n",
        "fig.suptitle(' vs Transported')\n",
        "\n",
        "# 1\n",
        "sns.barplot(ax=axes[0], x=train_df.HomePlanet, y=train_df.passenger_Id, hue=train_df.Destination)\n",
        "axes[0].set_title('HomePlanet vs Destination')\n",
        "\n",
        "# 2\n",
        "sns.barplot(ax=axes[1], x=train_df.cabin_deck, y=train_df.passenger_Id)\n",
        "axes[1].set_title('cabin_deck')\n",
        "\n",
        "# 3\n",
        "sns.barplot(ax=axes[2], x=train_df.cabin_side, y=train_df.passenger_Id)\n",
        "axes[2].set_title('cabin_side')\n",
        "\n",
        "# 4\n",
        "sns.barplot(ax=axes[3], x=train_df.Destination, y=train_df.passenger_Id)\n",
        "axes[3].set_title('Destination')\n",
        "\n",
        "# 5\n",
        "sns.barplot(ax=axes[4], x=train_df.HomePlanet, y=train_df.passenger_Id)\n",
        "axes[4].set_title('HomePlanet')\n",
        ";"
      ],
      "metadata": {
        "colab": {
          "base_uri": "https://localhost:8080/",
          "height": 389
        },
        "id": "pMt3ygchYwr2",
        "outputId": "de1c2a4a-23da-47c0-ba4b-b072fa009f92"
      },
      "execution_count": 203,
      "outputs": [
        {
          "output_type": "execute_result",
          "data": {
            "text/plain": [
              "''"
            ],
            "application/vnd.google.colaboratory.intrinsic+json": {
              "type": "string"
            }
          },
          "metadata": {},
          "execution_count": 203
        },
        {
          "output_type": "display_data",
          "data": {
            "text/plain": [
              "<Figure size 1080x360 with 5 Axes>"
            ],
            "image/png": "[encoded data removed]"
          },
          "metadata": {
            "needs_background": "light"
          }
        }
      ]
    },
    {
      "cell_type": "markdown",
      "source": [
        "Above graphs don't really have any pattern. "
      ],
      "metadata": {
        "id": "jBmIDcxCbh8x"
      }
    },
    {
      "cell_type": "code",
      "source": [
        "train_df.isnull().sum()"
      ],
      "metadata": {
        "colab": {
          "base_uri": "https://localhost:8080/"
        },
        "id": "xwuVaxaVI8HX",
        "outputId": "2c686293-8712-4a9b-8fe7-088fa0b774a9"
      },
      "execution_count": 204,
      "outputs": [
        {
          "output_type": "execute_result",
          "data": {
            "text/plain": [
              "PassengerId           0\n",
              "HomePlanet          201\n",
              "CryoSleep             0\n",
              "Cabin               199\n",
              "Destination         182\n",
              "Age                   0\n",
              "VIP                   0\n",
              "RoomService           0\n",
              "FoodCourt             0\n",
              "ShoppingMall          0\n",
              "Spa                   0\n",
              "VRDeck                0\n",
              "Name                200\n",
              "Transported           0\n",
              "cabin_deck          199\n",
              "cabin_num           199\n",
              "cabin_side          199\n",
              "passenger_Id          0\n",
              "family_member_no      0\n",
              "total_spend           0\n",
              "dtype: int64"
            ]
          },
          "metadata": {},
          "execution_count": 204
        }
      ]
    },
    {
      "cell_type": "markdown",
      "source": [
        "# Categorical Encoding"
      ],
      "metadata": {
        "id": "uoDGlFkUC1sM"
      }
    },
    {
      "cell_type": "code",
      "source": [
        "def func(col):\n",
        "  dic = {}\n",
        "  for i,value in enumerate(train_df[col].unique()):\n",
        "    dic[value] = i\n",
        "  train_df[col+'_numeric'] = train_df[col].replace(dic)\n",
        "  test_df[col+'_numeric'] = test_df[col].replace(dic)\n",
        "  print(dic)"
      ],
      "metadata": {
        "id": "aRMI49IfepCD"
      },
      "execution_count": 239,
      "outputs": []
    },
    {
      "cell_type": "code",
      "source": [
        "func('HomePlanet')"
      ],
      "metadata": {
        "colab": {
          "base_uri": "https://localhost:8080/"
        },
        "id": "S9iMLBXw5jdq",
        "outputId": "fadd0ff1-4ebb-4673-e7d6-8e79bc30f4dd"
      },
      "execution_count": 390,
      "outputs": [
        {
          "output_type": "stream",
          "name": "stdout",
          "text": [
            "{'Europa': 0, 'Earth': 1, 'Mars': 2, nan: 3}\n"
          ]
        }
      ]
    },
    {
      "cell_type": "code",
      "source": [
        "func('Destination')"
      ],
      "metadata": {
        "colab": {
          "base_uri": "https://localhost:8080/"
        },
        "id": "FlD_zyD7Cf67",
        "outputId": "3bb99ddf-157b-4800-ddd5-b0677bc6feb5"
      },
      "execution_count": 391,
      "outputs": [
        {
          "output_type": "stream",
          "name": "stdout",
          "text": [
            "{'TRAPPIST-1e': 0, 'PSO J318.5-22': 1, '55 Cancri e': 2, nan: 3}\n"
          ]
        }
      ]
    },
    {
      "cell_type": "code",
      "source": [
        "func('cabin_deck')\n",
        "func('cabin_num')\n",
        "func('cabin_side')"
      ],
      "metadata": {
        "colab": {
          "base_uri": "https://localhost:8080/"
        },
        "id": "HO-sLtfOdTVY",
        "outputId": "33cbd471-abab-432b-c7c8-b71b779b908e"
      },
      "execution_count": 392,
      "outputs": [
        {
          "output_type": "stream",
          "name": "stdout",
          "text": [
            "{'B': 0, 'F': 1, 'A': 2, 'G': 3, nan: 4, 'E': 5, 'D': 6, 'C': 7, 'T': 8}\n",
            "{'0': 0, '1': 1, '2': 2, '3': 3, nan: 4, '4': 5, '5': 6, '6': 7, '8': 8, '9': 9, '10': 10, '11': 11, '7': 12, '12': 13, '13': 14, '14': 15, '15': 16, '16': 17, '17': 18, '18': 19, '20': 20, '19': 21, '23': 22, '24': 23, '21': 24, '25': 25, '27': 26, '22': 27, '29': 28, '30': 29, '31': 30, '26': 31, '32': 32, '28': 33, '37': 34, '35': 35, '38': 36, '36': 37, '41': 38, '42': 39, '33': 40, '34': 41, '44': 42, '45': 43, '46': 44, '40': 45, '47': 46, '48': 47, '43': 48, '50': 49, '52': 50, '53': 51, '54': 52, '49': 53, '56': 54, '51': 55, '59': 56, '61': 57, '63': 58, '64': 59, '65': 60, '55': 61, '67': 62, '60': 63, '68': 64, '72': 65, '73': 66, '62': 67, '74': 68, '57': 69, '76': 70, '78': 71, '66': 72, '82': 73, '83': 74, '84': 75, '85': 76, '69': 77, '89': 78, '90': 79, '71': 80, '91': 81, '92': 82, '96': 83, '75': 84, '97': 85, '77': 86, '79': 87, '98': 88, '99': 89, '80': 90, '81': 91, '100': 92, '101': 93, '86': 94, '87': 95, '103': 96, '70': 97, '88': 98, '109': 99, '93': 100, '110': 101, '95': 102, '111': 103, '102': 104, '114': 105, '115': 106, '116': 107, '105': 108, '117': 109, '107': 110, '108': 111, '118': 112, '120': 113, '121': 114, '39': 115, '123': 116, '124': 117, '125': 118, '126': 119, '94': 120, '128': 121, '129': 122, '131': 123, '133': 124, '112': 125, '113': 126, '135': 127, '136': 128, '137': 129, '138': 130, '140': 131, '141': 132, '142': 133, '143': 134, '104': 135, '144': 136, '145': 137, '146': 138, '122': 139, '147': 140, '127': 141, '149': 142, '150': 143, '132': 144, '134': 145, '153': 146, '154': 147, '156': 148, '157': 149, '161': 150, '162': 151, '163': 152, '165': 153, '166': 154, '119': 155, '148': 156, '151': 157, '152': 158, '169': 159, '158': 160, '159': 161, '170': 162, '171': 163, '173': 164, '160': 165, '175': 166, '176': 167, '130': 168, '164': 169, '180': 170, '184': 171, '187': 172, '167': 173, '188': 174, '168': 175, '189': 176, '190': 177, '139': 178, '191': 179, '192': 180, '193': 181, '194': 182, '172': 183, '195': 184, '196': 185, '198': 186, '199': 187, '201': 188, '178': 189, '179': 190, '202': 191, '203': 192, '182': 193, '204': 194, '183': 195, '185': 196, '186': 197, '207': 198, '208': 199, '209': 200, '210': 201, '211': 202, '212': 203, '213': 204, '155': 205, '214': 206, '215': 207, '216': 208, '217': 209, '197': 210, '200': 211, '218': 212, '219': 213, '220': 214, '205': 215, '206': 216, '223': 217, '224': 218, '225': 219, '226': 220, '227': 221, '174': 222, '229': 223, '177': 224, '232': 225, '233': 226, '235': 227, '236': 228, '221': 229, '237': 230, '228': 231, '238': 232, '239': 233, '241': 234, '242': 235, '181': 236, '243': 237, '244': 238, '245': 239, '246': 240, '240': 241, '254': 242, '257': 243, '247': 244, '258': 245, '248': 246, '259': 247, '260': 248, '261': 249, '250': 250, '251': 251, '264': 252, '265': 253, '266': 254, '267': 255, '269': 256, '271': 257, '272': 258, '262': 259, '58': 260, '275': 261, '268': 262, '276': 263, '270': 264, '106': 265, '278': 266, '279': 267, '280': 268, '273': 269, '274': 270, '282': 271, '283': 272, '222': 273, '285': 274, '230': 275, '231': 276, '287': 277, '289': 278, '290': 279, '291': 280, '292': 281, '295': 282, '288': 283, '298': 284, '293': 285, '299': 286, '300': 287, '297': 288, '301': 289, '305': 290, '306': 291, '303': 292, '304': 293, '308': 294, '249': 295, '309': 296, '310': 297, '311': 298, '312': 299, '314': 300, '252': 301, '253': 302, '255': 303, '307': 304, '317': 305, '256': 306, '319': 307, '321': 308, '322': 309, '323': 310, '324': 311, '325': 312, '327': 313, '328': 314, '313': 315, '316': 316, '318': 317, '330': 318, '331': 319, '334': 320, '335': 321, '263': 322, '336': 323, '338': 324, '326': 325, '339': 326, '277': 327, '341': 328, '342': 329, '343': 330, '281': 331, '344': 332, '284': 333, '333': 334, '347': 335, '337': 336, '348': 337, '349': 338, '352': 339, '354': 340, '355': 341, '346': 342, '356': 343, '357': 344, '358': 345, '351': 346, '361': 347, '362': 348, '365': 349, '366': 350, '367': 351, '302': 352, '368': 353, '370': 354, '371': 355, '372': 356, '374': 357, '375': 358, '376': 359, '377': 360, '378': 361, '296': 362, '364': 363, '369': 364, '385': 365, '386': 366, '387': 367, '315': 368, '390': 369, '391': 370, '393': 371, '320': 372, '394': 373, '379': 374, '380': 375, '381': 376, '383': 377, '396': 378, '398': 379, '399': 380, '400': 381, '402': 382, '404': 383, '395': 384, '407': 385, '410': 386, '329': 387, '401': 388, '411': 389, '408': 390, '409': 391, '412': 392, '413': 393, '414': 394, '415': 395, '417': 396, '418': 397, '340': 398, '419': 399, '420': 400, '421': 401, '416': 402, '422': 403, '423': 404, '424': 405, '345': 406, '425': 407, '426': 408, '429': 409, '431': 410, '427': 411, '433': 412, '435': 413, '428': 414, '350': 415, '437': 416, '438': 417, '430': 418, '439': 419, '440': 420, '442': 421, '443': 422, '432': 423, '434': 424, '445': 425, '359': 426, '448': 427, '449': 428, '451': 429, '363': 430, '455': 431, '360': 432, '441': 433, '456': 434, '457': 435, '458': 436, '459': 437, '460': 438, '461': 439, '463': 440, '464': 441, '465': 442, '466': 443, '467': 444, '468': 445, '469': 446, '470': 447, '373': 448, '450': 449, '472': 450, '453': 451, '474': 452, '475': 453, '454': 454, '477': 455, '481': 456, '482': 457, '483': 458, '484': 459, '487': 460, '488': 461, '384': 462, '490': 463, '388': 464, '389': 465, '492': 466, '493': 467, '392': 468, '497': 469, '498': 470, '499': 471, '501': 472, '503': 473, '504': 474, '505': 475, '506': 476, '507': 477, '508': 478, '510': 479, '471': 480, '511': 481, '397': 482, '403': 483, '512': 484, '476': 485, '513': 486, '480': 487, '516': 488, '517': 489, '406': 490, '485': 491, '520': 492, '405': 493, '489': 494, '491': 495, '522': 496, '523': 497, '525': 498, '526': 499, '527': 500, '496': 501, '531': 502, '533': 503, '534': 504, '500': 505, '535': 506, '536': 507, '537': 508, '541': 509, '542': 510, '543': 511, '544': 512, '545': 513, '547': 514, '514': 515, '549': 516, '550': 517, '515': 518, '551': 519, '552': 520, '554': 521, '555': 522, '556': 523, '557': 524, '558': 525, '521': 526, '561': 527, '563': 528, '564': 529, '565': 530, '567': 531, '528': 532, '568': 533, '569': 534, '570': 535, '529': 536, '571': 537, '530': 538, '444': 539, '572': 540, '446': 541, '532': 542, '573': 543, '575': 544, '576': 545, '578': 546, '447': 547, '580': 548, '581': 549, '582': 550, '452': 551, '538': 552, '584': 553, '585': 554, '586': 555, '587': 556, '539': 557, '588': 558, '540': 559, '591': 560, '546': 561, '592': 562, '593': 563, '595': 564, '597': 565, '598': 566, '599': 567, '600': 568, '601': 569, '462': 570, '553': 571, '473': 572, '602': 573, '603': 574, '606': 575, '609': 576, '611': 577, '615': 578, '478': 579, '559': 580, '479': 581, '617': 582, '619': 583, '620': 584, '562': 585, '621': 586, '622': 587, '486': 588, '626': 589, '627': 590, '629': 591, '630': 592, '574': 593, '631': 594, '632': 595, '634': 596, '577': 597, '636': 598, '579': 599, '637': 600, '638': 601, '640': 602, '502': 603, '642': 604, '509': 605, '645': 606, '646': 607, '648': 608, '649': 609, '652': 610, '594': 611, '494': 612, '654': 613, '596': 614, '656': 615, '657': 616, '658': 617, '659': 618, '660': 619, '663': 620, '665': 621, '666': 622, '667': 623, '668': 624, '669': 625, '670': 626, '672': 627, '673': 628, '607': 629, '674': 630, '610': 631, '524': 632, '676': 633, '677': 634, '613': 635, '681': 636, '518': 637, '519': 638, '684': 639, '623': 640, '624': 641, '686': 642, '687': 643, '688': 644, '690': 645, '691': 646, '692': 647, '693': 648, '633': 649, '635': 650, '694': 651, '696': 652, '697': 653, '698': 654, '699': 655, '641': 656, '643': 657, '700': 658, '701': 659, '702': 660, '703': 661, '548': 662, '704': 663, '234': 664, '705': 665, '706': 666, '707': 667, '647': 668, '708': 669, '709': 670, '710': 671, '560': 672, '711': 673, '712': 674, '655': 675, '717': 676, '718': 677, '719': 678, '720': 679, '722': 680, '723': 681, '661': 682, '662': 683, '725': 684, '566': 685, '664': 686, '727': 687, '729': 688, '731': 689, '732': 690, '733': 691, '735': 692, '737': 693, '738': 694, '583': 695, '739': 696, '740': 697, '741': 698, '742': 699, '743': 700, '675': 701, '745': 702, '589': 703, '678': 704, '747': 705, '680': 706, '748': 707, '749': 708, '682': 709, '752': 710, '753': 711, '754': 712, '755': 713, '757': 714, '689': 715, '761': 716, '762': 717, '763': 718, '767': 719, '768': 720, '769': 721, '770': 722, '604': 723, '612': 724, '605': 725, '614': 726, '616': 727, '608': 728, '774': 729, '775': 730, '776': 731, '618': 732, '777': 733, '778': 734, '713': 735, '714': 736, '780': 737, '716': 738, '782': 739, '783': 740, '784': 741, '786': 742, '787': 743, '790': 744, '625': 745, '793': 746, '794': 747, '795': 748, '796': 749, '726': 750, '797': 751, '798': 752, '799': 753, '800': 754, '801': 755, '804': 756, '639': 757, '736': 758, '806': 759, '808': 760, '810': 761, '811': 762, '644': 763, '812': 764, '814': 765, '746': 766, '817': 767, '650': 768, '818': 769, '819': 770, '751': 771, '651': 772, '653': 773, '822': 774, '823': 775, '756': 776, '825': 777, '826': 778, '758': 779, '827': 780, '829': 781, '759': 782, '760': 783, '832': 784, '833': 785, '764': 786, '765': 787, '836': 788, '838': 789, '766': 790, '671': 791, '771': 792, '839': 793, '772': 794, '841': 795, '842': 796, '773': 797, '843': 798, '679': 799, '846': 800, '847': 801, '851': 802, '852': 803, '683': 804, '853': 805, '781': 806, '685': 807, '855': 808, '856': 809, '857': 810, '858': 811, '859': 812, '860': 813, '861': 814, '862': 815, '789': 816, '865': 817, '867': 818, '868': 819, '869': 820, '872': 821, '873': 822, '791': 823, '875': 824, '877': 825, '695': 826, '879': 827, '880': 828, '881': 829, '883': 830, '884': 831, '890': 832, '803': 833, '893': 834, '805': 835, '807': 836, '894': 837, '813': 838, '815': 839, '816': 840, '895': 841, '896': 842, '898': 843, '899': 844, '900': 845, '820': 846, '821': 847, '901': 848, '902': 849, '903': 850, '904': 851, '905': 852, '715': 853, '724': 854, '830': 855, '831': 856, '906': 857, '721': 858, '835': 859, '728': 860, '730': 861, '910': 862, '911': 863, '912': 864, '913': 865, '914': 866, '916': 867, '917': 868, '918': 869, '919': 870, '734': 871, '920': 872, '921': 873, '922': 874, '845': 875, '924': 876, '294': 877, '926': 878, '848': 879, '849': 880, '929': 881, '850': 882, '930': 883, '933': 884, '934': 885, '935': 886, '936': 887, '744': 888, '937': 889, '286': 890, '854': 891, '939': 892, '940': 893, '941': 894, '942': 895, '943': 896, '750': 897, '945': 898, '864': 899, '866': 900, '870': 901, '871': 902, '947': 903, '874': 904, '876': 905, '948': 906, '950': 907, '951': 908, '952': 909, '878': 910, '882': 911, '955': 912, '957': 913, '958': 914, '959': 915, '885': 916, '887': 917, '888': 918, '889': 919, '961': 920, '964': 921, '965': 922, '966': 923, '897': 924, '968': 925, '969': 926, '971': 927, '972': 928, '779': 929, '974': 930, '975': 931, '977': 932, '785': 933, '788': 934, '907': 935, '979': 936, '980': 937, '981': 938, '982': 939, '983': 940, '984': 941, '915': 942, '986': 943, '792': 944, '990': 945, '925': 946, '927': 947, '931': 948, '991': 949, '932': 950, '992': 951, '993': 952, '994': 953, '995': 954, '997': 955, '998': 956, '999': 957, '1000': 958, '1001': 959, '802': 960, '1002': 961, '1004': 962, '1005': 963, '938': 964, '1006': 965, '1007': 966, '1008': 967, '1009': 968, '1010': 969, '809': 970, '1015': 971, '946': 972, '1016': 973, '1018': 974, '949': 975, '1019': 976, '1020': 977, '1021': 978, '953': 979, '1022': 980, '1023': 981, '954': 982, '956': 983, '1024': 984, '824': 985, '1026': 986, '1028': 987, '963': 988, '1030': 989, '1033': 990, '967': 991, '970': 992, '1036': 993, '973': 994, '1038': 995, '1039': 996, '834': 997, '1044': 998, '837': 999, '1045': 1000, '828': 1001, '1046': 1002, '840': 1003, '1050': 1004, '1051': 1005, '1052': 1006, '844': 1007, '1054': 1008, '988': 1009, '989': 1010, '1056': 1011, '1057': 1012, '1058': 1013, '1059': 1014, '1060': 1015, '1061': 1016, '1062': 1017, '1063': 1018, '332': 1019, '1064': 1020, '1065': 1021, '1003': 1022, '1067': 1023, '1070': 1024, '1071': 1025, '1012': 1026, '1073': 1027, '1013': 1028, '1075': 1029, '1076': 1030, '1077': 1031, '1078': 1032, '1014': 1033, '1079': 1034, '1080': 1035, '1081': 1036, '1083': 1037, '863': 1038, '1084': 1039, '1085': 1040, '1086': 1041, '1087': 1042, '1090': 1043, '1091': 1044, '1092': 1045, '1094': 1046, '1095': 1047, '1098': 1048, '1099': 1049, '1100': 1050, '1101': 1051, '1102': 1052, '1029': 1053, '1104': 1054, '1105': 1055, '1106': 1056, '1032': 1057, '1109': 1058, '1034': 1059, '1111': 1060, '1035': 1061, '1112': 1062, '1113': 1063, '1114': 1064, '1116': 1065, '1117': 1066, '1037': 1067, '1118': 1068, '1121': 1069, '1123': 1070, '1041': 1071, '1124': 1072, '1125': 1073, '1126': 1074, '1127': 1075, '1129': 1076, '1131': 1077, '1132': 1078, '1047': 1079, '1134': 1080, '1048': 1081, '1135': 1082, '1136': 1083, '1137': 1084, '1053': 1085, '1140': 1086, '1055': 1087, '1141': 1088, '891': 1089, '886': 1090, '1143': 1091, '1144': 1092, '1145': 1093, '1146': 1094, '1147': 1095, '1149': 1096, '1150': 1097, '1153': 1098, '1154': 1099, '1155': 1100, '1156': 1101, '892': 1102, '1158': 1103, '1159': 1104, '1160': 1105, '1161': 1106, '1163': 1107, '1069': 1108, '1164': 1109, '1072': 1110, '908': 1111, '1166': 1112, '1168': 1113, '1169': 1114, '1171': 1115, '1172': 1116, '1175': 1117, '1179': 1118, '1180': 1119, '1088': 1120, '923': 1121, '1183': 1122, '1093': 1123, '928': 1124, '1185': 1125, '1186': 1126, '1187': 1127, '1188': 1128, '1189': 1129, '1096': 1130, '1192': 1131, '1194': 1132, '1195': 1133, '1197': 1134, '1199': 1135, '1200': 1136, '1201': 1137, '1107': 1138, '1108': 1139, '1203': 1140, '1204': 1141, '1205': 1142, '944': 1143, '1206': 1144, '1115': 1145, '1208': 1146, '1209': 1147, '1210': 1148, '1212': 1149, '1120': 1150, '1213': 1151, '1122': 1152, '1214': 1153, '1216': 1154, '1217': 1155, '1218': 1156, '1220': 1157, '1221': 1158, '960': 1159, '382': 1160, '1223': 1161, '1224': 1162, '1225': 1163, '962': 1164, '1133': 1165, '1228': 1166, '1229': 1167, '1230': 1168, '1138': 1169, '1139': 1170, '1233': 1171, '1234': 1172, '1235': 1173, '1236': 1174, '1238': 1175, '1239': 1176, '1242': 1177, '1243': 1178, '1245': 1179, '1246': 1180, '1247': 1181, '976': 1182, '1148': 1183, '1248': 1184, '1249': 1185, '978': 1186, '985': 1187, '1151': 1188, '1253': 1189, '1254': 1190, '987': 1191, '1257': 1192, '1259': 1193, '1260': 1194, '1162': 1195, '1261': 1196, '1165': 1197, '1263': 1198, '1264': 1199, '1167': 1200, '1266': 1201, '1267': 1202, '1268': 1203, '1270': 1204, '1170': 1205, '1272': 1206, '1173': 1207, '1174': 1208, '1176': 1209, '1177': 1210, '1178': 1211, '996': 1212, '1181': 1213, '1274': 1214, '1275': 1215, '1278': 1216, '1279': 1217, '1280': 1218, '1282': 1219, '1283': 1220, '1284': 1221, '1190': 1222, '1191': 1223, '1286': 1224, '1287': 1225, '1196': 1226, '1198': 1227, '1011': 1228, '1289': 1229, '1293': 1230, '1294': 1231, '1296': 1232, '1202': 1233, '1297': 1234, '1301': 1235, '1303': 1236, '1304': 1237, '1305': 1238, '1017': 1239, '1025': 1240, '1307': 1241, '1308': 1242, '1309': 1243, '1027': 1244, '1312': 1245, '1313': 1246, '1314': 1247, '1315': 1248, '1316': 1249, '1031': 1250, '1215': 1251, '1318': 1252, '1319': 1253, '1320': 1254, '1322': 1255, '1323': 1256, '1328': 1257, '1040': 1258, '1329': 1259, '1330': 1260, '1331': 1261, '1334': 1262, '1043': 1263, '1231': 1264, '1336': 1265, '1337': 1266, '1232': 1267, '1338': 1268, '1339': 1269, '1340': 1270, '1237': 1271, '1343': 1272, '1049': 1273, '1344': 1274, '1240': 1275, '1347': 1276, '1348': 1277, '1244': 1278, '1350': 1279, '436': 1280, '1356': 1281, '1250': 1282, '1358': 1283, '1251': 1284, '1360': 1285, '1362': 1286, '1363': 1287, '1364': 1288, '1255': 1289, '1365': 1290, '1366': 1291, '1068': 1292, '1256': 1293, '1066': 1294, '1262': 1295, '1370': 1296, '1074': 1297, '1372': 1298, '1265': 1299, '1374': 1300, '1375': 1301, '1377': 1302, '1378': 1303, '1379': 1304, '1381': 1305, '1271': 1306, '1273': 1307, '1383': 1308, '1384': 1309, '1385': 1310, '1089': 1311, '1387': 1312, '1388': 1313, '1082': 1314, '1390': 1315, '1393': 1316, '1395': 1317, '1396': 1318, '1397': 1319, '1097': 1320, '1399': 1321, '1400': 1322, '1290': 1323, '1402': 1324, '1292': 1325, '1403': 1326, '1404': 1327, '1405': 1328, '1295': 1329, '1407': 1330, '1408': 1331, '1409': 1332, '1299': 1333, '1300': 1334, '1410': 1335, '1411': 1336, '1103': 1337, '1412': 1338, '1414': 1339, '1416': 1340, '1417': 1341, '1418': 1342, '1419': 1343, '1420': 1344, '1306': 1345, '1421': 1346, '1422': 1347, '1424': 1348, '1310': 1349, '1311': 1350, '1427': 1351, '1428': 1352, '1119': 1353, '1430': 1354, '1317': 1355, '1321': 1356, '1431': 1357, '1432': 1358, '1324': 1359, '1325': 1360, '1433': 1361, '1435': 1362, '1128': 1363, '1130': 1364, '1436': 1365, '1326': 1366, '1439': 1367, '1444': 1368, '1446': 1369, '1447': 1370, '1332': 1371, '1450': 1372, '1452': 1373, '1453': 1374, '1454': 1375, '1142': 1376, '1455': 1377, '1457': 1378, '1458': 1379, '1459': 1380, '1341': 1381, '1461': 1382, '1152': 1383, '1462': 1384, '1463': 1385, '1346': 1386, '1464': 1387, '1351': 1388, '1352': 1389, '1353': 1390, '1354': 1391, '1355': 1392, '1466': 1393, '1467': 1394, '1468': 1395, '1469': 1396, '1470': 1397, '1471': 1398, '1473': 1399, '1357': 1400, '1359': 1401, '1361': 1402, '1475': 1403, '1476': 1404, '1368': 1405, '1479': 1406, '1371': 1407, '1482': 1408, '1485': 1409, '1486': 1410, '1380': 1411, '1488': 1412, '1490': 1413, '1382': 1414, '1386': 1415, '1492': 1416, '1493': 1417, '1389': 1418, '1494': 1419, '1495': 1420, '1497': 1421, '1391': 1422, '1499': 1423, '1392': 1424, '1501': 1425, '1502': 1426, '1503': 1427, '1398': 1428, '1506': 1429, '1507': 1430, '1184': 1431, '1508': 1432, '1509': 1433, '1510': 1434, '1511': 1435, '1512': 1436, '1513': 1437, '1514': 1438, '1517': 1439, '1518': 1440, '1519': 1441, '1520': 1442, '1413': 1443, '1522': 1444, '1523': 1445, '1525': 1446, '1526': 1447, '1527': 1448, '1193': 1449, '1531': 1450, '1533': 1451, '1534': 1452, '1535': 1453, '1423': 1454, '495': 1455, '1539': 1456, '1540': 1457, '1541': 1458, '1211': 1459, '1543': 1460, '1207': 1461, '1426': 1462, '1545': 1463, '1546': 1464, '1429': 1465, '1550': 1466, '1551': 1467, '1552': 1468, '1553': 1469, '1554': 1470, '1434': 1471, '1555': 1472, '1437': 1473, '1557': 1474, '1559': 1475, '1560': 1476, '1219': 1477, '1561': 1478, '1562': 1479, '1440': 1480, '1442': 1481, '1564': 1482, '1569': 1483, '1445': 1484, '1570': 1485, '1227': 1486, '1571': 1487, '1572': 1488, '1574': 1489, '1451': 1490, '1579': 1491, '1583': 1492, '1584': 1493, '1585': 1494, '1226': 1495, '1586': 1496, '1241': 1497, '1591': 1498, '1465': 1499, '1596': 1500, '1597': 1501, '1598': 1502, '1599': 1503, '1601': 1504, '1602': 1505, '1603': 1506, '1604': 1507, '1605': 1508, '1606': 1509, '1472': 1510, '1609': 1511, '1252': 1512, '1477': 1513, '1611': 1514, '1480': 1515, '1612': 1516, '1613': 1517, '1484': 1518, '1258': 1519, '1614': 1520, '1487': 1521, '1615': 1522, '1616': 1523, '1489': 1524, '1491': 1525, '1617': 1526, '1620': 1527, '1621': 1528, '1622': 1529, '1496': 1530, '1624': 1531, '1626': 1532, '1269': 1533, '1500': 1534, '1627': 1535, '1629': 1536, '1630': 1537, '1504': 1538, '1505': 1539, '1633': 1540, '1634': 1541, '1636': 1542, '1276': 1543, '1638': 1544, '1277': 1545, '1639': 1546, '1640': 1547, '1281': 1548, '1515': 1549, '1642': 1550, '1644': 1551, '1521': 1552, '1645': 1553, '1646': 1554, '1288': 1555, '1285': 1556, '1648': 1557, '1652': 1558, '1653': 1559, '1654': 1560, '1655': 1561, '1657': 1562, '1659': 1563, '1528': 1564, '1529': 1565, '1532': 1566, '1660': 1567, '1661': 1568, '1298': 1569, '1536': 1570, '1537': 1571, '1538': 1572, '1302': 1573, '1663': 1574, '1664': 1575, '1544': 1576, '1666': 1577, '1547': 1578, '1667': 1579, '1548': 1580, '1668': 1581, '1669': 1582, '1549': 1583, '1670': 1584, '1671': 1585, '1672': 1586, '1674': 1587, '1675': 1588, '1677': 1589, '1678': 1590, '1681': 1591, '1682': 1592, '1683': 1593, '1558': 1594, '1686': 1595, '1687': 1596, '1688': 1597, '1690': 1598, '1566': 1599, '1567': 1600, '1693': 1601, '1695': 1602, '1333': 1603, '1335': 1604, '1696': 1605, '1697': 1606, '1327': 1607, '1575': 1608, '1576': 1609, '1577': 1610, '1578': 1611, '1699': 1612, '1700': 1613, '1342': 1614, '1582': 1615, '1345': 1616, '1701': 1617, '1702': 1618, '1587': 1619, '1588': 1620, '1349': 1621, '1703': 1622, '1704': 1623, '1705': 1624, '1592': 1625, '1593': 1626, '1594': 1627, '1595': 1628, '1709': 1629, '1710': 1630, '1711': 1631, '1712': 1632, '1713': 1633, '1600': 1634, '1716': 1635, '1717': 1636, '1718': 1637, '1720': 1638, '1721': 1639, '1607': 1640, '1608': 1641, '1367': 1642, '1722': 1643, '1369': 1644, '1724': 1645, '1610': 1646, '1725': 1647, '1373': 1648, '1726': 1649, '1618': 1650, '1619': 1651, '1376': 1652, '1729': 1653, '1733': 1654, '1734': 1655, '1625': 1656, '1628': 1657, '1736': 1658, '1737': 1659, '1632': 1660, '1738': 1661, '1635': 1662, '1740': 1663, '1743': 1664, '1744': 1665, '1746': 1666, '1747': 1667, '1637': 1668, '1748': 1669, '1750': 1670, '1751': 1671, '1643': 1672, '1647': 1673, '1753': 1674, '1755': 1675, '1756': 1676, '1758': 1677, '1651': 1678, '1763': 1679, '1394': 1680, '1765': 1681, '1658': 1682, '1766': 1683, '1767': 1684, '1768': 1685, '1770': 1686, '1665': 1687, '1772': 1688, '1773': 1689, '1774': 1690, '1775': 1691, '1776': 1692, '1779': 1693, '1780': 1694, '1673': 1695, '1781': 1696, '1676': 1697, '1783': 1698, '1406': 1699, '1784': 1700, '1786': 1701, '1787': 1702, '1679': 1703, '1788': 1704, '1680': 1705, '1684': 1706, '1789': 1707, '1685': 1708, '1792': 1709, '1793': 1710, '1689': 1711, '1794': 1712, '1797': 1713, '1798': 1714, '1691': 1715, '1799': 1716, '1800': 1717, '1802': 1718, '1804': 1719, '1694': 1720, '1805': 1721, '1807': 1722, '1808': 1723, '1415': 1724, '1810': 1725, '1812': 1726, '1706': 1727, '1707': 1728, '1815': 1729, '1708': 1730, '1816': 1731, '1817': 1732, '1818': 1733, '1819': 1734, '1820': 1735, '1715': 1736, '1425': 1737, '1821': 1738, '1822': 1739, '1823': 1740, '1824': 1741, '1825': 1742, '1826': 1743, '1828': 1744, '1829': 1745, '1719': 1746, '1438': 1747, '1830': 1748, '1831': 1749, '1832': 1750, '1441': 1751, '1723': 1752, '1448': 1753, '1449': 1754, '1727': 1755, '1834': 1756, '1731': 1757, '1837': 1758, '1838': 1759, '1839': 1760, '1735': 1761, '1456': 1762, '1840': 1763, '1841': 1764, '1739': 1765, '1842': 1766, '590': 1767, '1741': 1768, '1844': 1769, '1742': 1770, '1745': 1771, '1846': 1772, '1460': 1773, '1749': 1774, '1847': 1775, '1848': 1776, '1752': 1777, '1853': 1778, '1754': 1779, '1855': 1780, '1856': 1781, '1857': 1782, '1858': 1783, '1863': 1784, '1864': 1785, '1865': 1786, '1761': 1787, '1866': 1788, '1867': 1789, '1868': 1790, '1483': 1791, '1870': 1792, '1871': 1793, '1872': 1794, '1873': 1795, '1474': 1796, '1769': 1797, '1875': 1798, '1771': 1799, '1478': 1800, '1876': 1801, '1877': 1802, '1878': 1803, '1481': 1804, '1777': 1805, '1778': 1806, '1880': 1807, '1782': 1808, '1884': 1809, '353': 1810, '1886': 1811, '1498': 1812, '1888': 1813, '1891': 1814, '1892': 1815, '1893': 1816, '1894': 1817}\n",
            "{'P': 0, 'S': 1, nan: 2}\n"
          ]
        }
      ]
    },
    {
      "cell_type": "code",
      "source": [
        "test_df.isnull().sum()"
      ],
      "metadata": {
        "colab": {
          "base_uri": "https://localhost:8080/"
        },
        "id": "Jzdy48Kycsnb",
        "outputId": "990d5a70-ae29-4625-ee7d-e0246dd052a8"
      },
      "execution_count": 394,
      "outputs": [
        {
          "output_type": "execute_result",
          "data": {
            "text/plain": [
              "PassengerId              0\n",
              "HomePlanet              87\n",
              "CryoSleep                0\n",
              "Cabin                  100\n",
              "Destination             92\n",
              "Age                      0\n",
              "VIP                      0\n",
              "RoomService              0\n",
              "FoodCourt                0\n",
              "ShoppingMall             0\n",
              "Spa                      0\n",
              "VRDeck                   0\n",
              "Name                    94\n",
              "cabin_deck             100\n",
              "cabin_num              100\n",
              "cabin_side             100\n",
              "passenger_Id             0\n",
              "family_member_no         0\n",
              "total_spend              0\n",
              "HomePlanet_numeric       0\n",
              "Destination_numeric      0\n",
              "cabin_deck_numeric       0\n",
              "cabin_num_numeric        0\n",
              "cabin_side_numeric       0\n",
              "dtype: int64"
            ]
          },
          "metadata": {},
          "execution_count": 394
        }
      ]
    },
    {
      "cell_type": "markdown",
      "source": [
        "change bool col to num"
      ],
      "metadata": {
        "id": "VKx7nqwypx06"
      }
    },
    {
      "cell_type": "code",
      "source": [
        "train_df[['CryoSleep','VIP','Transported']] = train_df[['CryoSleep','VIP','Transported']].astype('int')\n",
        "test_df[['CryoSleep','VIP']] = test_df[['CryoSleep','VIP']].astype('int')"
      ],
      "metadata": {
        "id": "Mpw1OkogEIGR"
      },
      "execution_count": 393,
      "outputs": []
    },
    {
      "cell_type": "markdown",
      "source": [
        "# Splitting to train and test and  Standard Scaler"
      ],
      "metadata": {
        "id": "ljA-PIuvphfl"
      }
    },
    {
      "cell_type": "code",
      "source": [
        "train_x = train_df[test_df.dtypes[test_df.dtypes!=object].index].copy()\n",
        "train_y = train_df['Transported'].copy()"
      ],
      "metadata": {
        "id": "3bqTE-j3lP_H"
      },
      "execution_count": 395,
      "outputs": []
    },
    {
      "cell_type": "code",
      "source": [
        "submission_x = test_df[test_df.dtypes[test_df.dtypes!=object].index].copy()"
      ],
      "metadata": {
        "id": "QmhdcJDjleqj"
      },
      "execution_count": 396,
      "outputs": []
    },
    {
      "cell_type": "code",
      "source": [
        "scaler = StandardScaler()\n",
        "scaler_cols = ['Age','RoomService','FoodCourt','ShoppingMall','Spa','VRDeck','total_spend']\n",
        "train_x[scaler_cols] = scaler.fit_transform(train_x[scaler_cols])\n",
        "submission_x[scaler_cols] = scaler.fit_transform(submission_x[scaler_cols])"
      ],
      "metadata": {
        "id": "aq00mJfkjb02"
      },
      "execution_count": 397,
      "outputs": []
    },
    {
      "cell_type": "code",
      "source": [
        "x_train,x_test,y_train,y_test = train_test_split(train_x,train_y,test_size = .30,random_state= 45)"
      ],
      "metadata": {
        "id": "nzb2kvkvt90f"
      },
      "execution_count": 398,
      "outputs": []
    },
    {
      "cell_type": "markdown",
      "source": [
        "# Model Building"
      ],
      "metadata": {
        "id": "8J7j-KZuqekB"
      }
    },
    {
      "cell_type": "markdown",
      "source": [
        "First step here is to see how various different models perform with default parameters. Going with the following models using 5 fold cross validation to get a baseline. With a validation set baseline, we can see how much tuning improves each of the models"
      ],
      "metadata": {
        "id": "54IuiAp4qo1d"
      }
    },
    {
      "cell_type": "code",
      "source": [
        "clf = LazyClassifier(verbose = 0,\n",
        "                     ignore_warnings = True,\n",
        "                     custom_metric = None,\n",
        "                     predictions = False,\n",
        "                     random_state = 12,\n",
        "                     classifiers = 'all')\n",
        "models, predictions = clf.fit(x_train, x_test, y_train, y_test)\n",
        "models"
      ],
      "metadata": {
        "colab": {
          "base_uri": "https://localhost:8080/",
          "height": 945
        },
        "id": "LX0osVA0qdgv",
        "outputId": "04ac028e-d4e0-4936-defc-ea98d6b4cf2f"
      },
      "execution_count": 437,
      "outputs": [
        {
          "output_type": "stream",
          "name": "stderr",
          "text": [
            "100%|██████████| 29/29 [00:17<00:00,  1.63it/s]\n"
          ]
        },
        {
          "output_type": "execute_result",
          "data": {
            "text/plain": [
              "                               Accuracy  Balanced Accuracy  ROC AUC  F1 Score  \\\n",
              "Model                                                                           \n",
              "RandomForestClassifier             0.82               0.82     0.82      0.82   \n",
              "LGBMClassifier                     0.81               0.81     0.81      0.81   \n",
              "SVC                                0.81               0.81     0.81      0.81   \n",
              "ExtraTreesClassifier               0.81               0.81     0.81      0.81   \n",
              "NuSVC                              0.81               0.81     0.81      0.81   \n",
              "XGBClassifier                      0.81               0.81     0.81      0.81   \n",
              "LogisticRegression                 0.80               0.80     0.80      0.80   \n",
              "CalibratedClassifierCV             0.80               0.80     0.80      0.80   \n",
              "LinearSVC                          0.80               0.80     0.80      0.80   \n",
              "AdaBoostClassifier                 0.80               0.80     0.80      0.80   \n",
              "SGDClassifier                      0.80               0.80     0.80      0.80   \n",
              "BaggingClassifier                  0.80               0.80     0.80      0.80   \n",
              "KNeighborsClassifier               0.79               0.79     0.79      0.79   \n",
              "LinearDiscriminantAnalysis         0.78               0.78     0.78      0.78   \n",
              "RidgeClassifier                    0.78               0.78     0.78      0.78   \n",
              "RidgeClassifierCV                  0.78               0.78     0.78      0.78   \n",
              "BernoulliNB                        0.75               0.75     0.75      0.75   \n",
              "DecisionTreeClassifier             0.75               0.75     0.75      0.75   \n",
              "LabelSpreading                     0.75               0.75     0.75      0.75   \n",
              "NearestCentroid                    0.75               0.75     0.75      0.75   \n",
              "LabelPropagation                   0.75               0.75     0.75      0.75   \n",
              "ExtraTreeClassifier                0.72               0.72     0.72      0.72   \n",
              "Perceptron                         0.71               0.71     0.71      0.71   \n",
              "PassiveAggressiveClassifier        0.69               0.69     0.69      0.69   \n",
              "QuadraticDiscriminantAnalysis      0.69               0.69     0.69      0.67   \n",
              "GaussianNB                         0.68               0.69     0.69      0.66   \n",
              "DummyClassifier                    0.49               0.50     0.50      0.32   \n",
              "\n",
              "                               Time Taken  \n",
              "Model                                      \n",
              "RandomForestClassifier               0.95  \n",
              "LGBMClassifier                       0.27  \n",
              "SVC                                  1.97  \n",
              "ExtraTreesClassifier                 0.71  \n",
              "NuSVC                                2.50  \n",
              "XGBClassifier                        0.84  \n",
              "LogisticRegression                   0.05  \n",
              "CalibratedClassifierCV               2.19  \n",
              "LinearSVC                            0.59  \n",
              "AdaBoostClassifier                   0.38  \n",
              "SGDClassifier                        0.09  \n",
              "BaggingClassifier                    0.29  \n",
              "KNeighborsClassifier                 0.37  \n",
              "LinearDiscriminantAnalysis           0.06  \n",
              "RidgeClassifier                      0.05  \n",
              "RidgeClassifierCV                    0.04  \n",
              "BernoulliNB                          0.04  \n",
              "DecisionTreeClassifier               0.08  \n",
              "LabelSpreading                       3.37  \n",
              "NearestCentroid                      0.03  \n",
              "LabelPropagation                     2.63  \n",
              "ExtraTreeClassifier                  0.02  \n",
              "Perceptron                           0.04  \n",
              "PassiveAggressiveClassifier          0.04  \n",
              "QuadraticDiscriminantAnalysis        0.03  \n",
              "GaussianNB                           0.03  \n",
              "DummyClassifier                      0.02  "
            ],
            "text/html": [
              "\n",
              "  <div id=\"df-9b807ed2-50d9-43f9-9114-253dc17b3b7c\">\n",
              "    <div class=\"colab-df-container\">\n",
              "      <div>\n",
              "<style scoped>\n",
              "    .dataframe tbody tr th:only-of-type {\n",
              "        vertical-align: middle;\n",
              "    }\n",
              "\n",
              "    .dataframe tbody tr th {\n",
              "        vertical-align: top;\n",
              "    }\n",
              "\n",
              "    .dataframe thead th {\n",
              "        text-align: right;\n",
              "    }\n",
              "</style>\n",
              "<table border=\"1\" class=\"dataframe\">\n",
              "  <thead>\n",
              "    <tr style=\"text-align: right;\">\n",
              "      <th></th>\n",
              "      <th>Accuracy</th>\n",
              "      <th>Balanced Accuracy</th>\n",
              "      <th>ROC AUC</th>\n",
              "      <th>F1 Score</th>\n",
              "      <th>Time Taken</th>\n",
              "    </tr>\n",
              "    <tr>\n",
              "      <th>Model</th>\n",
              "      <th></th>\n",
              "      <th></th>\n",
              "      <th></th>\n",
              "      <th></th>\n",
              "      <th></th>\n",
              "    </tr>\n",
              "  </thead>\n",
              "  <tbody>\n",
              "    <tr>\n",
              "      <th>RandomForestClassifier</th>\n",
              "      <td>0.82</td>\n",
              "      <td>0.82</td>\n",
              "      <td>0.82</td>\n",
              "      <td>0.82</td>\n",
              "      <td>0.95</td>\n",
              "    </tr>\n",
              "    <tr>\n",
              "      <th>LGBMClassifier</th>\n",
              "      <td>0.81</td>\n",
              "      <td>0.81</td>\n",
              "      <td>0.81</td>\n",
              "      <td>0.81</td>\n",
              "      <td>0.27</td>\n",
              "    </tr>\n",
              "    <tr>\n",
              "      <th>SVC</th>\n",
              "      <td>0.81</td>\n",
              "      <td>0.81</td>\n",
              "      <td>0.81</td>\n",
              "      <td>0.81</td>\n",
              "      <td>1.97</td>\n",
              "    </tr>\n",
              "    <tr>\n",
              "      <th>ExtraTreesClassifier</th>\n",
              "      <td>0.81</td>\n",
              "      <td>0.81</td>\n",
              "      <td>0.81</td>\n",
              "      <td>0.81</td>\n",
              "      <td>0.71</td>\n",
              "    </tr>\n",
              "    <tr>\n",
              "      <th>NuSVC</th>\n",
              "      <td>0.81</td>\n",
              "      <td>0.81</td>\n",
              "      <td>0.81</td>\n",
              "      <td>0.81</td>\n",
              "      <td>2.50</td>\n",
              "    </tr>\n",
              "    <tr>\n",
              "      <th>XGBClassifier</th>\n",
              "      <td>0.81</td>\n",
              "      <td>0.81</td>\n",
              "      <td>0.81</td>\n",
              "      <td>0.81</td>\n",
              "      <td>0.84</td>\n",
              "    </tr>\n",
              "    <tr>\n",
              "      <th>LogisticRegression</th>\n",
              "      <td>0.80</td>\n",
              "      <td>0.80</td>\n",
              "      <td>0.80</td>\n",
              "      <td>0.80</td>\n",
              "      <td>0.05</td>\n",
              "    </tr>\n",
              "    <tr>\n",
              "      <th>CalibratedClassifierCV</th>\n",
              "      <td>0.80</td>\n",
              "      <td>0.80</td>\n",
              "      <td>0.80</td>\n",
              "      <td>0.80</td>\n",
              "      <td>2.19</td>\n",
              "    </tr>\n",
              "    <tr>\n",
              "      <th>LinearSVC</th>\n",
              "      <td>0.80</td>\n",
              "      <td>0.80</td>\n",
              "      <td>0.80</td>\n",
              "      <td>0.80</td>\n",
              "      <td>0.59</td>\n",
              "    </tr>\n",
              "    <tr>\n",
              "      <th>AdaBoostClassifier</th>\n",
              "      <td>0.80</td>\n",
              "      <td>0.80</td>\n",
              "      <td>0.80</td>\n",
              "      <td>0.80</td>\n",
              "      <td>0.38</td>\n",
              "    </tr>\n",
              "    <tr>\n",
              "      <th>SGDClassifier</th>\n",
              "      <td>0.80</td>\n",
              "      <td>0.80</td>\n",
              "      <td>0.80</td>\n",
              "      <td>0.80</td>\n",
              "      <td>0.09</td>\n",
              "    </tr>\n",
              "    <tr>\n",
              "      <th>BaggingClassifier</th>\n",
              "      <td>0.80</td>\n",
              "      <td>0.80</td>\n",
              "      <td>0.80</td>\n",
              "      <td>0.80</td>\n",
              "      <td>0.29</td>\n",
              "    </tr>\n",
              "    <tr>\n",
              "      <th>KNeighborsClassifier</th>\n",
              "      <td>0.79</td>\n",
              "      <td>0.79</td>\n",
              "      <td>0.79</td>\n",
              "      <td>0.79</td>\n",
              "      <td>0.37</td>\n",
              "    </tr>\n",
              "    <tr>\n",
              "      <th>LinearDiscriminantAnalysis</th>\n",
              "      <td>0.78</td>\n",
              "      <td>0.78</td>\n",
              "      <td>0.78</td>\n",
              "      <td>0.78</td>\n",
              "      <td>0.06</td>\n",
              "    </tr>\n",
              "    <tr>\n",
              "      <th>RidgeClassifier</th>\n",
              "      <td>0.78</td>\n",
              "      <td>0.78</td>\n",
              "      <td>0.78</td>\n",
              "      <td>0.78</td>\n",
              "      <td>0.05</td>\n",
              "    </tr>\n",
              "    <tr>\n",
              "      <th>RidgeClassifierCV</th>\n",
              "      <td>0.78</td>\n",
              "      <td>0.78</td>\n",
              "      <td>0.78</td>\n",
              "      <td>0.78</td>\n",
              "      <td>0.04</td>\n",
              "    </tr>\n",
              "    <tr>\n",
              "      <th>BernoulliNB</th>\n",
              "      <td>0.75</td>\n",
              "      <td>0.75</td>\n",
              "      <td>0.75</td>\n",
              "      <td>0.75</td>\n",
              "      <td>0.04</td>\n",
              "    </tr>\n",
              "    <tr>\n",
              "      <th>DecisionTreeClassifier</th>\n",
              "      <td>0.75</td>\n",
              "      <td>0.75</td>\n",
              "      <td>0.75</td>\n",
              "      <td>0.75</td>\n",
              "      <td>0.08</td>\n",
              "    </tr>\n",
              "    <tr>\n",
              "      <th>LabelSpreading</th>\n",
              "      <td>0.75</td>\n",
              "      <td>0.75</td>\n",
              "      <td>0.75</td>\n",
              "      <td>0.75</td>\n",
              "      <td>3.37</td>\n",
              "    </tr>\n",
              "    <tr>\n",
              "      <th>NearestCentroid</th>\n",
              "      <td>0.75</td>\n",
              "      <td>0.75</td>\n",
              "      <td>0.75</td>\n",
              "      <td>0.75</td>\n",
              "      <td>0.03</td>\n",
              "    </tr>\n",
              "    <tr>\n",
              "      <th>LabelPropagation</th>\n",
              "      <td>0.75</td>\n",
              "      <td>0.75</td>\n",
              "      <td>0.75</td>\n",
              "      <td>0.75</td>\n",
              "      <td>2.63</td>\n",
              "    </tr>\n",
              "    <tr>\n",
              "      <th>ExtraTreeClassifier</th>\n",
              "      <td>0.72</td>\n",
              "      <td>0.72</td>\n",
              "      <td>0.72</td>\n",
              "      <td>0.72</td>\n",
              "      <td>0.02</td>\n",
              "    </tr>\n",
              "    <tr>\n",
              "      <th>Perceptron</th>\n",
              "      <td>0.71</td>\n",
              "      <td>0.71</td>\n",
              "      <td>0.71</td>\n",
              "      <td>0.71</td>\n",
              "      <td>0.04</td>\n",
              "    </tr>\n",
              "    <tr>\n",
              "      <th>PassiveAggressiveClassifier</th>\n",
              "      <td>0.69</td>\n",
              "      <td>0.69</td>\n",
              "      <td>0.69</td>\n",
              "      <td>0.69</td>\n",
              "      <td>0.04</td>\n",
              "    </tr>\n",
              "    <tr>\n",
              "      <th>QuadraticDiscriminantAnalysis</th>\n",
              "      <td>0.69</td>\n",
              "      <td>0.69</td>\n",
              "      <td>0.69</td>\n",
              "      <td>0.67</td>\n",
              "      <td>0.03</td>\n",
              "    </tr>\n",
              "    <tr>\n",
              "      <th>GaussianNB</th>\n",
              "      <td>0.68</td>\n",
              "      <td>0.69</td>\n",
              "      <td>0.69</td>\n",
              "      <td>0.66</td>\n",
              "      <td>0.03</td>\n",
              "    </tr>\n",
              "    <tr>\n",
              "      <th>DummyClassifier</th>\n",
              "      <td>0.49</td>\n",
              "      <td>0.50</td>\n",
              "      <td>0.50</td>\n",
              "      <td>0.32</td>\n",
              "      <td>0.02</td>\n",
              "    </tr>\n",
              "  </tbody>\n",
              "</table>\n",
              "</div>\n",
              "      <button class=\"colab-df-convert\" onclick=\"convertToInteractive('df-9b807ed2-50d9-43f9-9114-253dc17b3b7c')\"\n",
              "              title=\"Convert this dataframe to an interactive table.\"\n",
              "              style=\"display:none;\">\n",
              "        \n",
              "  <svg xmlns=\"http://www.w3.org/2000/svg\" height=\"24px\"viewBox=\"0 0 24 24\"\n",
              "       width=\"24px\">\n",
              "    <path d=\"M0 0h24v24H0V0z\" fill=\"none\"/>\n",
              "    <path d=\"M18.56 5.44l.94 2.06.94-2.06 2.06-.94-2.06-.94-.94-2.06-.94 2.06-2.06.94zm-11 1L8.5 8.5l.94-2.06 2.06-.94-2.06-.94L8.5 2.5l-.94 2.06-2.06.94zm10 10l.94 2.06.94-2.06 2.06-.94-2.06-.94-.94-2.06-.94 2.06-2.06.94z\"/><path d=\"M17.41 7.96l-1.37-1.37c-.4-.4-.92-.59-1.43-.59-.52 0-1.04.2-1.43.59L10.3 9.45l-7.72 7.72c-.78.78-.78 2.05 0 2.83L4 21.41c.39.39.9.59 1.41.59.51 0 1.02-.2 1.41-.59l7.78-7.78 2.81-2.81c.8-.78.8-2.07 0-2.86zM5.41 20L4 18.59l7.72-7.72 1.47 1.35L5.41 20z\"/>\n",
              "  </svg>\n",
              "      </button>\n",
              "      \n",
              "  <style>\n",
              "    .colab-df-container {\n",
              "      display:flex;\n",
              "      flex-wrap:wrap;\n",
              "      gap: 12px;\n",
              "    }\n",
              "\n",
              "    .colab-df-convert {\n",
              "      background-color: #E8F0FE;\n",
              "      border: none;\n",
              "      border-radius: 50%;\n",
              "      cursor: pointer;\n",
              "      display: none;\n",
              "      fill: #1967D2;\n",
              "      height: 32px;\n",
              "      padding: 0 0 0 0;\n",
              "      width: 32px;\n",
              "    }\n",
              "\n",
              "    .colab-df-convert:hover {\n",
              "      background-color: #E2EBFA;\n",
              "      box-shadow: 0px 1px 2px rgba(60, 64, 67, 0.3), 0px 1px 3px 1px rgba(60, 64, 67, 0.15);\n",
              "      fill: #174EA6;\n",
              "    }\n",
              "\n",
              "    [theme=dark] .colab-df-convert {\n",
              "      background-color: #3B4455;\n",
              "      fill: #D2E3FC;\n",
              "    }\n",
              "\n",
              "    [theme=dark] .colab-df-convert:hover {\n",
              "      background-color: #434B5C;\n",
              "      box-shadow: 0px 1px 3px 1px rgba(0, 0, 0, 0.15);\n",
              "      filter: drop-shadow(0px 1px 2px rgba(0, 0, 0, 0.3));\n",
              "      fill: #FFFFFF;\n",
              "    }\n",
              "  </style>\n",
              "\n",
              "      <script>\n",
              "        const buttonEl =\n",
              "          document.querySelector('#df-9b807ed2-50d9-43f9-9114-253dc17b3b7c button.colab-df-convert');\n",
              "        buttonEl.style.display =\n",
              "          google.colab.kernel.accessAllowed ? 'block' : 'none';\n",
              "\n",
              "        async function convertToInteractive(key) {\n",
              "          const element = document.querySelector('#df-9b807ed2-50d9-43f9-9114-253dc17b3b7c');\n",
              "          const dataTable =\n",
              "            await google.colab.kernel.invokeFunction('convertToInteractive',\n",
              "                                                     [key], {});\n",
              "          if (!dataTable) return;\n",
              "\n",
              "          const docLinkHtml = 'Like what you see? Visit the ' +\n",
              "            '<a target=\"_blank\" href=https://colab.research.google.com/notebooks/data_table.ipynb>data table notebook</a>'\n",
              "            + ' to learn more about interactive tables.';\n",
              "          element.innerHTML = '';\n",
              "          dataTable['output_type'] = 'display_data';\n",
              "          await google.colab.output.renderOutput(dataTable, element);\n",
              "          const docLink = document.createElement('div');\n",
              "          docLink.innerHTML = docLinkHtml;\n",
              "          element.appendChild(docLink);\n",
              "        }\n",
              "      </script>\n",
              "    </div>\n",
              "  </div>\n",
              "  "
            ]
          },
          "metadata": {},
          "execution_count": 437
        }
      ]
    },
    {
      "cell_type": "markdown",
      "source": [
        "Clearly RandomForestClassifier outperforms"
      ],
      "metadata": {
        "id": "K7kOvELmxQJx"
      }
    },
    {
      "cell_type": "markdown",
      "source": [
        "# Model Tuned Performance"
      ],
      "metadata": {
        "id": "vO7OGQoYrGcL"
      }
    },
    {
      "cell_type": "code",
      "source": [
        "param_grid = {\n",
        "    'n_estimators': range(100,500)\n",
        "    , 'max_depth': range(5,15)\n",
        "    , 'random_state':range(12)\n",
        "\n",
        "}"
      ],
      "metadata": {
        "id": "HXIJB4wM0Vgj"
      },
      "execution_count": 530,
      "outputs": []
    },
    {
      "cell_type": "code",
      "source": [
        "rfc = RandomForestClassifier()\n",
        "\n",
        "rand_search = RandomizedSearchCV(rfc, \n",
        "                                 param_distributions = param_grid, \n",
        "                                 n_iter=2, verbose = True, n_jobs = -1 ,\n",
        "                                 cv=5)\n",
        "rand_search.fit(x_train, y_train)"
      ],
      "metadata": {
        "colab": {
          "base_uri": "https://localhost:8080/"
        },
        "id": "qUwUqT-N6cSp",
        "outputId": "547858cd-fb88-488d-c115-15559bac5d11"
      },
      "execution_count": 533,
      "outputs": [
        {
          "output_type": "stream",
          "name": "stdout",
          "text": [
            "Fitting 5 folds for each of 2 candidates, totalling 10 fits\n"
          ]
        },
        {
          "output_type": "execute_result",
          "data": {
            "text/plain": [
              "RandomizedSearchCV(cv=5, estimator=RandomForestClassifier(), n_iter=2,\n",
              "                   n_jobs=-1,\n",
              "                   param_distributions={'max_depth': range(5, 15),\n",
              "                                        'n_estimators': range(100, 500),\n",
              "                                        'random_state': range(0, 12)},\n",
              "                   verbose=True)"
            ]
          },
          "metadata": {},
          "execution_count": 533
        }
      ]
    },
    {
      "cell_type": "code",
      "source": [
        "# Create a variable for the best model\n",
        "best_rf = rand_search.best_estimator_\n",
        "\n",
        "# Print the best hyperparameters\n",
        "print('Best hyperparameters:',  rand_search.best_params_)"
      ],
      "metadata": {
        "colab": {
          "base_uri": "https://localhost:8080/"
        },
        "id": "hZJ275_G7mS7",
        "outputId": "70137533-7678-44f6-a985-1cf4ee68e735"
      },
      "execution_count": 534,
      "outputs": [
        {
          "output_type": "stream",
          "name": "stdout",
          "text": [
            "Best hyperparameters: {'random_state': 1, 'n_estimators': 207, 'max_depth': 10}\n"
          ]
        }
      ]
    },
    {
      "cell_type": "markdown",
      "source": [
        "# Evaluation Metrics"
      ],
      "metadata": {
        "id": "oeoN3rC38DC3"
      }
    },
    {
      "cell_type": "code",
      "source": [
        "# rand_search = RandomForestClassifier(n_estimators=401)\n",
        "# rand_search.fit(x_train, y_train)\n",
        "# pred = rand_search.predict(x_test)\n",
        "# accuracy_score(y_test,pred)\n",
        "\n",
        "# RandomForestClassifier(max_depth=11, n_estimators=101, random_state=1)\n",
        "#                                                   400"
      ],
      "metadata": {
        "colab": {
          "base_uri": "https://localhost:8080/"
        },
        "id": "OTolKHqDSPW7",
        "outputId": "c58708f7-5bd8-4d51-eeef-ac66bb67fdd6"
      },
      "execution_count": 551,
      "outputs": [
        {
          "output_type": "execute_result",
          "data": {
            "text/plain": [
              "0.8190184049079755"
            ]
          },
          "metadata": {},
          "execution_count": 551
        }
      ]
    },
    {
      "cell_type": "code",
      "source": [
        "pred = rand_search.predict(x_test)\n",
        "accuracy_score(y_test,pred)"
      ],
      "metadata": {
        "colab": {
          "base_uri": "https://localhost:8080/"
        },
        "id": "yFSeReGCrEOi",
        "outputId": "19f4a34e-6425-4bae-abc7-df5cca7f928c"
      },
      "execution_count": 549,
      "outputs": [
        {
          "output_type": "execute_result",
          "data": {
            "text/plain": [
              "0.8159509202453987"
            ]
          },
          "metadata": {},
          "execution_count": 549
        }
      ]
    },
    {
      "cell_type": "code",
      "source": [
        "classification_report(y_test,pred)"
      ],
      "metadata": {
        "colab": {
          "base_uri": "https://localhost:8080/",
          "height": 70
        },
        "id": "2mkc_s9_ySUN",
        "outputId": "5134f3cd-fa9b-48fa-ea10-a51e1211eb7c"
      },
      "execution_count": 504,
      "outputs": [
        {
          "output_type": "execute_result",
          "data": {
            "text/plain": [
              "'              precision    recall  f1-score   support\\n\\n           0       0.82      0.80      0.81      1332\\n           1       0.80      0.82      0.81      1276\\n\\n    accuracy                           0.81      2608\\n   macro avg       0.81      0.81      0.81      2608\\nweighted avg       0.81      0.81      0.81      2608\\n'"
            ],
            "application/vnd.google.colaboratory.intrinsic+json": {
              "type": "string"
            }
          },
          "metadata": {},
          "execution_count": 504
        }
      ]
    },
    {
      "cell_type": "code",
      "source": [
        "cm = confusion_matrix(y_test,pred)\n",
        "ConfusionMatrixDisplay(confusion_matrix=cm).plot();"
      ],
      "metadata": {
        "colab": {
          "base_uri": "https://localhost:8080/",
          "height": 279
        },
        "id": "jXW4jQEE6bn-",
        "outputId": "7c21ff40-be6b-4bdc-880e-acaba39d12eb"
      },
      "execution_count": 523,
      "outputs": [
        {
          "output_type": "display_data",
          "data": {
            "text/plain": [
              "<Figure size 432x288 with 2 Axes>"
            ],
            "image/png": "[encoded data removed]"
          },
          "metadata": {
            "needs_background": "light"
          }
        }
      ]
    },
    {
      "cell_type": "code",
      "source": [
        "pd.Series(best_rf.feature_importances_, index=x_train.columns).sort_values(ascending=False)"
      ],
      "metadata": {
        "colab": {
          "base_uri": "https://localhost:8080/"
        },
        "id": "_zCimny388j8",
        "outputId": "db32c288-74a6-4ded-995a-8baa61749e18"
      },
      "execution_count": 487,
      "outputs": [
        {
          "output_type": "execute_result",
          "data": {
            "text/plain": [
              "total_spend           0.18\n",
              "Spa                   0.11\n",
              "CryoSleep             0.10\n",
              "VRDeck                0.10\n",
              "FoodCourt             0.09\n",
              "RoomService           0.09\n",
              "ShoppingMall          0.07\n",
              "passenger_Id          0.06\n",
              "cabin_deck_numeric    0.06\n",
              "Age                   0.05\n",
              "HomePlanet_numeric    0.05\n",
              "cabin_side_numeric    0.02\n",
              "Destination_numeric   0.02\n",
              "family_member_no      0.01\n",
              "VIP                   0.00\n",
              "dtype: float64"
            ]
          },
          "metadata": {},
          "execution_count": 487
        }
      ]
    },
    {
      "cell_type": "markdown",
      "source": [
        "# Submission"
      ],
      "metadata": {
        "id": "CaLoi7bOUd_z"
      }
    },
    {
      "cell_type": "code",
      "source": [
        "pred = best_rf.predict(submission_x)"
      ],
      "metadata": {
        "id": "-XtpodIMySX0"
      },
      "execution_count": 552,
      "outputs": []
    },
    {
      "cell_type": "code",
      "source": [
        "submission = pd.DataFrame(zip(test_df.PassengerId,pred),columns=['PassengerId','Transported'])"
      ],
      "metadata": {
        "id": "Bd146wAEySbl"
      },
      "execution_count": 553,
      "outputs": []
    },
    {
      "cell_type": "code",
      "source": [
        "submission.Transported=submission.Transported.astype(bool)"
      ],
      "metadata": {
        "id": "WKRe2ZPfEHfc"
      },
      "execution_count": 554,
      "outputs": []
    },
    {
      "cell_type": "code",
      "source": [
        "submission.to_csv(\"submission.csv\",index = None)"
      ],
      "metadata": {
        "id": "H2K7RAtSx3fp"
      },
      "execution_count": 556,
      "outputs": []
    },
    {
      "cell_type": "code",
      "source": [
        "!kaggle competitions submit -c spaceship-titanic -f submission.csv -m \"Message\""
      ],
      "metadata": {
        "colab": {
          "base_uri": "https://localhost:8080/"
        },
        "id": "ZWexm9Tl2fbZ",
        "outputId": "a3086f32-892a-43cd-ffee-5a387daed182"
      },
      "execution_count": 557,
      "outputs": [
        {
          "output_type": "stream",
          "name": "stdout",
          "text": [
            "100% 56.7k/56.7k [00:00<00:00, 102kB/s]\n",
            "400 - Bad Request\n"
          ]
        }
      ]
    },
    {
      "cell_type": "code",
      "source": [],
      "metadata": {
        "id": "xtNfhWP32_cD"
      },
      "execution_count": null,
      "outputs": []
    }
  ]
}